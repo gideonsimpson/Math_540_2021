{
 "cells": [
  {
   "cell_type": "code",
   "execution_count": null,
   "id": "0a60dfb1-11c6-4cff-bdb4-d3efebb560d1",
   "metadata": {},
   "outputs": [],
   "source": [
    "using Plots\n",
    "using Printf\n",
    "using LinearAlgebra"
   ]
  },
  {
   "cell_type": "code",
   "execution_count": null,
   "id": "8c0dfefe-8024-453f-8ad9-e73c18ca06c3",
   "metadata": {},
   "outputs": [],
   "source": [
    "using GZBVP1D"
   ]
  },
  {
   "cell_type": "code",
   "execution_count": null,
   "id": "4846dd9c-95e0-4fb8-a65a-42760392f2db",
   "metadata": {},
   "outputs": [],
   "source": [
    "ϵ = 0.01;\n",
    "n = 19;\n",
    "# problem = FDGZProblem(ϵ, n)\n",
    "problem = FDGZProblem(0, 1, ϵ, n, DirichletBC(-1), DirichletBC(1))"
   ]
  },
  {
   "cell_type": "code",
   "execution_count": null,
   "id": "7a4cd05c-5d40-4b38-b43e-591775abacef",
   "metadata": {},
   "outputs": [],
   "source": [
    "u0 = LinRange(-1,1,n+2)[2:end-1]|>collect"
   ]
  },
  {
   "cell_type": "code",
   "execution_count": null,
   "id": "26a98dde-215e-4708-91ae-0cb0d2545971",
   "metadata": {},
   "outputs": [],
   "source": [
    "soln = solve_gz(u0, problem)"
   ]
  },
  {
   "cell_type": "code",
   "execution_count": null,
   "id": "ad0392d4-2bc6-487b-bb18-efb16e85608e",
   "metadata": {},
   "outputs": [],
   "source": [
    "scatter(problem.x, soln.zero)\n",
    "scatter!(problem.x, u0)"
   ]
  },
  {
   "cell_type": "code",
   "execution_count": null,
   "id": "8ca0628f-3d5c-4a85-ae5a-093476b490c2",
   "metadata": {},
   "outputs": [],
   "source": [
    "norm(soln.zero .- u0)"
   ]
  },
  {
   "cell_type": "code",
   "execution_count": null,
   "id": "abd76937-8a6d-43b7-8cef-e553f70cc085",
   "metadata": {},
   "outputs": [],
   "source": [
    "problem.right_bc.u_bc"
   ]
  },
  {
   "cell_type": "code",
   "execution_count": null,
   "id": "5bbc832d-da41-40b2-83d4-48e61bfb1234",
   "metadata": {},
   "outputs": [],
   "source": [
    "assemble_system!(soln.zero, problem)"
   ]
  },
  {
   "cell_type": "code",
   "execution_count": null,
   "id": "1bdbf050-7242-4672-a481-18017d9094c1",
   "metadata": {},
   "outputs": [],
   "source": [
    "problem.F"
   ]
  },
  {
   "cell_type": "code",
   "execution_count": null,
   "id": "0423f30f-fa45-437c-8940-5ae19ef4f991",
   "metadata": {},
   "outputs": [],
   "source": [
    "soln.zero[1]"
   ]
  },
  {
   "cell_type": "code",
   "execution_count": null,
   "id": "ad581762-75b9-44e9-b512-2bbe35aa88fa",
   "metadata": {},
   "outputs": [],
   "source": [
    "(problem.right_bc.u_bc - 2*soln.zero[end] + soln.zero[end-1])/problem.Δx^2 + "
   ]
  },
  {
   "cell_type": "code",
   "execution_count": null,
   "id": "cff24124-faf1-45d6-baa9-21b2e0a98457",
   "metadata": {},
   "outputs": [],
   "source": [
    "(problem.right_bc.u_bc - 2*soln.zero[end] + soln.zero[end-1])/problem.Δx^2 "
   ]
  },
  {
   "cell_type": "code",
   "execution_count": null,
   "id": "201ca227-00f7-445b-8a9f-87953d568ddb",
   "metadata": {},
   "outputs": [],
   "source": [
    "problem.ϵ * soln.zero[end] * (1-soln.zero[end]^2)"
   ]
  }
 ],
 "metadata": {
  "kernelspec": {
   "display_name": "Julia 1.6.3",
   "language": "julia",
   "name": "julia-1.6"
  },
  "language_info": {
   "file_extension": ".jl",
   "mimetype": "application/julia",
   "name": "julia",
   "version": "1.6.3"
  }
 },
 "nbformat": 4,
 "nbformat_minor": 5
}
