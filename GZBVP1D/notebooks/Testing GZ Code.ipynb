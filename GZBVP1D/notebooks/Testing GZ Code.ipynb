{
 "cells": [
  {
   "cell_type": "code",
   "execution_count": 1,
   "id": "0a60dfb1-11c6-4cff-bdb4-d3efebb560d1",
   "metadata": {},
   "outputs": [],
   "source": [
    "using Plots\n",
    "using Printf\n",
    "using Revise"
   ]
  },
  {
   "cell_type": "code",
   "execution_count": 5,
   "id": "8c0dfefe-8024-453f-8ad9-e73c18ca06c3",
   "metadata": {},
   "outputs": [],
   "source": [
    "using GZBVP1D"
   ]
  },
  {
   "cell_type": "code",
   "execution_count": 47,
   "id": "4846dd9c-95e0-4fb8-a65a-42760392f2db",
   "metadata": {},
   "outputs": [
    {
     "data": {
      "text/plain": [
       "FDGZProblem{DirichletBC, DirichletBC}(0, 1, 0.02, 49, range(0.02, stop=0.98, length=49), 0.001, [0.0, 0.0, 0.0, 0.0, 0.0, 0.0, 0.0, 0.0, 0.0, 0.0  …  0.0, 0.0, 0.0, 0.0, 0.0, 0.0, 0.0, 0.0, 0.0, 0.0], DirichletBC(-1), DirichletBC(1))"
      ]
     },
     "execution_count": 47,
     "metadata": {},
     "output_type": "execute_result"
    }
   ],
   "source": [
    "ϵ = 0.001;\n",
    "n = 49;\n",
    "problem = FDGZProblem(ϵ, n)"
   ]
  },
  {
   "cell_type": "code",
   "execution_count": 48,
   "id": "7a4cd05c-5d40-4b38-b43e-591775abacef",
   "metadata": {},
   "outputs": [
    {
     "data": {
      "text/plain": [
       "49-element Vector{Float64}:\n",
       " -0.96\n",
       " -0.9199999999999999\n",
       " -0.88\n",
       " -0.8399999999999999\n",
       " -0.7999999999999999\n",
       " -0.76\n",
       " -0.72\n",
       " -0.6799999999999999\n",
       " -0.6400000000000001\n",
       " -0.6000000000000001\n",
       " -0.5599999999999998\n",
       " -0.52\n",
       " -0.48\n",
       "  ⋮\n",
       "  0.52\n",
       "  0.5599999999999998\n",
       "  0.6000000000000001\n",
       "  0.6400000000000001\n",
       "  0.6799999999999999\n",
       "  0.72\n",
       "  0.76\n",
       "  0.7999999999999998\n",
       "  0.8399999999999999\n",
       "  0.8800000000000001\n",
       "  0.9199999999999999\n",
       "  0.96"
      ]
     },
     "execution_count": 48,
     "metadata": {},
     "output_type": "execute_result"
    }
   ],
   "source": [
    "u0 = LinRange(-1,1,n+2)[2:end-1]|>collect"
   ]
  },
  {
   "cell_type": "code",
   "execution_count": 49,
   "id": "26a98dde-215e-4708-91ae-0cb0d2545971",
   "metadata": {},
   "outputs": [
    {
     "data": {
      "text/plain": [
       "Results of Nonlinear Solver Algorithm\n",
       " * Algorithm: Trust-region with dogleg and autoscaling\n",
       " * Starting Point: [-0.96, -0.9199999999999999, -0.88, -0.8399999999999999, -0.7999999999999999, -0.76, -0.72, -0.6799999999999999, -0.6400000000000001, -0.6000000000000001, -0.5599999999999998, -0.52, -0.48, -0.4400000000000001, -0.3999999999999999, -0.35999999999999993, -0.32000000000000006, -0.27999999999999986, -0.24, -0.20000000000000012, -0.15999999999999992, -0.12000000000000005, -0.08000000000000007, -0.03999999999999987, 0.0, 0.040000000000000036, 0.0799999999999999, 0.12000000000000005, 0.1600000000000001, 0.19999999999999996, 0.24, 0.28, 0.3199999999999999, 0.35999999999999993, 0.4000000000000001, 0.43999999999999995, 0.48, 0.52, 0.5599999999999998, 0.6000000000000001, 0.6400000000000001, 0.6799999999999999, 0.72, 0.76, 0.7999999999999998, 0.8399999999999999, 0.8800000000000001, 0.9199999999999999, 0.96]\n",
       " * Zero: [-0.9600013306612472, -0.9200026312178338, -0.8800038752512402, -0.8400050398754978, -0.8000061055836069, -0.7600070560939627, -0.7200078781967868, -0.6800085616005606, -0.6400090987784604, -0.6000094848147929, -0.5600097172514288, -0.5200097959342347, -0.480009722859501, -0.4400095020203662, -0.40000913925323806, -0.36000864208420896, -0.32000801957546704, -0.28000728217170273, -0.24000644154651063, -0.2000055104487872, -0.16000450254912407, -0.12000343228619827, -0.08000231471315884, -0.04000116534401131, 1.207752457123027e-16, 0.040001165344011554, 0.08000231471315908, 0.1200034322861985, 0.16000450254912432, 0.20000551044878745, 0.24000644154651088, 0.28000728217170295, 0.32000801957546726, 0.3600086420842092, 0.4000091392532383, 0.4400095020203664, 0.4800097228595013, 0.520009795934235, 0.5600097172514291, 0.6000094848147931, 0.6400090987784606, 0.6800085616005608, 0.720007878196787, 0.7600070560939628, 0.800006105583607, 0.8400050398754979, 0.8800038752512402, 0.9200026312178338, 0.9600013306612472]\n",
       " * Inf-norm of residuals: 0.000000\n",
       " * Iterations: 1\n",
       " * Convergence: true\n",
       "   * |x - x'| < 0.0e+00: false\n",
       "   * |f(x)| < 1.0e-08: true\n",
       " * Function Calls (f): 2\n",
       " * Jacobian Calls (df/dx): 2"
      ]
     },
     "execution_count": 49,
     "metadata": {},
     "output_type": "execute_result"
    }
   ],
   "source": [
    "soln = solve_gz(u0, problem)"
   ]
  },
  {
   "cell_type": "code",
   "execution_count": 50,
   "id": "ad0392d4-2bc6-487b-bb18-efb16e85608e",
   "metadata": {},
   "outputs": [
    {
     "data": {
      "image/svg+xml": [
       "<?xml version=\"1.0\" encoding=\"utf-8\"?>\n",
       "<svg xmlns=\"http://www.w3.org/2000/svg\" xmlns:xlink=\"http://www.w3.org/1999/xlink\" width=\"600\" height=\"400\" viewBox=\"0 0 2400 1600\">\n",
       "<defs>\n",
       "  <clipPath id=\"clip240\">\n",
       "    <rect x=\"0\" y=\"0\" width=\"2400\" height=\"1600\"/>\n",
       "  </clipPath>\n",
       "</defs>\n",
       "<path clip-path=\"url(#clip240)\" d=\"\n",
       "M0 1600 L2400 1600 L2400 0 L0 0  Z\n",
       "  \" fill=\"#ffffff\" fill-rule=\"evenodd\" fill-opacity=\"1\"/>\n",
       "<defs>\n",
       "  <clipPath id=\"clip241\">\n",
       "    <rect x=\"480\" y=\"0\" width=\"1681\" height=\"1600\"/>\n",
       "  </clipPath>\n",
       "</defs>\n",
       "<path clip-path=\"url(#clip240)\" d=\"\n",
       "M193.936 1486.45 L2352.76 1486.45 L2352.76 47.2441 L193.936 47.2441  Z\n",
       "  \" fill=\"#ffffff\" fill-rule=\"evenodd\" fill-opacity=\"1\"/>\n",
       "<defs>\n",
       "  <clipPath id=\"clip242\">\n",
       "    <rect x=\"193\" y=\"47\" width=\"2160\" height=\"1440\"/>\n",
       "  </clipPath>\n",
       "</defs>\n",
       "<polyline clip-path=\"url(#clip242)\" style=\"stroke:#000000; stroke-linecap:butt; stroke-linejoin:round; stroke-width:2; stroke-opacity:0.1; fill:none\" points=\"\n",
       "  212.605,1486.45 212.605,47.2441 \n",
       "  \"/>\n",
       "<polyline clip-path=\"url(#clip242)\" style=\"stroke:#000000; stroke-linecap:butt; stroke-linejoin:round; stroke-width:2; stroke-opacity:0.1; fill:none\" points=\"\n",
       "  742.975,1486.45 742.975,47.2441 \n",
       "  \"/>\n",
       "<polyline clip-path=\"url(#clip242)\" style=\"stroke:#000000; stroke-linecap:butt; stroke-linejoin:round; stroke-width:2; stroke-opacity:0.1; fill:none\" points=\"\n",
       "  1273.35,1486.45 1273.35,47.2441 \n",
       "  \"/>\n",
       "<polyline clip-path=\"url(#clip242)\" style=\"stroke:#000000; stroke-linecap:butt; stroke-linejoin:round; stroke-width:2; stroke-opacity:0.1; fill:none\" points=\"\n",
       "  1803.72,1486.45 1803.72,47.2441 \n",
       "  \"/>\n",
       "<polyline clip-path=\"url(#clip242)\" style=\"stroke:#000000; stroke-linecap:butt; stroke-linejoin:round; stroke-width:2; stroke-opacity:0.1; fill:none\" points=\"\n",
       "  2334.09,1486.45 2334.09,47.2441 \n",
       "  \"/>\n",
       "<polyline clip-path=\"url(#clip240)\" style=\"stroke:#000000; stroke-linecap:butt; stroke-linejoin:round; stroke-width:4; stroke-opacity:1; fill:none\" points=\"\n",
       "  193.936,1486.45 2352.76,1486.45 \n",
       "  \"/>\n",
       "<polyline clip-path=\"url(#clip240)\" style=\"stroke:#000000; stroke-linecap:butt; stroke-linejoin:round; stroke-width:4; stroke-opacity:1; fill:none\" points=\"\n",
       "  212.605,1486.45 212.605,1467.55 \n",
       "  \"/>\n",
       "<polyline clip-path=\"url(#clip240)\" style=\"stroke:#000000; stroke-linecap:butt; stroke-linejoin:round; stroke-width:4; stroke-opacity:1; fill:none\" points=\"\n",
       "  742.975,1486.45 742.975,1467.55 \n",
       "  \"/>\n",
       "<polyline clip-path=\"url(#clip240)\" style=\"stroke:#000000; stroke-linecap:butt; stroke-linejoin:round; stroke-width:4; stroke-opacity:1; fill:none\" points=\"\n",
       "  1273.35,1486.45 1273.35,1467.55 \n",
       "  \"/>\n",
       "<polyline clip-path=\"url(#clip240)\" style=\"stroke:#000000; stroke-linecap:butt; stroke-linejoin:round; stroke-width:4; stroke-opacity:1; fill:none\" points=\"\n",
       "  1803.72,1486.45 1803.72,1467.55 \n",
       "  \"/>\n",
       "<polyline clip-path=\"url(#clip240)\" style=\"stroke:#000000; stroke-linecap:butt; stroke-linejoin:round; stroke-width:4; stroke-opacity:1; fill:none\" points=\"\n",
       "  2334.09,1486.45 2334.09,1467.55 \n",
       "  \"/>\n",
       "<path clip-path=\"url(#clip240)\" d=\"M174.908 1517.37 Q171.297 1517.37 169.469 1520.93 Q167.663 1524.47 167.663 1531.6 Q167.663 1538.71 169.469 1542.27 Q171.297 1545.82 174.908 1545.82 Q178.543 1545.82 180.348 1542.27 Q182.177 1538.71 182.177 1531.6 Q182.177 1524.47 180.348 1520.93 Q178.543 1517.37 174.908 1517.37 M174.908 1513.66 Q180.719 1513.66 183.774 1518.27 Q186.853 1522.85 186.853 1531.6 Q186.853 1540.33 183.774 1544.94 Q180.719 1549.52 174.908 1549.52 Q169.098 1549.52 166.02 1544.94 Q162.964 1540.33 162.964 1531.6 Q162.964 1522.85 166.02 1518.27 Q169.098 1513.66 174.908 1513.66 Z\" fill=\"#000000\" fill-rule=\"evenodd\" fill-opacity=\"1\" /><path clip-path=\"url(#clip240)\" d=\"M195.07 1542.97 L199.955 1542.97 L199.955 1548.85 L195.07 1548.85 L195.07 1542.97 Z\" fill=\"#000000\" fill-rule=\"evenodd\" fill-opacity=\"1\" /><path clip-path=\"url(#clip240)\" d=\"M220.14 1517.37 Q216.529 1517.37 214.7 1520.93 Q212.894 1524.47 212.894 1531.6 Q212.894 1538.71 214.7 1542.27 Q216.529 1545.82 220.14 1545.82 Q223.774 1545.82 225.58 1542.27 Q227.408 1538.71 227.408 1531.6 Q227.408 1524.47 225.58 1520.93 Q223.774 1517.37 220.14 1517.37 M220.14 1513.66 Q225.95 1513.66 229.005 1518.27 Q232.084 1522.85 232.084 1531.6 Q232.084 1540.33 229.005 1544.94 Q225.95 1549.52 220.14 1549.52 Q214.33 1549.52 211.251 1544.94 Q208.195 1540.33 208.195 1531.6 Q208.195 1522.85 211.251 1518.27 Q214.33 1513.66 220.14 1513.66 Z\" fill=\"#000000\" fill-rule=\"evenodd\" fill-opacity=\"1\" /><path clip-path=\"url(#clip240)\" d=\"M250.302 1517.37 Q246.691 1517.37 244.862 1520.93 Q243.056 1524.47 243.056 1531.6 Q243.056 1538.71 244.862 1542.27 Q246.691 1545.82 250.302 1545.82 Q253.936 1545.82 255.741 1542.27 Q257.57 1538.71 257.57 1531.6 Q257.57 1524.47 255.741 1520.93 Q253.936 1517.37 250.302 1517.37 M250.302 1513.66 Q256.112 1513.66 259.167 1518.27 Q262.246 1522.85 262.246 1531.6 Q262.246 1540.33 259.167 1544.94 Q256.112 1549.52 250.302 1549.52 Q244.491 1549.52 241.413 1544.94 Q238.357 1540.33 238.357 1531.6 Q238.357 1522.85 241.413 1518.27 Q244.491 1513.66 250.302 1513.66 Z\" fill=\"#000000\" fill-rule=\"evenodd\" fill-opacity=\"1\" /><path clip-path=\"url(#clip240)\" d=\"M705.777 1517.37 Q702.166 1517.37 700.337 1520.93 Q698.531 1524.47 698.531 1531.6 Q698.531 1538.71 700.337 1542.27 Q702.166 1545.82 705.777 1545.82 Q709.411 1545.82 711.216 1542.27 Q713.045 1538.71 713.045 1531.6 Q713.045 1524.47 711.216 1520.93 Q709.411 1517.37 705.777 1517.37 M705.777 1513.66 Q711.587 1513.66 714.642 1518.27 Q717.721 1522.85 717.721 1531.6 Q717.721 1540.33 714.642 1544.94 Q711.587 1549.52 705.777 1549.52 Q699.966 1549.52 696.888 1544.94 Q693.832 1540.33 693.832 1531.6 Q693.832 1522.85 696.888 1518.27 Q699.966 1513.66 705.777 1513.66 Z\" fill=\"#000000\" fill-rule=\"evenodd\" fill-opacity=\"1\" /><path clip-path=\"url(#clip240)\" d=\"M725.939 1542.97 L730.823 1542.97 L730.823 1548.85 L725.939 1548.85 L725.939 1542.97 Z\" fill=\"#000000\" fill-rule=\"evenodd\" fill-opacity=\"1\" /><path clip-path=\"url(#clip240)\" d=\"M745.036 1544.91 L761.355 1544.91 L761.355 1548.85 L739.411 1548.85 L739.411 1544.91 Q742.073 1542.16 746.656 1537.53 Q751.262 1532.88 752.443 1531.53 Q754.688 1529.01 755.568 1527.27 Q756.471 1525.51 756.471 1523.82 Q756.471 1521.07 754.526 1519.33 Q752.605 1517.6 749.503 1517.6 Q747.304 1517.6 744.85 1518.36 Q742.42 1519.13 739.642 1520.68 L739.642 1515.95 Q742.466 1514.82 744.92 1514.24 Q747.374 1513.66 749.411 1513.66 Q754.781 1513.66 757.975 1516.35 Q761.17 1519.03 761.17 1523.52 Q761.17 1525.65 760.36 1527.57 Q759.573 1529.47 757.466 1532.07 Q756.887 1532.74 753.786 1535.95 Q750.684 1539.15 745.036 1544.91 Z\" fill=\"#000000\" fill-rule=\"evenodd\" fill-opacity=\"1\" /><path clip-path=\"url(#clip240)\" d=\"M771.216 1514.29 L789.572 1514.29 L789.572 1518.22 L775.498 1518.22 L775.498 1526.7 Q776.517 1526.35 777.535 1526.19 Q778.554 1526 779.573 1526 Q785.36 1526 788.739 1529.17 Q792.119 1532.34 792.119 1537.76 Q792.119 1543.34 788.647 1546.44 Q785.174 1549.52 778.855 1549.52 Q776.679 1549.52 774.411 1549.15 Q772.165 1548.78 769.758 1548.04 L769.758 1543.34 Q771.841 1544.47 774.063 1545.03 Q776.286 1545.58 778.762 1545.58 Q782.767 1545.58 785.105 1543.48 Q787.443 1541.37 787.443 1537.76 Q787.443 1534.15 785.105 1532.04 Q782.767 1529.94 778.762 1529.94 Q776.887 1529.94 775.012 1530.35 Q773.161 1530.77 771.216 1531.65 L771.216 1514.29 Z\" fill=\"#000000\" fill-rule=\"evenodd\" fill-opacity=\"1\" /><path clip-path=\"url(#clip240)\" d=\"M1235.65 1517.37 Q1232.04 1517.37 1230.21 1520.93 Q1228.4 1524.47 1228.4 1531.6 Q1228.4 1538.71 1230.21 1542.27 Q1232.04 1545.82 1235.65 1545.82 Q1239.28 1545.82 1241.09 1542.27 Q1242.92 1538.71 1242.92 1531.6 Q1242.92 1524.47 1241.09 1520.93 Q1239.28 1517.37 1235.65 1517.37 M1235.65 1513.66 Q1241.46 1513.66 1244.52 1518.27 Q1247.59 1522.85 1247.59 1531.6 Q1247.59 1540.33 1244.52 1544.94 Q1241.46 1549.52 1235.65 1549.52 Q1229.84 1549.52 1226.76 1544.94 Q1223.71 1540.33 1223.71 1531.6 Q1223.71 1522.85 1226.76 1518.27 Q1229.84 1513.66 1235.65 1513.66 Z\" fill=\"#000000\" fill-rule=\"evenodd\" fill-opacity=\"1\" /><path clip-path=\"url(#clip240)\" d=\"M1255.81 1542.97 L1260.7 1542.97 L1260.7 1548.85 L1255.81 1548.85 L1255.81 1542.97 Z\" fill=\"#000000\" fill-rule=\"evenodd\" fill-opacity=\"1\" /><path clip-path=\"url(#clip240)\" d=\"M1270.93 1514.29 L1289.28 1514.29 L1289.28 1518.22 L1275.21 1518.22 L1275.21 1526.7 Q1276.23 1526.35 1277.25 1526.19 Q1278.26 1526 1279.28 1526 Q1285.07 1526 1288.45 1529.17 Q1291.83 1532.34 1291.83 1537.76 Q1291.83 1543.34 1288.36 1546.44 Q1284.89 1549.52 1278.57 1549.52 Q1276.39 1549.52 1274.12 1549.15 Q1271.88 1548.78 1269.47 1548.04 L1269.47 1543.34 Q1271.55 1544.47 1273.77 1545.03 Q1276 1545.58 1278.47 1545.58 Q1282.48 1545.58 1284.82 1543.48 Q1287.15 1541.37 1287.15 1537.76 Q1287.15 1534.15 1284.82 1532.04 Q1282.48 1529.94 1278.47 1529.94 Q1276.6 1529.94 1274.72 1530.35 Q1272.87 1530.77 1270.93 1531.65 L1270.93 1514.29 Z\" fill=\"#000000\" fill-rule=\"evenodd\" fill-opacity=\"1\" /><path clip-path=\"url(#clip240)\" d=\"M1311.04 1517.37 Q1307.43 1517.37 1305.6 1520.93 Q1303.8 1524.47 1303.8 1531.6 Q1303.8 1538.71 1305.6 1542.27 Q1307.43 1545.82 1311.04 1545.82 Q1314.68 1545.82 1316.48 1542.27 Q1318.31 1538.71 1318.31 1531.6 Q1318.31 1524.47 1316.48 1520.93 Q1314.68 1517.37 1311.04 1517.37 M1311.04 1513.66 Q1316.85 1513.66 1319.91 1518.27 Q1322.99 1522.85 1322.99 1531.6 Q1322.99 1540.33 1319.91 1544.94 Q1316.85 1549.52 1311.04 1549.52 Q1305.23 1549.52 1302.15 1544.94 Q1299.1 1540.33 1299.1 1531.6 Q1299.1 1522.85 1302.15 1518.27 Q1305.23 1513.66 1311.04 1513.66 Z\" fill=\"#000000\" fill-rule=\"evenodd\" fill-opacity=\"1\" /><path clip-path=\"url(#clip240)\" d=\"M1766.52 1517.37 Q1762.91 1517.37 1761.08 1520.93 Q1759.27 1524.47 1759.27 1531.6 Q1759.27 1538.71 1761.08 1542.27 Q1762.91 1545.82 1766.52 1545.82 Q1770.15 1545.82 1771.96 1542.27 Q1773.79 1538.71 1773.79 1531.6 Q1773.79 1524.47 1771.96 1520.93 Q1770.15 1517.37 1766.52 1517.37 M1766.52 1513.66 Q1772.33 1513.66 1775.38 1518.27 Q1778.46 1522.85 1778.46 1531.6 Q1778.46 1540.33 1775.38 1544.94 Q1772.33 1549.52 1766.52 1549.52 Q1760.71 1549.52 1757.63 1544.94 Q1754.57 1540.33 1754.57 1531.6 Q1754.57 1522.85 1757.63 1518.27 Q1760.71 1513.66 1766.52 1513.66 Z\" fill=\"#000000\" fill-rule=\"evenodd\" fill-opacity=\"1\" /><path clip-path=\"url(#clip240)\" d=\"M1786.68 1542.97 L1791.56 1542.97 L1791.56 1548.85 L1786.68 1548.85 L1786.68 1542.97 Z\" fill=\"#000000\" fill-rule=\"evenodd\" fill-opacity=\"1\" /><path clip-path=\"url(#clip240)\" d=\"M1800.57 1514.29 L1822.79 1514.29 L1822.79 1516.28 L1810.24 1548.85 L1805.36 1548.85 L1817.17 1518.22 L1800.57 1518.22 L1800.57 1514.29 Z\" fill=\"#000000\" fill-rule=\"evenodd\" fill-opacity=\"1\" /><path clip-path=\"url(#clip240)\" d=\"M1831.96 1514.29 L1850.31 1514.29 L1850.31 1518.22 L1836.24 1518.22 L1836.24 1526.7 Q1837.26 1526.35 1838.28 1526.19 Q1839.29 1526 1840.31 1526 Q1846.1 1526 1849.48 1529.17 Q1852.86 1532.34 1852.86 1537.76 Q1852.86 1543.34 1849.39 1546.44 Q1845.92 1549.52 1839.6 1549.52 Q1837.42 1549.52 1835.15 1549.15 Q1832.91 1548.78 1830.5 1548.04 L1830.5 1543.34 Q1832.58 1544.47 1834.8 1545.03 Q1837.03 1545.58 1839.5 1545.58 Q1843.51 1545.58 1845.85 1543.48 Q1848.18 1541.37 1848.18 1537.76 Q1848.18 1534.15 1845.85 1532.04 Q1843.51 1529.94 1839.5 1529.94 Q1837.63 1529.94 1835.75 1530.35 Q1833.9 1530.77 1831.96 1531.65 L1831.96 1514.29 Z\" fill=\"#000000\" fill-rule=\"evenodd\" fill-opacity=\"1\" /><path clip-path=\"url(#clip240)\" d=\"M2286.16 1544.91 L2293.8 1544.91 L2293.8 1518.55 L2285.49 1520.21 L2285.49 1515.95 L2293.75 1514.29 L2298.43 1514.29 L2298.43 1544.91 L2306.07 1544.91 L2306.07 1548.85 L2286.16 1548.85 L2286.16 1544.91 Z\" fill=\"#000000\" fill-rule=\"evenodd\" fill-opacity=\"1\" /><path clip-path=\"url(#clip240)\" d=\"M2315.51 1542.97 L2320.39 1542.97 L2320.39 1548.85 L2315.51 1548.85 L2315.51 1542.97 Z\" fill=\"#000000\" fill-rule=\"evenodd\" fill-opacity=\"1\" /><path clip-path=\"url(#clip240)\" d=\"M2340.58 1517.37 Q2336.97 1517.37 2335.14 1520.93 Q2333.33 1524.47 2333.33 1531.6 Q2333.33 1538.71 2335.14 1542.27 Q2336.97 1545.82 2340.58 1545.82 Q2344.21 1545.82 2346.02 1542.27 Q2347.85 1538.71 2347.85 1531.6 Q2347.85 1524.47 2346.02 1520.93 Q2344.21 1517.37 2340.58 1517.37 M2340.58 1513.66 Q2346.39 1513.66 2349.45 1518.27 Q2352.52 1522.85 2352.52 1531.6 Q2352.52 1540.33 2349.45 1544.94 Q2346.39 1549.52 2340.58 1549.52 Q2334.77 1549.52 2331.69 1544.94 Q2328.64 1540.33 2328.64 1531.6 Q2328.64 1522.85 2331.69 1518.27 Q2334.77 1513.66 2340.58 1513.66 Z\" fill=\"#000000\" fill-rule=\"evenodd\" fill-opacity=\"1\" /><path clip-path=\"url(#clip240)\" d=\"M2370.74 1517.37 Q2367.13 1517.37 2365.3 1520.93 Q2363.5 1524.47 2363.5 1531.6 Q2363.5 1538.71 2365.3 1542.27 Q2367.13 1545.82 2370.74 1545.82 Q2374.38 1545.82 2376.18 1542.27 Q2378.01 1538.71 2378.01 1531.6 Q2378.01 1524.47 2376.18 1520.93 Q2374.38 1517.37 2370.74 1517.37 M2370.74 1513.66 Q2376.55 1513.66 2379.61 1518.27 Q2382.69 1522.85 2382.69 1531.6 Q2382.69 1540.33 2379.61 1544.94 Q2376.55 1549.52 2370.74 1549.52 Q2364.93 1549.52 2361.85 1544.94 Q2358.8 1540.33 2358.8 1531.6 Q2358.8 1522.85 2361.85 1518.27 Q2364.93 1513.66 2370.74 1513.66 Z\" fill=\"#000000\" fill-rule=\"evenodd\" fill-opacity=\"1\" /><polyline clip-path=\"url(#clip242)\" style=\"stroke:#000000; stroke-linecap:butt; stroke-linejoin:round; stroke-width:2; stroke-opacity:0.1; fill:none\" points=\"\n",
       "  193.936,1474 2352.76,1474 \n",
       "  \"/>\n",
       "<polyline clip-path=\"url(#clip242)\" style=\"stroke:#000000; stroke-linecap:butt; stroke-linejoin:round; stroke-width:2; stroke-opacity:0.1; fill:none\" points=\"\n",
       "  193.936,1120.42 2352.76,1120.42 \n",
       "  \"/>\n",
       "<polyline clip-path=\"url(#clip242)\" style=\"stroke:#000000; stroke-linecap:butt; stroke-linejoin:round; stroke-width:2; stroke-opacity:0.1; fill:none\" points=\"\n",
       "  193.936,766.846 2352.76,766.846 \n",
       "  \"/>\n",
       "<polyline clip-path=\"url(#clip242)\" style=\"stroke:#000000; stroke-linecap:butt; stroke-linejoin:round; stroke-width:2; stroke-opacity:0.1; fill:none\" points=\"\n",
       "  193.936,413.269 2352.76,413.269 \n",
       "  \"/>\n",
       "<polyline clip-path=\"url(#clip242)\" style=\"stroke:#000000; stroke-linecap:butt; stroke-linejoin:round; stroke-width:2; stroke-opacity:0.1; fill:none\" points=\"\n",
       "  193.936,59.691 2352.76,59.691 \n",
       "  \"/>\n",
       "<polyline clip-path=\"url(#clip240)\" style=\"stroke:#000000; stroke-linecap:butt; stroke-linejoin:round; stroke-width:4; stroke-opacity:1; fill:none\" points=\"\n",
       "  193.936,1486.45 193.936,47.2441 \n",
       "  \"/>\n",
       "<polyline clip-path=\"url(#clip240)\" style=\"stroke:#000000; stroke-linecap:butt; stroke-linejoin:round; stroke-width:4; stroke-opacity:1; fill:none\" points=\"\n",
       "  193.936,1474 212.834,1474 \n",
       "  \"/>\n",
       "<polyline clip-path=\"url(#clip240)\" style=\"stroke:#000000; stroke-linecap:butt; stroke-linejoin:round; stroke-width:4; stroke-opacity:1; fill:none\" points=\"\n",
       "  193.936,1120.42 212.834,1120.42 \n",
       "  \"/>\n",
       "<polyline clip-path=\"url(#clip240)\" style=\"stroke:#000000; stroke-linecap:butt; stroke-linejoin:round; stroke-width:4; stroke-opacity:1; fill:none\" points=\"\n",
       "  193.936,766.846 212.834,766.846 \n",
       "  \"/>\n",
       "<polyline clip-path=\"url(#clip240)\" style=\"stroke:#000000; stroke-linecap:butt; stroke-linejoin:round; stroke-width:4; stroke-opacity:1; fill:none\" points=\"\n",
       "  193.936,413.269 212.834,413.269 \n",
       "  \"/>\n",
       "<polyline clip-path=\"url(#clip240)\" style=\"stroke:#000000; stroke-linecap:butt; stroke-linejoin:round; stroke-width:4; stroke-opacity:1; fill:none\" points=\"\n",
       "  193.936,59.691 212.834,59.691 \n",
       "  \"/>\n",
       "<path clip-path=\"url(#clip240)\" d=\"M50.9921 1474.45 L80.6679 1474.45 L80.6679 1478.39 L50.9921 1478.39 L50.9921 1474.45 Z\" fill=\"#000000\" fill-rule=\"evenodd\" fill-opacity=\"1\" /><path clip-path=\"url(#clip240)\" d=\"M91.5706 1487.35 L99.2095 1487.35 L99.2095 1460.98 L90.8993 1462.65 L90.8993 1458.39 L99.1632 1456.72 L103.839 1456.72 L103.839 1487.35 L111.478 1487.35 L111.478 1491.28 L91.5706 1491.28 L91.5706 1487.35 Z\" fill=\"#000000\" fill-rule=\"evenodd\" fill-opacity=\"1\" /><path clip-path=\"url(#clip240)\" d=\"M120.922 1485.4 L125.807 1485.4 L125.807 1491.28 L120.922 1491.28 L120.922 1485.4 Z\" fill=\"#000000\" fill-rule=\"evenodd\" fill-opacity=\"1\" /><path clip-path=\"url(#clip240)\" d=\"M145.992 1459.8 Q142.381 1459.8 140.552 1463.36 Q138.746 1466.91 138.746 1474.04 Q138.746 1481.14 140.552 1484.71 Q142.381 1488.25 145.992 1488.25 Q149.626 1488.25 151.431 1484.71 Q153.26 1481.14 153.26 1474.04 Q153.26 1466.91 151.431 1463.36 Q149.626 1459.8 145.992 1459.8 M145.992 1456.1 Q151.802 1456.1 154.857 1460.7 Q157.936 1465.29 157.936 1474.04 Q157.936 1482.76 154.857 1487.37 Q151.802 1491.95 145.992 1491.95 Q140.181 1491.95 137.103 1487.37 Q134.047 1482.76 134.047 1474.04 Q134.047 1465.29 137.103 1460.7 Q140.181 1456.1 145.992 1456.1 Z\" fill=\"#000000\" fill-rule=\"evenodd\" fill-opacity=\"1\" /><path clip-path=\"url(#clip240)\" d=\"M51.9875 1120.87 L81.6633 1120.87 L81.6633 1124.81 L51.9875 1124.81 L51.9875 1120.87 Z\" fill=\"#000000\" fill-rule=\"evenodd\" fill-opacity=\"1\" /><path clip-path=\"url(#clip240)\" d=\"M101.756 1106.22 Q98.1447 1106.22 96.316 1109.79 Q94.5104 1113.33 94.5104 1120.46 Q94.5104 1127.56 96.316 1131.13 Q98.1447 1134.67 101.756 1134.67 Q105.39 1134.67 107.196 1131.13 Q109.024 1127.56 109.024 1120.46 Q109.024 1113.33 107.196 1109.79 Q105.39 1106.22 101.756 1106.22 M101.756 1102.52 Q107.566 1102.52 110.621 1107.12 Q113.7 1111.71 113.7 1120.46 Q113.7 1129.18 110.621 1133.79 Q107.566 1138.37 101.756 1138.37 Q95.9456 1138.37 92.8669 1133.79 Q89.8114 1129.18 89.8114 1120.46 Q89.8114 1111.71 92.8669 1107.12 Q95.9456 1102.52 101.756 1102.52 Z\" fill=\"#000000\" fill-rule=\"evenodd\" fill-opacity=\"1\" /><path clip-path=\"url(#clip240)\" d=\"M121.918 1131.82 L126.802 1131.82 L126.802 1137.7 L121.918 1137.7 L121.918 1131.82 Z\" fill=\"#000000\" fill-rule=\"evenodd\" fill-opacity=\"1\" /><path clip-path=\"url(#clip240)\" d=\"M137.033 1103.14 L155.39 1103.14 L155.39 1107.08 L141.316 1107.08 L141.316 1115.55 Q142.334 1115.2 143.353 1115.04 Q144.371 1114.86 145.39 1114.86 Q151.177 1114.86 154.556 1118.03 Q157.936 1121.2 157.936 1126.62 Q157.936 1132.19 154.464 1135.3 Q150.992 1138.37 144.672 1138.37 Q142.496 1138.37 140.228 1138 Q137.982 1137.63 135.575 1136.89 L135.575 1132.19 Q137.658 1133.33 139.881 1133.88 Q142.103 1134.44 144.58 1134.44 Q148.584 1134.44 150.922 1132.33 Q153.26 1130.23 153.26 1126.62 Q153.26 1123 150.922 1120.9 Q148.584 1118.79 144.58 1118.79 Q142.705 1118.79 140.83 1119.21 Q138.978 1119.62 137.033 1120.5 L137.033 1103.14 Z\" fill=\"#000000\" fill-rule=\"evenodd\" fill-opacity=\"1\" /><path clip-path=\"url(#clip240)\" d=\"M100.76 752.645 Q97.1493 752.645 95.3206 756.209 Q93.515 759.751 93.515 766.881 Q93.515 773.987 95.3206 777.552 Q97.1493 781.094 100.76 781.094 Q104.395 781.094 106.2 777.552 Q108.029 773.987 108.029 766.881 Q108.029 759.751 106.2 756.209 Q104.395 752.645 100.76 752.645 M100.76 748.941 Q106.571 748.941 109.626 753.547 Q112.705 758.131 112.705 766.881 Q112.705 775.608 109.626 780.214 Q106.571 784.797 100.76 784.797 Q94.9502 784.797 91.8715 780.214 Q88.816 775.608 88.816 766.881 Q88.816 758.131 91.8715 753.547 Q94.9502 748.941 100.76 748.941 Z\" fill=\"#000000\" fill-rule=\"evenodd\" fill-opacity=\"1\" /><path clip-path=\"url(#clip240)\" d=\"M120.922 778.246 L125.807 778.246 L125.807 784.126 L120.922 784.126 L120.922 778.246 Z\" fill=\"#000000\" fill-rule=\"evenodd\" fill-opacity=\"1\" /><path clip-path=\"url(#clip240)\" d=\"M145.992 752.645 Q142.381 752.645 140.552 756.209 Q138.746 759.751 138.746 766.881 Q138.746 773.987 140.552 777.552 Q142.381 781.094 145.992 781.094 Q149.626 781.094 151.431 777.552 Q153.26 773.987 153.26 766.881 Q153.26 759.751 151.431 756.209 Q149.626 752.645 145.992 752.645 M145.992 748.941 Q151.802 748.941 154.857 753.547 Q157.936 758.131 157.936 766.881 Q157.936 775.608 154.857 780.214 Q151.802 784.797 145.992 784.797 Q140.181 784.797 137.103 780.214 Q134.047 775.608 134.047 766.881 Q134.047 758.131 137.103 753.547 Q140.181 748.941 145.992 748.941 Z\" fill=\"#000000\" fill-rule=\"evenodd\" fill-opacity=\"1\" /><path clip-path=\"url(#clip240)\" d=\"M101.756 399.067 Q98.1447 399.067 96.316 402.632 Q94.5104 406.174 94.5104 413.303 Q94.5104 420.41 96.316 423.974 Q98.1447 427.516 101.756 427.516 Q105.39 427.516 107.196 423.974 Q109.024 420.41 109.024 413.303 Q109.024 406.174 107.196 402.632 Q105.39 399.067 101.756 399.067 M101.756 395.364 Q107.566 395.364 110.621 399.97 Q113.7 404.553 113.7 413.303 Q113.7 422.03 110.621 426.636 Q107.566 431.22 101.756 431.22 Q95.9456 431.22 92.8669 426.636 Q89.8114 422.03 89.8114 413.303 Q89.8114 404.553 92.8669 399.97 Q95.9456 395.364 101.756 395.364 Z\" fill=\"#000000\" fill-rule=\"evenodd\" fill-opacity=\"1\" /><path clip-path=\"url(#clip240)\" d=\"M121.918 424.669 L126.802 424.669 L126.802 430.549 L121.918 430.549 L121.918 424.669 Z\" fill=\"#000000\" fill-rule=\"evenodd\" fill-opacity=\"1\" /><path clip-path=\"url(#clip240)\" d=\"M137.033 395.989 L155.39 395.989 L155.39 399.924 L141.316 399.924 L141.316 408.396 Q142.334 408.049 143.353 407.887 Q144.371 407.701 145.39 407.701 Q151.177 407.701 154.556 410.873 Q157.936 414.044 157.936 419.461 Q157.936 425.039 154.464 428.141 Q150.992 431.22 144.672 431.22 Q142.496 431.22 140.228 430.849 Q137.982 430.479 135.575 429.738 L135.575 425.039 Q137.658 426.174 139.881 426.729 Q142.103 427.285 144.58 427.285 Q148.584 427.285 150.922 425.178 Q153.26 423.072 153.26 419.461 Q153.26 415.85 150.922 413.743 Q148.584 411.637 144.58 411.637 Q142.705 411.637 140.83 412.053 Q138.978 412.47 137.033 413.35 L137.033 395.989 Z\" fill=\"#000000\" fill-rule=\"evenodd\" fill-opacity=\"1\" /><path clip-path=\"url(#clip240)\" d=\"M91.5706 73.0359 L99.2095 73.0359 L99.2095 46.6703 L90.8993 48.3369 L90.8993 44.0777 L99.1632 42.411 L103.839 42.411 L103.839 73.0359 L111.478 73.0359 L111.478 76.971 L91.5706 76.971 L91.5706 73.0359 Z\" fill=\"#000000\" fill-rule=\"evenodd\" fill-opacity=\"1\" /><path clip-path=\"url(#clip240)\" d=\"M120.922 71.0914 L125.807 71.0914 L125.807 76.971 L120.922 76.971 L120.922 71.0914 Z\" fill=\"#000000\" fill-rule=\"evenodd\" fill-opacity=\"1\" /><path clip-path=\"url(#clip240)\" d=\"M145.992 45.4897 Q142.381 45.4897 140.552 49.0545 Q138.746 52.5961 138.746 59.7257 Q138.746 66.8322 140.552 70.397 Q142.381 73.9386 145.992 73.9386 Q149.626 73.9386 151.431 70.397 Q153.26 66.8322 153.26 59.7257 Q153.26 52.5961 151.431 49.0545 Q149.626 45.4897 145.992 45.4897 M145.992 41.786 Q151.802 41.786 154.857 46.3925 Q157.936 50.9758 157.936 59.7257 Q157.936 68.4525 154.857 73.059 Q151.802 77.6423 145.992 77.6423 Q140.181 77.6423 137.103 73.059 Q134.047 68.4525 134.047 59.7257 Q134.047 50.9758 137.103 46.3925 Q140.181 41.786 145.992 41.786 Z\" fill=\"#000000\" fill-rule=\"evenodd\" fill-opacity=\"1\" /><circle clip-path=\"url(#clip242)\" cx=\"255.035\" cy=\"1445.72\" r=\"14\" fill=\"#009af9\" fill-rule=\"evenodd\" fill-opacity=\"1\" stroke=\"#000000\" stroke-opacity=\"1\" stroke-width=\"3.2\"/>\n",
       "<circle clip-path=\"url(#clip242)\" cx=\"297.464\" cy=\"1417.43\" r=\"14\" fill=\"#009af9\" fill-rule=\"evenodd\" fill-opacity=\"1\" stroke=\"#000000\" stroke-opacity=\"1\" stroke-width=\"3.2\"/>\n",
       "<circle clip-path=\"url(#clip242)\" cx=\"339.894\" cy=\"1389.15\" r=\"14\" fill=\"#009af9\" fill-rule=\"evenodd\" fill-opacity=\"1\" stroke=\"#000000\" stroke-opacity=\"1\" stroke-width=\"3.2\"/>\n",
       "<circle clip-path=\"url(#clip242)\" cx=\"382.324\" cy=\"1360.86\" r=\"14\" fill=\"#009af9\" fill-rule=\"evenodd\" fill-opacity=\"1\" stroke=\"#000000\" stroke-opacity=\"1\" stroke-width=\"3.2\"/>\n",
       "<circle clip-path=\"url(#clip242)\" cx=\"424.753\" cy=\"1332.57\" r=\"14\" fill=\"#009af9\" fill-rule=\"evenodd\" fill-opacity=\"1\" stroke=\"#000000\" stroke-opacity=\"1\" stroke-width=\"3.2\"/>\n",
       "<circle clip-path=\"url(#clip242)\" cx=\"467.183\" cy=\"1304.29\" r=\"14\" fill=\"#009af9\" fill-rule=\"evenodd\" fill-opacity=\"1\" stroke=\"#000000\" stroke-opacity=\"1\" stroke-width=\"3.2\"/>\n",
       "<circle clip-path=\"url(#clip242)\" cx=\"509.612\" cy=\"1276\" r=\"14\" fill=\"#009af9\" fill-rule=\"evenodd\" fill-opacity=\"1\" stroke=\"#000000\" stroke-opacity=\"1\" stroke-width=\"3.2\"/>\n",
       "<circle clip-path=\"url(#clip242)\" cx=\"552.042\" cy=\"1247.72\" r=\"14\" fill=\"#009af9\" fill-rule=\"evenodd\" fill-opacity=\"1\" stroke=\"#000000\" stroke-opacity=\"1\" stroke-width=\"3.2\"/>\n",
       "<circle clip-path=\"url(#clip242)\" cx=\"594.472\" cy=\"1219.43\" r=\"14\" fill=\"#009af9\" fill-rule=\"evenodd\" fill-opacity=\"1\" stroke=\"#000000\" stroke-opacity=\"1\" stroke-width=\"3.2\"/>\n",
       "<circle clip-path=\"url(#clip242)\" cx=\"636.901\" cy=\"1191.15\" r=\"14\" fill=\"#009af9\" fill-rule=\"evenodd\" fill-opacity=\"1\" stroke=\"#000000\" stroke-opacity=\"1\" stroke-width=\"3.2\"/>\n",
       "<circle clip-path=\"url(#clip242)\" cx=\"679.331\" cy=\"1162.86\" r=\"14\" fill=\"#009af9\" fill-rule=\"evenodd\" fill-opacity=\"1\" stroke=\"#000000\" stroke-opacity=\"1\" stroke-width=\"3.2\"/>\n",
       "<circle clip-path=\"url(#clip242)\" cx=\"721.761\" cy=\"1134.57\" r=\"14\" fill=\"#009af9\" fill-rule=\"evenodd\" fill-opacity=\"1\" stroke=\"#000000\" stroke-opacity=\"1\" stroke-width=\"3.2\"/>\n",
       "<circle clip-path=\"url(#clip242)\" cx=\"764.19\" cy=\"1106.29\" r=\"14\" fill=\"#009af9\" fill-rule=\"evenodd\" fill-opacity=\"1\" stroke=\"#000000\" stroke-opacity=\"1\" stroke-width=\"3.2\"/>\n",
       "<circle clip-path=\"url(#clip242)\" cx=\"806.62\" cy=\"1078\" r=\"14\" fill=\"#009af9\" fill-rule=\"evenodd\" fill-opacity=\"1\" stroke=\"#000000\" stroke-opacity=\"1\" stroke-width=\"3.2\"/>\n",
       "<circle clip-path=\"url(#clip242)\" cx=\"849.05\" cy=\"1049.71\" r=\"14\" fill=\"#009af9\" fill-rule=\"evenodd\" fill-opacity=\"1\" stroke=\"#000000\" stroke-opacity=\"1\" stroke-width=\"3.2\"/>\n",
       "<circle clip-path=\"url(#clip242)\" cx=\"891.479\" cy=\"1021.43\" r=\"14\" fill=\"#009af9\" fill-rule=\"evenodd\" fill-opacity=\"1\" stroke=\"#000000\" stroke-opacity=\"1\" stroke-width=\"3.2\"/>\n",
       "<circle clip-path=\"url(#clip242)\" cx=\"933.909\" cy=\"993.141\" r=\"14\" fill=\"#009af9\" fill-rule=\"evenodd\" fill-opacity=\"1\" stroke=\"#000000\" stroke-opacity=\"1\" stroke-width=\"3.2\"/>\n",
       "<circle clip-path=\"url(#clip242)\" cx=\"976.338\" cy=\"964.855\" r=\"14\" fill=\"#009af9\" fill-rule=\"evenodd\" fill-opacity=\"1\" stroke=\"#000000\" stroke-opacity=\"1\" stroke-width=\"3.2\"/>\n",
       "<circle clip-path=\"url(#clip242)\" cx=\"1018.77\" cy=\"936.568\" r=\"14\" fill=\"#009af9\" fill-rule=\"evenodd\" fill-opacity=\"1\" stroke=\"#000000\" stroke-opacity=\"1\" stroke-width=\"3.2\"/>\n",
       "<circle clip-path=\"url(#clip242)\" cx=\"1061.2\" cy=\"908.281\" r=\"14\" fill=\"#009af9\" fill-rule=\"evenodd\" fill-opacity=\"1\" stroke=\"#000000\" stroke-opacity=\"1\" stroke-width=\"3.2\"/>\n",
       "<circle clip-path=\"url(#clip242)\" cx=\"1103.63\" cy=\"879.994\" r=\"14\" fill=\"#009af9\" fill-rule=\"evenodd\" fill-opacity=\"1\" stroke=\"#000000\" stroke-opacity=\"1\" stroke-width=\"3.2\"/>\n",
       "<circle clip-path=\"url(#clip242)\" cx=\"1146.06\" cy=\"851.707\" r=\"14\" fill=\"#009af9\" fill-rule=\"evenodd\" fill-opacity=\"1\" stroke=\"#000000\" stroke-opacity=\"1\" stroke-width=\"3.2\"/>\n",
       "<circle clip-path=\"url(#clip242)\" cx=\"1188.49\" cy=\"823.42\" r=\"14\" fill=\"#009af9\" fill-rule=\"evenodd\" fill-opacity=\"1\" stroke=\"#000000\" stroke-opacity=\"1\" stroke-width=\"3.2\"/>\n",
       "<circle clip-path=\"url(#clip242)\" cx=\"1230.92\" cy=\"795.133\" r=\"14\" fill=\"#009af9\" fill-rule=\"evenodd\" fill-opacity=\"1\" stroke=\"#000000\" stroke-opacity=\"1\" stroke-width=\"3.2\"/>\n",
       "<circle clip-path=\"url(#clip242)\" cx=\"1273.35\" cy=\"766.846\" r=\"14\" fill=\"#009af9\" fill-rule=\"evenodd\" fill-opacity=\"1\" stroke=\"#000000\" stroke-opacity=\"1\" stroke-width=\"3.2\"/>\n",
       "<circle clip-path=\"url(#clip242)\" cx=\"1315.78\" cy=\"738.559\" r=\"14\" fill=\"#009af9\" fill-rule=\"evenodd\" fill-opacity=\"1\" stroke=\"#000000\" stroke-opacity=\"1\" stroke-width=\"3.2\"/>\n",
       "<circle clip-path=\"url(#clip242)\" cx=\"1358.21\" cy=\"710.272\" r=\"14\" fill=\"#009af9\" fill-rule=\"evenodd\" fill-opacity=\"1\" stroke=\"#000000\" stroke-opacity=\"1\" stroke-width=\"3.2\"/>\n",
       "<circle clip-path=\"url(#clip242)\" cx=\"1400.63\" cy=\"681.985\" r=\"14\" fill=\"#009af9\" fill-rule=\"evenodd\" fill-opacity=\"1\" stroke=\"#000000\" stroke-opacity=\"1\" stroke-width=\"3.2\"/>\n",
       "<circle clip-path=\"url(#clip242)\" cx=\"1443.06\" cy=\"653.698\" r=\"14\" fill=\"#009af9\" fill-rule=\"evenodd\" fill-opacity=\"1\" stroke=\"#000000\" stroke-opacity=\"1\" stroke-width=\"3.2\"/>\n",
       "<circle clip-path=\"url(#clip242)\" cx=\"1485.49\" cy=\"625.411\" r=\"14\" fill=\"#009af9\" fill-rule=\"evenodd\" fill-opacity=\"1\" stroke=\"#000000\" stroke-opacity=\"1\" stroke-width=\"3.2\"/>\n",
       "<circle clip-path=\"url(#clip242)\" cx=\"1527.92\" cy=\"597.124\" r=\"14\" fill=\"#009af9\" fill-rule=\"evenodd\" fill-opacity=\"1\" stroke=\"#000000\" stroke-opacity=\"1\" stroke-width=\"3.2\"/>\n",
       "<circle clip-path=\"url(#clip242)\" cx=\"1570.35\" cy=\"568.837\" r=\"14\" fill=\"#009af9\" fill-rule=\"evenodd\" fill-opacity=\"1\" stroke=\"#000000\" stroke-opacity=\"1\" stroke-width=\"3.2\"/>\n",
       "<circle clip-path=\"url(#clip242)\" cx=\"1612.78\" cy=\"540.551\" r=\"14\" fill=\"#009af9\" fill-rule=\"evenodd\" fill-opacity=\"1\" stroke=\"#000000\" stroke-opacity=\"1\" stroke-width=\"3.2\"/>\n",
       "<circle clip-path=\"url(#clip242)\" cx=\"1655.21\" cy=\"512.264\" r=\"14\" fill=\"#009af9\" fill-rule=\"evenodd\" fill-opacity=\"1\" stroke=\"#000000\" stroke-opacity=\"1\" stroke-width=\"3.2\"/>\n",
       "<circle clip-path=\"url(#clip242)\" cx=\"1697.64\" cy=\"483.978\" r=\"14\" fill=\"#009af9\" fill-rule=\"evenodd\" fill-opacity=\"1\" stroke=\"#000000\" stroke-opacity=\"1\" stroke-width=\"3.2\"/>\n",
       "<circle clip-path=\"url(#clip242)\" cx=\"1740.07\" cy=\"455.691\" r=\"14\" fill=\"#009af9\" fill-rule=\"evenodd\" fill-opacity=\"1\" stroke=\"#000000\" stroke-opacity=\"1\" stroke-width=\"3.2\"/>\n",
       "<circle clip-path=\"url(#clip242)\" cx=\"1782.5\" cy=\"427.405\" r=\"14\" fill=\"#009af9\" fill-rule=\"evenodd\" fill-opacity=\"1\" stroke=\"#000000\" stroke-opacity=\"1\" stroke-width=\"3.2\"/>\n",
       "<circle clip-path=\"url(#clip242)\" cx=\"1824.93\" cy=\"399.118\" r=\"14\" fill=\"#009af9\" fill-rule=\"evenodd\" fill-opacity=\"1\" stroke=\"#000000\" stroke-opacity=\"1\" stroke-width=\"3.2\"/>\n",
       "<circle clip-path=\"url(#clip242)\" cx=\"1867.36\" cy=\"370.832\" r=\"14\" fill=\"#009af9\" fill-rule=\"evenodd\" fill-opacity=\"1\" stroke=\"#000000\" stroke-opacity=\"1\" stroke-width=\"3.2\"/>\n",
       "<circle clip-path=\"url(#clip242)\" cx=\"1909.79\" cy=\"342.546\" r=\"14\" fill=\"#009af9\" fill-rule=\"evenodd\" fill-opacity=\"1\" stroke=\"#000000\" stroke-opacity=\"1\" stroke-width=\"3.2\"/>\n",
       "<circle clip-path=\"url(#clip242)\" cx=\"1952.22\" cy=\"314.26\" r=\"14\" fill=\"#009af9\" fill-rule=\"evenodd\" fill-opacity=\"1\" stroke=\"#000000\" stroke-opacity=\"1\" stroke-width=\"3.2\"/>\n",
       "<circle clip-path=\"url(#clip242)\" cx=\"1994.65\" cy=\"285.975\" r=\"14\" fill=\"#009af9\" fill-rule=\"evenodd\" fill-opacity=\"1\" stroke=\"#000000\" stroke-opacity=\"1\" stroke-width=\"3.2\"/>\n",
       "<circle clip-path=\"url(#clip242)\" cx=\"2037.08\" cy=\"257.689\" r=\"14\" fill=\"#009af9\" fill-rule=\"evenodd\" fill-opacity=\"1\" stroke=\"#000000\" stroke-opacity=\"1\" stroke-width=\"3.2\"/>\n",
       "<circle clip-path=\"url(#clip242)\" cx=\"2079.51\" cy=\"229.403\" r=\"14\" fill=\"#009af9\" fill-rule=\"evenodd\" fill-opacity=\"1\" stroke=\"#000000\" stroke-opacity=\"1\" stroke-width=\"3.2\"/>\n",
       "<circle clip-path=\"url(#clip242)\" cx=\"2121.94\" cy=\"201.118\" r=\"14\" fill=\"#009af9\" fill-rule=\"evenodd\" fill-opacity=\"1\" stroke=\"#000000\" stroke-opacity=\"1\" stroke-width=\"3.2\"/>\n",
       "<circle clip-path=\"url(#clip242)\" cx=\"2164.37\" cy=\"172.832\" r=\"14\" fill=\"#009af9\" fill-rule=\"evenodd\" fill-opacity=\"1\" stroke=\"#000000\" stroke-opacity=\"1\" stroke-width=\"3.2\"/>\n",
       "<circle clip-path=\"url(#clip242)\" cx=\"2206.8\" cy=\"144.547\" r=\"14\" fill=\"#009af9\" fill-rule=\"evenodd\" fill-opacity=\"1\" stroke=\"#000000\" stroke-opacity=\"1\" stroke-width=\"3.2\"/>\n",
       "<circle clip-path=\"url(#clip242)\" cx=\"2249.23\" cy=\"116.262\" r=\"14\" fill=\"#009af9\" fill-rule=\"evenodd\" fill-opacity=\"1\" stroke=\"#000000\" stroke-opacity=\"1\" stroke-width=\"3.2\"/>\n",
       "<circle clip-path=\"url(#clip242)\" cx=\"2291.66\" cy=\"87.9763\" r=\"14\" fill=\"#009af9\" fill-rule=\"evenodd\" fill-opacity=\"1\" stroke=\"#000000\" stroke-opacity=\"1\" stroke-width=\"3.2\"/>\n",
       "<polyline clip-path=\"url(#clip242)\" style=\"stroke:#e26f46; stroke-linecap:butt; stroke-linejoin:round; stroke-width:4; stroke-opacity:1; fill:none\" points=\"\n",
       "  255.035,1445.71 297.464,1417.43 339.894,1389.14 382.324,1360.86 424.753,1332.57 467.183,1304.28 509.612,1276 552.042,1247.71 594.472,1219.43 636.901,1191.14 \n",
       "  679.331,1162.85 721.761,1134.57 764.19,1106.28 806.62,1077.99 849.05,1049.71 891.479,1021.42 933.909,993.136 976.338,964.849 1018.77,936.563 1061.2,908.277 \n",
       "  1103.63,879.991 1146.06,851.705 1188.49,823.418 1230.92,795.132 1273.35,766.846 1315.78,738.56 1358.21,710.274 1400.63,681.987 1443.06,653.701 1485.49,625.415 \n",
       "  1527.92,597.129 1570.35,568.843 1612.78,540.556 1655.21,512.27 1697.64,483.984 1740.07,455.698 1782.5,427.412 1824.93,399.125 1867.36,370.839 1909.79,342.553 \n",
       "  1952.22,314.267 1994.65,285.981 2037.08,257.694 2079.51,229.408 2121.94,201.122 2164.37,172.836 2206.8,144.55 2249.23,116.263 2291.66,87.9772 \n",
       "  \"/>\n",
       "<path clip-path=\"url(#clip240)\" d=\"\n",
       "M1988.5 250.738 L2280.8 250.738 L2280.8 95.2176 L1988.5 95.2176  Z\n",
       "  \" fill=\"#ffffff\" fill-rule=\"evenodd\" fill-opacity=\"1\"/>\n",
       "<polyline clip-path=\"url(#clip240)\" style=\"stroke:#000000; stroke-linecap:butt; stroke-linejoin:round; stroke-width:4; stroke-opacity:1; fill:none\" points=\"\n",
       "  1988.5,250.738 2280.8,250.738 2280.8,95.2176 1988.5,95.2176 1988.5,250.738 \n",
       "  \"/>\n",
       "<circle clip-path=\"url(#clip240)\" cx=\"2084.44\" cy=\"147.058\" r=\"23\" fill=\"#009af9\" fill-rule=\"evenodd\" fill-opacity=\"1\" stroke=\"#000000\" stroke-opacity=\"1\" stroke-width=\"5.12\"/>\n",
       "<path clip-path=\"url(#clip240)\" d=\"M2194.23 166.745 Q2192.43 171.375 2190.72 172.787 Q2189 174.199 2186.13 174.199 L2182.73 174.199 L2182.73 170.634 L2185.23 170.634 Q2186.99 170.634 2187.96 169.8 Q2188.93 168.967 2190.11 165.865 L2190.88 163.921 L2180.39 138.412 L2184.91 138.412 L2193.01 158.689 L2201.11 138.412 L2205.62 138.412 L2194.23 166.745 Z\" fill=\"#000000\" fill-rule=\"evenodd\" fill-opacity=\"1\" /><path clip-path=\"url(#clip240)\" d=\"M2212.91 160.402 L2220.55 160.402 L2220.55 134.037 L2212.24 135.703 L2212.24 131.444 L2220.51 129.778 L2225.18 129.778 L2225.18 160.402 L2232.82 160.402 L2232.82 164.338 L2212.91 164.338 L2212.91 160.402 Z\" fill=\"#000000\" fill-rule=\"evenodd\" fill-opacity=\"1\" /><polyline clip-path=\"url(#clip240)\" style=\"stroke:#e26f46; stroke-linecap:butt; stroke-linejoin:round; stroke-width:4; stroke-opacity:1; fill:none\" points=\"\n",
       "  2012.48,198.898 2156.4,198.898 \n",
       "  \"/>\n",
       "<path clip-path=\"url(#clip240)\" d=\"M2194.23 218.585 Q2192.43 223.215 2190.72 224.627 Q2189 226.039 2186.13 226.039 L2182.73 226.039 L2182.73 222.474 L2185.23 222.474 Q2186.99 222.474 2187.96 221.64 Q2188.93 220.807 2190.11 217.705 L2190.88 215.761 L2180.39 190.252 L2184.91 190.252 L2193.01 210.529 L2201.11 190.252 L2205.62 190.252 L2194.23 218.585 Z\" fill=\"#000000\" fill-rule=\"evenodd\" fill-opacity=\"1\" /><path clip-path=\"url(#clip240)\" d=\"M2216.13 212.242 L2232.45 212.242 L2232.45 216.178 L2210.51 216.178 L2210.51 212.242 Q2213.17 209.488 2217.75 204.858 Q2222.36 200.205 2223.54 198.863 Q2225.78 196.34 2226.66 194.604 Q2227.57 192.844 2227.57 191.155 Q2227.57 188.4 2225.62 186.664 Q2223.7 184.928 2220.6 184.928 Q2218.4 184.928 2215.95 185.692 Q2213.52 186.455 2210.74 188.006 L2210.74 183.284 Q2213.56 182.15 2216.02 181.571 Q2218.47 180.993 2220.51 180.993 Q2225.88 180.993 2229.07 183.678 Q2232.27 186.363 2232.27 190.854 Q2232.27 192.983 2231.46 194.905 Q2230.67 196.803 2228.56 199.395 Q2227.98 200.067 2224.88 203.284 Q2221.78 206.479 2216.13 212.242 Z\" fill=\"#000000\" fill-rule=\"evenodd\" fill-opacity=\"1\" /></svg>\n"
      ]
     },
     "execution_count": 50,
     "metadata": {},
     "output_type": "execute_result"
    }
   ],
   "source": [
    "scatter(problem.x, soln.zero)\n",
    "scatter(a, problem\n",
    "plot!(problem.x, @. 2*problem.x-1)"
   ]
  },
  {
   "cell_type": "code",
   "execution_count": 51,
   "id": "8ca0628f-3d5c-4a85-ae5a-093476b490c2",
   "metadata": {},
   "outputs": [
    {
     "data": {
      "text/plain": [
       "49-element Vector{Float64}:\n",
       " -2.884132819722107e-13\n",
       "  3.305500675693934e-13\n",
       "  7.990342328761946e-14\n",
       " -1.6720414115767301e-13\n",
       "  2.8998055042264714e-13\n",
       "  1.159779737525124e-13\n",
       " -1.0383946306979919e-15\n",
       "  1.1338364058408046e-13\n",
       "  1.137233753348288e-13\n",
       "  5.181800084505528e-13\n",
       " -9.975570716691529e-14\n",
       " -4.854561305896177e-13\n",
       "  6.155613128597248e-13\n",
       "  ⋮\n",
       "  2.0790042864343716e-13\n",
       " -1.7780004898937385e-13\n",
       " -2.406243065043723e-13\n",
       " -1.1372342954493742e-13\n",
       " -1.1338364058408046e-13\n",
       " -2.765174699458084e-13\n",
       "  1.6157761977345086e-13\n",
       " -2.89980713052973e-13\n",
       " -1.10351777628942e-13\n",
       "  1.9765233286866968e-13\n",
       " -0.015138636131392916\n",
       "  0.03027728294901997"
      ]
     },
     "execution_count": 51,
     "metadata": {},
     "output_type": "execute_result"
    }
   ],
   "source": [
    "problem.F"
   ]
  },
  {
   "cell_type": "code",
   "execution_count": 52,
   "id": "abd76937-8a6d-43b7-8cef-e553f70cc085",
   "metadata": {},
   "outputs": [
    {
     "data": {
      "text/plain": [
       "1"
      ]
     },
     "execution_count": 52,
     "metadata": {},
     "output_type": "execute_result"
    }
   ],
   "source": [
    "problem.right_bc.u_bc"
   ]
  },
  {
   "cell_type": "code",
   "execution_count": 53,
   "id": "5bbc832d-da41-40b2-83d4-48e61bfb1234",
   "metadata": {},
   "outputs": [
    {
     "data": {
      "text/plain": [
       "FDGZProblem{DirichletBC, DirichletBC}(0, 1, 0.02, 49, range(0.02, stop=0.98, length=49), 0.001, [-2.884132819722107e-13, 3.305500675693934e-13, 7.990342328761946e-14, -1.6720414115767301e-13, 2.8998055042264714e-13, 1.159779737525124e-13, -1.0383946306979919e-15, 1.1338364058408046e-13, 1.137233753348288e-13, 5.181800084505528e-13  …  -2.406243065043723e-13, -1.1372342954493742e-13, -1.1338364058408046e-13, -2.765174699458084e-13, 1.6157761977345086e-13, -2.89980713052973e-13, -1.10351777628942e-13, 1.9765233286866968e-13, -3.305500675693934e-13, 2.884132819722107e-13], DirichletBC(-1), DirichletBC(1))"
      ]
     },
     "execution_count": 53,
     "metadata": {},
     "output_type": "execute_result"
    }
   ],
   "source": [
    "assemble_system!(soln.zero, problem)"
   ]
  },
  {
   "cell_type": "code",
   "execution_count": 54,
   "id": "1bdbf050-7242-4672-a481-18017d9094c1",
   "metadata": {},
   "outputs": [
    {
     "data": {
      "text/plain": [
       "49-element Vector{Float64}:\n",
       " -2.884132819722107e-13\n",
       "  3.305500675693934e-13\n",
       "  7.990342328761946e-14\n",
       " -1.6720414115767301e-13\n",
       "  2.8998055042264714e-13\n",
       "  1.159779737525124e-13\n",
       " -1.0383946306979919e-15\n",
       "  1.1338364058408046e-13\n",
       "  1.137233753348288e-13\n",
       "  5.181800084505528e-13\n",
       " -9.975570716691529e-14\n",
       " -4.854561305896177e-13\n",
       "  6.155613128597248e-13\n",
       "  ⋮\n",
       "  2.0790042864343716e-13\n",
       " -1.7780004898937385e-13\n",
       " -2.406243065043723e-13\n",
       " -1.1372342954493742e-13\n",
       " -1.1338364058408046e-13\n",
       " -2.765174699458084e-13\n",
       "  1.6157761977345086e-13\n",
       " -2.89980713052973e-13\n",
       " -1.10351777628942e-13\n",
       "  1.9765233286866968e-13\n",
       " -3.305500675693934e-13\n",
       "  2.884132819722107e-13"
      ]
     },
     "execution_count": 54,
     "metadata": {},
     "output_type": "execute_result"
    }
   ],
   "source": [
    "problem.F"
   ]
  },
  {
   "cell_type": "code",
   "execution_count": 55,
   "id": "0423f30f-fa45-437c-8940-5ae19ef4f991",
   "metadata": {},
   "outputs": [
    {
     "data": {
      "text/plain": [
       "0.9600013306612472"
      ]
     },
     "execution_count": 55,
     "metadata": {},
     "output_type": "execute_result"
    }
   ],
   "source": [
    "soln.zero[end]"
   ]
  },
  {
   "cell_type": "code",
   "execution_count": 56,
   "id": "ad581762-75b9-44e9-b512-2bbe35aa88fa",
   "metadata": {},
   "outputs": [
    {
     "data": {
      "text/plain": [
       "2.884132819722107e-13"
      ]
     },
     "execution_count": 56,
     "metadata": {},
     "output_type": "execute_result"
    }
   ],
   "source": [
    "(problem.right_bc.u_bc - 2*soln.zero[end] + soln.zero[end-1])/problem.Δx^2 + "
   ]
  },
  {
   "cell_type": "code",
   "execution_count": 58,
   "id": "cff24124-faf1-45d6-baa9-21b2e0a98457",
   "metadata": {},
   "outputs": [
    {
     "data": {
      "text/plain": [
       "-7.526165135551821e-5"
      ]
     },
     "execution_count": 58,
     "metadata": {},
     "output_type": "execute_result"
    }
   ],
   "source": [
    "(problem.right_bc.u_bc - 2*soln.zero[end] + soln.zero[end-1])/problem.Δx^2 "
   ]
  },
  {
   "cell_type": "code",
   "execution_count": 57,
   "id": "201ca227-00f7-445b-8a9f-87953d568ddb",
   "metadata": {},
   "outputs": [
    {
     "data": {
      "text/plain": [
       "7.526165164393149e-5"
      ]
     },
     "execution_count": 57,
     "metadata": {},
     "output_type": "execute_result"
    }
   ],
   "source": [
    "problem.ϵ * soln.zero[end] * (1-soln.zero[end]^2)"
   ]
  }
 ],
 "metadata": {
  "kernelspec": {
   "display_name": "Julia 1.6.3",
   "language": "julia",
   "name": "julia-1.6"
  },
  "language_info": {
   "file_extension": ".jl",
   "mimetype": "application/julia",
   "name": "julia",
   "version": "1.6.3"
  }
 },
 "nbformat": 4,
 "nbformat_minor": 5
}
