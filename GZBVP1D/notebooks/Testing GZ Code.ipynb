{
 "cells": [
  {
   "cell_type": "code",
   "execution_count": null,
   "id": "0a60dfb1-11c6-4cff-bdb4-d3efebb560d1",
   "metadata": {},
   "outputs": [],
   "source": [
    "using Plots; pyplot()\n",
    "using Printf\n",
    "using LinearAlgebra\n",
    "using LaTeXStrings"
   ]
  },
  {
   "cell_type": "code",
   "execution_count": null,
   "id": "0794882c-5d38-40a0-9977-b3524f013d61",
   "metadata": {},
   "outputs": [],
   "source": [
    "default(xtickfont=font(14),  ytickfont=font(14), guidefont=font(14), \n",
    "    legendfont=font(12), lw=2,ms=8)"
   ]
  },
  {
   "cell_type": "code",
   "execution_count": null,
   "id": "8c0dfefe-8024-453f-8ad9-e73c18ca06c3",
   "metadata": {},
   "outputs": [],
   "source": [
    "using GZBVP1D"
   ]
  },
  {
   "cell_type": "code",
   "execution_count": null,
   "id": "4846dd9c-95e0-4fb8-a65a-42760392f2db",
   "metadata": {},
   "outputs": [],
   "source": [
    "ϵ = 0.0001;\n",
    "n = 99;\n",
    "# problem = FDGZProblem(ϵ, n)\n",
    "problem = FDGZProblem(0, 1, ϵ, n, DirichletBC(-1), DirichletBC(1))"
   ]
  },
  {
   "cell_type": "code",
   "execution_count": null,
   "id": "7a4cd05c-5d40-4b38-b43e-591775abacef",
   "metadata": {},
   "outputs": [],
   "source": [
    "# try different starting guesses \n",
    "\n",
    "# u0 = LinRange(-1,1,n+2)[2:end-1]|>collect;\n",
    "u0 = @. tanh((problem.x-0.5)/sqrt(ϵ));\n",
    "# u0 = @. tanh((problem.x-0.5)/ϵ);"
   ]
  },
  {
   "cell_type": "code",
   "execution_count": null,
   "id": "26a98dde-215e-4708-91ae-0cb0d2545971",
   "metadata": {},
   "outputs": [],
   "source": [
    "soln = solve_gz(u0, problem)"
   ]
  },
  {
   "cell_type": "code",
   "execution_count": null,
   "id": "ad0392d4-2bc6-487b-bb18-efb16e85608e",
   "metadata": {},
   "outputs": [],
   "source": [
    "plot(problem.x, soln.zero,label=\"Solution\", legend=:bottomright)\n",
    "plot!(problem.x, u0, label=\"Starting Guess\")\n",
    "xlabel!(L\"$x$\")"
   ]
  }
 ],
 "metadata": {
  "kernelspec": {
   "display_name": "Julia 1.7.0-rc2",
   "language": "julia",
   "name": "julia-1.7"
  },
  "language_info": {
   "file_extension": ".jl",
   "mimetype": "application/julia",
   "name": "julia",
   "version": "1.7.0"
  }
 },
 "nbformat": 4,
 "nbformat_minor": 5
}
