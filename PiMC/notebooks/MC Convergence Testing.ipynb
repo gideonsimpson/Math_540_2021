{
 "cells": [
  {
   "cell_type": "code",
   "execution_count": null,
   "id": "11cedce1-45f7-4200-856a-5481e0469215",
   "metadata": {},
   "outputs": [],
   "source": [
    "using Plots; pyplot()\n",
    "using StatsPlots\n",
    "using Random\n",
    "using PiMC\n",
    "using Printf\n",
    "using LaTeXStrings\n",
    "using Statistics"
   ]
  },
  {
   "cell_type": "code",
   "execution_count": null,
   "id": "e7598645-9aca-45eb-ae60-c44adfde930c",
   "metadata": {},
   "outputs": [],
   "source": [
    "default(xtickfont=font(14),  ytickfont=font(14), guidefont=font(14), \n",
    "    legendfont=font(12), lw=2,ms=8)"
   ]
  },
  {
   "cell_type": "code",
   "execution_count": null,
   "id": "ef3ab559-cc0c-4951-bde0-aea86be7d436",
   "metadata": {},
   "outputs": [],
   "source": [
    "M_vals = 10 .^(1:4)\n",
    "K = 100; # K independent trials for each value of M\n",
    "\n",
    "samples = zeros(length(M_vals), K);"
   ]
  },
  {
   "cell_type": "code",
   "execution_count": null,
   "id": "2efde11b-ac6a-4138-8744-fcbab0355f2a",
   "metadata": {},
   "outputs": [],
   "source": [
    "Random.seed!(100);\n",
    "for (i, M) in enumerate(M_vals) # returns (i, M) such that M_vals[i] = M\n",
    "   for j in 1:K \n",
    "       samples[i,j] = pi_estimation(M); \n",
    "    end\n",
    "end"
   ]
  },
  {
   "cell_type": "code",
   "execution_count": null,
   "id": "63e1f839-f2c7-476f-98c9-5764a1222d0b",
   "metadata": {},
   "outputs": [],
   "source": [
    "histogram(samples[1,:], label = latexstring(@sprintf(\"\\$M = %d\\$\", M_vals[1])), normalize=:pdf)\n",
    "for i = 2:length(M_vals)\n",
    "    histogram!(samples[i,:], label = latexstring(@sprintf(\"\\$M = %d\\$\", M_vals[i])), normalize=:pdf)\n",
    "end\n",
    "xlabel!(\"Sample Mean\")\n",
    "ylabel!(\"Probability\")"
   ]
  },
  {
   "cell_type": "code",
   "execution_count": null,
   "id": "3f43921a-d0f2-425c-8bb2-b7b294f96c1e",
   "metadata": {},
   "outputs": [],
   "source": [
    "boxplot(samples[1,:],label=\"\")\n",
    "for i = 2:length(M_vals)\n",
    "    boxplot!(samples[i,:],label=\"\")\n",
    "end\n",
    "plot!(1:4, π * ones(4),label=L\"$\\pi$\",color=:red,ls=:dash)\n",
    "ylabel!(\"Sample Mean\")\n",
    "xticks!(1:4, [latexstring(@sprintf(\"\\$10^%d\\$\", log10(M))) for M in M_vals])\n",
    "xlabel!(L\"$M$\")"
   ]
  },
  {
   "cell_type": "code",
   "execution_count": null,
   "id": "8cfa159e-1f32-437d-8546-706504ac5036",
   "metadata": {},
   "outputs": [],
   "source": [
    "histogram(sqrt(M_vals[1])*(samples[1,:] .- mean(samples[1,:])), label = latexstring(@sprintf(\"\\$M = %d\\$\", M_vals[1])), normalize=:pdf)\n",
    "for i = 2:length(M_vals)\n",
    "    histogram!(sqrt(M_vals[i])*(samples[i,:] .- mean(samples[i,:])), label = latexstring(@sprintf(\"\\$M = %d\\$\", M_vals[i])), normalize=:pdf)\n",
    "end\n",
    "xlabel!(L\"$\\sqrt{M}(\\bar{Y}_M - \\hat{\\pi})$\")\n",
    "ylabel!(\"Probability\")"
   ]
  },
  {
   "cell_type": "code",
   "execution_count": null,
   "id": "0844ae65-59f5-4954-8395-65a6dbd56c12",
   "metadata": {},
   "outputs": [],
   "source": [
    "boxplot(sqrt(M_vals[1])*(samples[1,:] .- mean(samples[1,:])),label=\"\")\n",
    "for i = 2:length(M_vals)\n",
    "    boxplot!(sqrt(M_vals[i])*(samples[i,:] .- mean(samples[i,:])),label=\"\")\n",
    "end\n",
    "ylabel!(L\"$\\sqrt{M}(\\bar{Y}_M - \\hat{\\pi})$\")\n",
    "xticks!(1:4, [latexstring(@sprintf(\"\\$10^%d\\$\", log10(M))) for M in M_vals])\n",
    "xlabel!(L\"$M$\")"
   ]
  },
  {
   "cell_type": "code",
   "execution_count": null,
   "id": "e5d5dcd5-e3ba-492c-a6fe-15469a4e839c",
   "metadata": {},
   "outputs": [],
   "source": [
    "for (i,M) in enumerate(M_vals)\n",
    "    @printf(\"M = %5d: Avg. M*(Ȳ-π̂)^2 = %g\\n\", M, mean((sqrt(M_vals[i])*(samples[i,:] .- mean(samples[i,:]))).^2))\n",
    "end\n",
    "@printf(\"π * (4-π) = %g\\n\", π * (4-π))"
   ]
  }
 ],
 "metadata": {
  "kernelspec": {
   "display_name": "Julia 1.7.0-rc2",
   "language": "julia",
   "name": "julia-1.7"
  },
  "language_info": {
   "file_extension": ".jl",
   "mimetype": "application/julia",
   "name": "julia",
   "version": "1.7.0"
  }
 },
 "nbformat": 4,
 "nbformat_minor": 5
}
