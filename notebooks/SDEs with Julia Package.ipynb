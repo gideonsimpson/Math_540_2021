{
 "cells": [
  {
   "cell_type": "markdown",
   "id": "c55b003d-2520-4c06-853a-3b53f91093ab",
   "metadata": {},
   "source": [
    "# Solving Differential equations using Julia Package\n",
    "Writing the SDE as\n",
    "$$\n",
    "dX_t = f(X_t,p,t)dt + g(X_t,p,t) dB_t,\\quad  X_0 = x_0\n",
    "$$\n",
    "with drift `f` and diffusion `g`, we can use `DifferentialEquations.jl` to quickly solve the problem.  The `p` argument is for any hyperparameters that one may wish to study.\n"
   ]
  },
  {
   "cell_type": "code",
   "execution_count": null,
   "id": "3d8d84f2-9ab8-4ea0-a163-ec216572ddd8",
   "metadata": {},
   "outputs": [],
   "source": [
    "using Plots; pyplot()\n",
    "using Random\n",
    "using LaTeXStrings\n",
    "using Statistics\n",
    "using Printf\n",
    "using DifferentialEquations\n",
    "using DifferentialEquations.EnsembleAnalysis"
   ]
  },
  {
   "cell_type": "code",
   "execution_count": null,
   "id": "42c128f0-39db-4fa7-b0c4-e5a2508b650a",
   "metadata": {},
   "outputs": [],
   "source": [
    "default(xtickfont=font(14),  ytickfont=font(14), guidefont=font(14), \n",
    "    legendfontsize=12, lw=2,ms=8)"
   ]
  },
  {
   "cell_type": "markdown",
   "id": "e92122aa-ac10-46c0-a45c-a1483ba88d6b",
   "metadata": {},
   "source": [
    "## Example: OU Process\n",
    "For the OU process\n",
    "\\begin{align*}\n",
    "f(x,p,t) &= -\\alpha(t)(x-m(t))\\\\\n",
    "g(x,p,t) & = \\sigma(t)\n",
    "\\end{align*}"
   ]
  },
  {
   "cell_type": "code",
   "execution_count": null,
   "id": "eb94f7e4-c63a-4323-b807-d1cd49dcca8b",
   "metadata": {},
   "outputs": [],
   "source": [
    "α= t-> 1;\n",
    "m =t-> 0;\n",
    "σ = t-> 1;\n",
    "\n",
    "f(x,p,t) = -α(t) * (x-m(t))\n",
    "g(x,p,t) = σ(t)\n",
    "\n",
    "tmax = 10;\n",
    "Δt = 0.01;\n",
    "x0 = 0.;\n",
    "\n",
    "# define the problem\n",
    "prob = SDEProblem(f,g, x0, (0., tmax));"
   ]
  },
  {
   "cell_type": "code",
   "execution_count": null,
   "id": "8c944de4-410a-4a51-a8f1-ef1eda165fb7",
   "metadata": {},
   "outputs": [],
   "source": [
    "# solve with Euler-Maruyama\n",
    "soln = solve(prob, EM(), dt=Δt);"
   ]
  },
  {
   "cell_type": "code",
   "execution_count": null,
   "id": "a4750449-e1ce-4d7c-884f-5fe4c263849f",
   "metadata": {},
   "outputs": [],
   "source": [
    "plot(soln)"
   ]
  },
  {
   "cell_type": "markdown",
   "id": "39d78112-6cf1-41ac-b04b-6196da83576a",
   "metadata": {},
   "source": [
    "## Solving as an Ensemble\n",
    "Built in features in `DifferentialEquations` faciliate the solution of an ensemble of realizations, and makes use of threasd."
   ]
  },
  {
   "cell_type": "code",
   "execution_count": null,
   "id": "3e301a2b-19e7-4ef0-930c-88b369b65911",
   "metadata": {},
   "outputs": [],
   "source": [
    "# Define the ensemble problem\n",
    "ensemble_prob=EnsembleProblem(prob);"
   ]
  },
  {
   "cell_type": "code",
   "execution_count": null,
   "id": "a18d5374-a888-41f2-bac2-f6ce4200c4a8",
   "metadata": {},
   "outputs": [],
   "source": [
    "# run the ensemble with the given number of realizations\n",
    "n_samples = 10^2;\n",
    "ensemble_soln= solve(ensemble_prob, EM(), dt=Δt, \n",
    "    EnsembleThreads(), trajectories = n_samples)"
   ]
  },
  {
   "cell_type": "code",
   "execution_count": null,
   "id": "f9c402fd-3b8b-46c9-ac15-ba67a4aaf6ba",
   "metadata": {},
   "outputs": [],
   "source": [
    "ensemble_soln.u[1]"
   ]
  },
  {
   "cell_type": "markdown",
   "id": "93842383-cec2-4783-9da6-8a075bb050ad",
   "metadata": {},
   "source": [
    "## Summary statistics\n",
    "`DifferentialEquations.EnsembleAnalysis` includes tools for summarizing ensemble data.  It defaults to a 95% CI about the mean."
   ]
  },
  {
   "cell_type": "code",
   "execution_count": null,
   "id": "9ea95116-82de-405b-b9e1-46155c99ce62",
   "metadata": {},
   "outputs": [],
   "source": [
    "ensemble_summary = EnsembleSummary(ensemble_soln)\n",
    "plot(ensemble_summary, labels=\"Middle 95%\")\n",
    "ensemble_summary = EnsembleSummary(ensemble_soln; \n",
    "    quantiles = [0.25, 0.75])\n",
    "plot!(ensemble_summary, labels=\"Middle 50%\",legend=true)\n",
    "xlabel!(L\"$t$\")"
   ]
  },
  {
   "cell_type": "markdown",
   "id": "944cfbc3-771a-4374-9b6a-bc5f7979622c",
   "metadata": {},
   "source": [
    "Somtimes it is helpful to manually construct the figure"
   ]
  },
  {
   "cell_type": "code",
   "execution_count": null,
   "id": "01e306ba-ab85-4121-8b0d-55a70e4abed1",
   "metadata": {},
   "outputs": [],
   "source": [
    "plot(ensemble_summary.t, ensemble_summary.u, \n",
    "    ribbon =sqrt.(ensemble_summary.v), label=\"95% CI\")\n",
    "xlabel!(L\"$t$\")"
   ]
  }
 ],
 "metadata": {
  "kernelspec": {
   "display_name": "Julia 1.7.0-rc3",
   "language": "julia",
   "name": "julia-1.7"
  },
  "language_info": {
   "file_extension": ".jl",
   "mimetype": "application/julia",
   "name": "julia",
   "version": "1.7.0"
  }
 },
 "nbformat": 4,
 "nbformat_minor": 5
}
