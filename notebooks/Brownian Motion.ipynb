{
 "cells": [
  {
   "cell_type": "markdown",
   "id": "fbe961c7-f317-4eee-8e33-a978e446c5a4",
   "metadata": {},
   "source": [
    "# Brownian Motion"
   ]
  },
  {
   "cell_type": "code",
   "execution_count": null,
   "id": "c2c55771-fed6-436d-87e1-04322fd3fb35",
   "metadata": {},
   "outputs": [],
   "source": [
    "using Plots; pyplot()\n",
    "using Random\n",
    "using LaTeXStrings\n",
    "using Statistics\n",
    "using Printf"
   ]
  },
  {
   "cell_type": "code",
   "execution_count": null,
   "id": "730cf0be-3eba-4133-8fe8-3766b4e46d4b",
   "metadata": {},
   "outputs": [],
   "source": [
    "default(xtickfont=font(14),  ytickfont=font(14), guidefont=font(14), \n",
    "    legendfontsize=12, lw=2,ms=8)"
   ]
  },
  {
   "cell_type": "code",
   "execution_count": null,
   "id": "2fe04486-5df7-40c9-8bbc-3d78b18a2d4d",
   "metadata": {},
   "outputs": [],
   "source": [
    "function sample_bm(Δt, nΔt)\n",
    "    x_vals = zeros(nΔt + 1);\n",
    "    x = 0.;\n",
    "    \n",
    "    for j in 1:nΔt\n",
    "        x+= sqrt(Δt) * randn();\n",
    "        x_vals[j+1] = x;\n",
    "    end\n",
    "        \n",
    "    return  x_vals\n",
    "    \n",
    "end"
   ]
  },
  {
   "cell_type": "code",
   "execution_count": null,
   "id": "76c7522c-04c9-4f40-9b5c-0eeb65b70718",
   "metadata": {},
   "outputs": [],
   "source": [
    "tmax = 1;\n",
    "Δt = 0.001;\n",
    "nΔt = Int(tmax/Δt);\n",
    "\n",
    "Random.seed!(100);\n",
    "t_vals = Δt * (0:nΔt);\n",
    "\n",
    "x_vals = sample_bm(Δt, nΔt);"
   ]
  },
  {
   "cell_type": "code",
   "execution_count": null,
   "id": "1240a359-1278-4aa4-9c48-69680187d5d3",
   "metadata": {},
   "outputs": [],
   "source": [
    "plot(t_vals, x_vals, label=\"Sample Path\")\n",
    "xlabel!(L\"$t$\")"
   ]
  },
  {
   "cell_type": "code",
   "execution_count": null,
   "id": "3b674b5c-205a-459b-bc31-59a67140272d",
   "metadata": {},
   "outputs": [],
   "source": [
    "plot(t_vals, x_vals, label=\"\")\n",
    "x_vals = sample_bm(Δt, nΔt);\n",
    "plot!(t_vals, x_vals, label=\"\")\n",
    "x_vals = sample_bm(Δt, nΔt);\n",
    "plot!(t_vals, x_vals, label=\"\")\n",
    "xlabel!(L\"$t$\")"
   ]
  },
  {
   "cell_type": "markdown",
   "id": "3b1dc254-6f88-4b3b-9a06-d12db5a9bc20",
   "metadata": {},
   "source": [
    "## Verify Gaussianity\n",
    "Since $B_t \\sim N(0,t)$, verify that if we sample many paths and evaluate $B_T$, we obtain the Gaussian distribution."
   ]
  },
  {
   "cell_type": "code",
   "execution_count": null,
   "id": "8dec940c-d019-4f06-935f-0d28cffe5cb9",
   "metadata": {},
   "outputs": [],
   "source": [
    "n_samples = 10^4;\n",
    "samples = zeros(n_samples);\n",
    "tmax = 1;\n",
    "Δt = 0.0001;\n",
    "nΔt = Int(tmax/Δt);\n",
    "\n",
    "Random.seed!(100);\n",
    "\n",
    "Threads.@threads for i in 1:n_samples\n",
    "    x_vals = sample_bm(Δt, nΔt);\n",
    "    samples[i] = x_vals[end];\n",
    "end\n"
   ]
  },
  {
   "cell_type": "code",
   "execution_count": null,
   "id": "ac8a8b4b-1729-415f-9c2c-6c119abb86f5",
   "metadata": {},
   "outputs": [],
   "source": [
    "histogram(samples,label=\"Sample Data\", normalize=:pdf)\n",
    "xx = LinRange(-5,5,100);\n",
    "plot!(xx, (@. exp(-xx^2/ (2*tmax))/(sqrt(2*π*tmax))),label=\"Density\")\n",
    "title!(latexstring(@sprintf(\"\\$t = %g\\$\", tmax)))"
   ]
  },
  {
   "cell_type": "markdown",
   "id": "cec83420-bc51-444a-bcc8-badb1d5f31f8",
   "metadata": {},
   "source": [
    "## Examine Path Distribution"
   ]
  },
  {
   "cell_type": "code",
   "execution_count": null,
   "id": "c3ad1655-743d-4f0c-ab8e-0c370eeb8da0",
   "metadata": {},
   "outputs": [],
   "source": [
    "n_samples = 10^2;\n",
    "tmax = 1;\n",
    "Δt = 0.0001;\n",
    "nΔt = Int(tmax/Δt);\n",
    "\n",
    "t_vals = Δt * (0:nΔt);\n",
    "sample_paths = zeros(n_samples,length(t_vals));\n",
    "\n",
    "\n",
    "Random.seed!(100);\n",
    "\n",
    "Threads.@threads for i in 1:n_samples\n",
    "    sample_paths[i,:] .= sample_bm(Δt, nΔt);\n",
    "end\n"
   ]
  },
  {
   "cell_type": "code",
   "execution_count": null,
   "id": "3c9897d6-9410-4d39-bc23-2863f66419fc",
   "metadata": {},
   "outputs": [],
   "source": [
    "mean_path= mean(sample_paths, dims=1)[:]; # use [:] to ensure these are column vectors\n",
    "var_path = var(sample_paths, dims=1)[:];\n",
    "\n",
    "plot(t_vals, mean_path, ribbon = sqrt.(var_path),label=\"Mean\")\n",
    "plot!(t_vals, sqrt.(t_vals),label=L\"$\\sqrt{t}$\")\n",
    "xlabel!(L\"$t$\")"
   ]
  },
  {
   "cell_type": "code",
   "execution_count": null,
   "id": "dc956d67-ce12-4e1e-9a44-9e8d8261eb76",
   "metadata": {},
   "outputs": [],
   "source": []
  },
  {
   "cell_type": "code",
   "execution_count": null,
   "id": "77260726-ee97-4877-9ca0-11b62264af13",
   "metadata": {},
   "outputs": [],
   "source": []
  }
 ],
 "metadata": {
  "kernelspec": {
   "display_name": "Julia 1.7.0-rc3",
   "language": "julia",
   "name": "julia-1.7"
  },
  "language_info": {
   "file_extension": ".jl",
   "mimetype": "application/julia",
   "name": "julia",
   "version": "1.7.0"
  }
 },
 "nbformat": 4,
 "nbformat_minor": 5
}
