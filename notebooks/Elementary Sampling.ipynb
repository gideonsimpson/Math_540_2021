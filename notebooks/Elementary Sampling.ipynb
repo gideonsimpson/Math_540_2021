{
 "cells": [
  {
   "cell_type": "markdown",
   "id": "bf8e5bb3-4e1c-4ce6-8193-feed4bff0649",
   "metadata": {},
   "source": [
    "# Scalar Random Variables"
   ]
  },
  {
   "cell_type": "code",
   "execution_count": null,
   "id": "9f75ba94-f411-4d94-89db-f7956467a701",
   "metadata": {},
   "outputs": [],
   "source": [
    "using Plots\n",
    "using LaTeXStrings\n",
    "using Printf\n",
    "using Random\n",
    "using Distributions\n",
    "using Statistics"
   ]
  },
  {
   "cell_type": "code",
   "execution_count": null,
   "id": "9f72202e-34e9-43bb-80a6-e4ecda5e9f22",
   "metadata": {},
   "outputs": [],
   "source": [
    "default(xtickfont=font(14),  ytickfont=font(14), guidefont=font(14), \n",
    "    legendfont=font(12), lw=2,ms=8)"
   ]
  },
  {
   "cell_type": "markdown",
   "id": "a56cc314-57dd-4d17-88f8-94cae63c66f8",
   "metadata": {},
   "source": [
    "## Basic Sampling and Seeds"
   ]
  },
  {
   "cell_type": "code",
   "execution_count": null,
   "id": "0194e5c9-968b-4581-ad3b-f0ea22009a99",
   "metadata": {},
   "outputs": [],
   "source": [
    "Random.seed!(100);\n",
    "@show x = randn(); # generate a N(0,1) r.v.\n",
    "@show y = rand(); # generate a U(0,1) r.v."
   ]
  },
  {
   "cell_type": "code",
   "execution_count": null,
   "id": "ac6acc48-60a0-4ecf-ae41-a8ece368dfee",
   "metadata": {},
   "outputs": [],
   "source": [
    "Random.seed!(100);\n",
    "@show x = randn();"
   ]
  },
  {
   "cell_type": "code",
   "execution_count": null,
   "id": "a88b7d40-c733-44a6-ac55-4ede8e4a3cd4",
   "metadata": {},
   "outputs": [],
   "source": [
    "# sample 10 N(0,1) r.v.\n",
    "x = randn(10)"
   ]
  },
  {
   "cell_type": "markdown",
   "id": "a81067fd-9daf-42e2-b225-e97e90a0e094",
   "metadata": {},
   "source": [
    "## Elementary Summary Statistics"
   ]
  },
  {
   "cell_type": "code",
   "execution_count": null,
   "id": "fec948cd-3841-4048-a52f-2e5909712c0a",
   "metadata": {},
   "outputs": [],
   "source": [
    "n_samples = 10^2;\n",
    "Random.seed!(100);\n",
    "x_vals = randn(n_samples);\n",
    "@show mean(x_vals);\n",
    "@show var(x_vals);\n",
    "@show median(x_vals);"
   ]
  },
  {
   "cell_type": "markdown",
   "id": "44436392-084a-48e0-99ff-fa77ff323bd1",
   "metadata": {},
   "source": [
    "## Histogramming Output"
   ]
  },
  {
   "cell_type": "code",
   "execution_count": null,
   "id": "ba7f686b-4a45-45fb-b790-13d5fac57fe9",
   "metadata": {},
   "outputs": [],
   "source": [
    "n_samples = 10^2;\n",
    "Random.seed!(100);\n",
    "x_vals = randn(n_samples);"
   ]
  },
  {
   "cell_type": "code",
   "execution_count": null,
   "id": "f68eb17a-201a-49b1-9625-f8a830f1f94a",
   "metadata": {},
   "outputs": [],
   "source": [
    "histogram(x_vals, label=\"Samples\")\n",
    "xlabel!(L\"$x$\")\n",
    "ylabel!(\"Frequency\")\n",
    "title!(@sprintf(\"N = %d\", n_samples))"
   ]
  },
  {
   "cell_type": "code",
   "execution_count": null,
   "id": "f52613f5-41fa-4cca-8dfc-6e0eaa99ebb1",
   "metadata": {},
   "outputs": [],
   "source": [
    "histogram(x_vals, label=\"Samples\", normalize=:pdf)\n",
    "xlabel!(L\"$x$\")\n",
    "ylabel!(\"Probability\")\n",
    "title!(@sprintf(\"N = %d\", n_samples))"
   ]
  },
  {
   "cell_type": "code",
   "execution_count": null,
   "id": "87b226c0-ba2e-46af-9993-3b7d57d72384",
   "metadata": {},
   "outputs": [],
   "source": [
    "xx = LinRange(-3,3,100);\n",
    "\n",
    "p = x-> exp(-x^2/2)/sqrt(2*π);\n",
    "\n",
    "histogram(x_vals, label=\"Samples\", normalize=:pdf)\n",
    "plot!(xx, p.(xx), label=\"PDF\")\n",
    "xlabel!(L\"$x$\")\n",
    "ylabel!(\"Probability\")\n",
    "title!(@sprintf(\"N = %d\", n_samples))"
   ]
  },
  {
   "cell_type": "markdown",
   "id": "e4907443-d162-42a7-84d0-1fd218082d2f",
   "metadata": {},
   "source": [
    "## Sampling from Other Distributions"
   ]
  },
  {
   "cell_type": "markdown",
   "id": "c01e0250-e9eb-443a-8e23-e8243b20a837",
   "metadata": {},
   "source": [
    "### Normal Distribution"
   ]
  },
  {
   "cell_type": "code",
   "execution_count": null,
   "id": "35b0d266-15be-4b13-b8b3-1a2e1d4c6954",
   "metadata": {},
   "outputs": [],
   "source": [
    "μ = 2;\n",
    "σ = 0.1;\n",
    "\n",
    "n_samples = 10^2;\n",
    "\n",
    "normal_dist = Normal(μ, σ);\n",
    "samples = rand(normal_dist, n_samples);\n",
    "@show mean(samples);\n",
    "@show var(samples);"
   ]
  },
  {
   "cell_type": "code",
   "execution_count": null,
   "id": "c7b2a4a2-8047-4356-960e-464c6e535f9c",
   "metadata": {},
   "outputs": [],
   "source": [
    "xx = LinRange(1,3,100);\n",
    "histogram(samples, label=\"Samples\", normalize=:pdf)\n",
    "plot!(xx, pdf.(normal_dist, xx), label=\"PDF\")\n",
    "xlabel!(L\"$x$\")\n",
    "ylabel!(\"Probability\")\n",
    "title!(latexstring(@sprintf(\"N = %d, \\\\mu= %g, \\\\sigma=%g\", \n",
    "            n_samples, μ, σ)))"
   ]
  },
  {
   "cell_type": "markdown",
   "id": "fb333c7b-67a2-44f2-9e6d-6e9a4abb3727",
   "metadata": {},
   "source": [
    "### Uniform Distributions"
   ]
  },
  {
   "cell_type": "code",
   "execution_count": null,
   "id": "f4de6f64-00ba-4523-8387-31e5521b2129",
   "metadata": {},
   "outputs": [],
   "source": [
    "a = 1;\n",
    "b = 3;\n",
    "\n",
    "n_samples = 10^2;\n",
    "\n",
    "unif_dist = Uniform(a,b);\n",
    "samples = rand(unif_dist, n_samples);\n",
    "@show mean(samples);\n",
    "@show var(samples);"
   ]
  },
  {
   "cell_type": "code",
   "execution_count": null,
   "id": "9c6797cb-852c-40e6-b4da-4dcd6d349bd6",
   "metadata": {},
   "outputs": [],
   "source": [
    "xx = LinRange(0,4,100);\n",
    "histogram(samples, label=\"Samples\", normalize=:pdf)\n",
    "plot!(xx, pdf.(unif_dist, xx), label=\"PDF\")\n",
    "xlabel!(L\"$x$\")\n",
    "ylabel!(\"Probability\")\n",
    "title!(latexstring(@sprintf(\"N = %d, a = %g, b = %g\", \n",
    "            n_samples, a,b)))"
   ]
  },
  {
   "cell_type": "markdown",
   "id": "28288ae5-693d-4338-aa01-98b1bab54120",
   "metadata": {},
   "source": [
    "### Exponential Distribution"
   ]
  },
  {
   "cell_type": "code",
   "execution_count": null,
   "id": "9db3cf2d-3ec5-49d0-982d-9214e0584e22",
   "metadata": {},
   "outputs": [],
   "source": [
    "λ = 2;\n",
    "\n",
    "n_samples = 10^2;\n",
    "\n",
    "exp_dist = Exponential(λ);\n",
    "samples = rand(exp_dist, n_samples);\n",
    "@show mean(samples);\n",
    "@show var(samples);"
   ]
  },
  {
   "cell_type": "code",
   "execution_count": null,
   "id": "703e0143-5494-4a93-9fd3-5a7d570f3c02",
   "metadata": {},
   "outputs": [],
   "source": [
    "xx = LinRange(0,10,100);\n",
    "histogram(samples, label=\"Samples\", normalize=:pdf)\n",
    "plot!(xx, pdf.(exp_dist, xx), label=\"PDF\")\n",
    "xlabel!(L\"$x$\")\n",
    "ylabel!(\"Probability\")\n",
    "title!(latexstring(@sprintf(\"N = %d, \\\\lambda= %g\", \n",
    "            n_samples, λ)))"
   ]
  }
 ],
 "metadata": {
  "kernelspec": {
   "display_name": "Julia 1.7.0-rc2",
   "language": "julia",
   "name": "julia-1.7"
  },
  "language_info": {
   "file_extension": ".jl",
   "mimetype": "application/julia",
   "name": "julia",
   "version": "1.7.0"
  }
 },
 "nbformat": 4,
 "nbformat_minor": 5
}
