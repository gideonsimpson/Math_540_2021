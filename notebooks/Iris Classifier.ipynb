{
 "cells": [
  {
   "cell_type": "markdown",
   "id": "28073810-33d7-4add-ac3f-61b46a4b43a4",
   "metadata": {},
   "source": [
    "# Introduction to Neural Net Classifiers\n",
    "This tries to classify iris flower types based on four measurements. See https://archive.ics.uci.edu/ml/datasets/Iris/ for details"
   ]
  },
  {
   "cell_type": "code",
   "execution_count": null,
   "id": "e2a968bd-1374-483a-8a3b-6b8025819829",
   "metadata": {},
   "outputs": [],
   "source": [
    "using Flux\n",
    "using MLDatasets\n",
    "using Random\n",
    "using Statistics\n",
    "using IterTools: ncycle \n",
    "using ProgressMeter\n",
    "using Plots"
   ]
  },
  {
   "cell_type": "markdown",
   "id": "5add805f-f6fd-44ac-9a12-c42f05e94b9d",
   "metadata": {},
   "source": [
    "Type `y` when prompted the first time."
   ]
  },
  {
   "cell_type": "code",
   "execution_count": null,
   "id": "7443cdef-a911-4985-acd6-ad9c53ba4c46",
   "metadata": {},
   "outputs": [],
   "source": [
    "labels = MLDatasets.Iris.labels();\n",
    "features = MLDatasets.Iris.features();"
   ]
  },
  {
   "cell_type": "code",
   "execution_count": null,
   "id": "91b254f8-832d-4054-9891-37e19782ce66",
   "metadata": {},
   "outputs": [],
   "source": [
    "labels"
   ]
  },
  {
   "cell_type": "code",
   "execution_count": null,
   "id": "98156c40-f64d-452f-b084-d99d951672c4",
   "metadata": {},
   "outputs": [],
   "source": [
    "unique(labels)"
   ]
  },
  {
   "cell_type": "code",
   "execution_count": null,
   "id": "a32babd0-3df1-410d-aaf8-f5cd571d30b3",
   "metadata": {},
   "outputs": [],
   "source": [
    "features"
   ]
  },
  {
   "cell_type": "code",
   "execution_count": null,
   "id": "851128f7-327e-47f3-aca7-e5fa2821606e",
   "metadata": {},
   "outputs": [],
   "source": [
    "normed_features = Flux.normalise(features, dims=2); # normalize the data\n",
    "klasses = sort(unique(labels));\n",
    "onehot_labels = Flux.onehotbatch(labels, klasses); # identify the classes\n"
   ]
  },
  {
   "cell_type": "code",
   "execution_count": null,
   "id": "f9455761-4036-4179-885c-0012cdaf8834",
   "metadata": {},
   "outputs": [],
   "source": [
    "normed_features"
   ]
  },
  {
   "cell_type": "markdown",
   "id": "b85c5a2c-0caa-4e97-aff2-24963f91f567",
   "metadata": {},
   "source": [
    "## Split into Training/Testing Data"
   ]
  },
  {
   "cell_type": "code",
   "execution_count": null,
   "id": "85f7d5f0-9eef-49e0-abe4-cd6bb9088726",
   "metadata": {},
   "outputs": [],
   "source": [
    "n = size(normed_features)[2]\n",
    "Random.seed!(100);\n",
    "idx = shuffle(1:n);\n",
    "split = 0.7; # 70% for training and the balance for testing is common\n",
    "train_idx = idx[1:floor(Int, split *n)];\n",
    "test_idx = idx[floor(Int, split *n)+1:end];\n",
    "\n",
    "n_train = length(train_idx);\n",
    "n_test = length(test_idx);\n",
    "\n",
    "X_train = normed_features[:, train_idx]\n",
    "y_train = onehot_labels[:, train_idx]\n",
    "\n",
    "X_test = normed_features[:, test_idx]\n",
    "y_test = onehot_labels[:, test_idx]\n",
    "\n",
    "# arrange as (x,y) pairs for training\n",
    "train_data = Flux.Data.DataLoader((X_train, y_train),batchsize=n_train)\n"
   ]
  },
  {
   "cell_type": "code",
   "execution_count": null,
   "id": "989cc0f9-6aee-499c-a28d-5cdcd9af7190",
   "metadata": {},
   "outputs": [],
   "source": []
  },
  {
   "cell_type": "markdown",
   "id": "8d23f23a-cd29-454d-9704-5cf03a0ca665",
   "metadata": {},
   "source": [
    "## Set up Neural net"
   ]
  },
  {
   "cell_type": "code",
   "execution_count": null,
   "id": "c8cdc477-e3e3-44e2-afed-fdd0d0e76bac",
   "metadata": {},
   "outputs": [],
   "source": [
    "Random.seed!(200);\n",
    "# Shallow network with no hidden layers\n",
    "# model = Chain(Dense(4, 100, sigmoid),Dense(100,3));\n",
    "model = Dense(4,3);\n",
    "p = params(model);\n",
    "p0 = deepcopy(p);"
   ]
  },
  {
   "cell_type": "markdown",
   "id": "5583de46-8c3a-4bc5-a17e-5f4792c586d4",
   "metadata": {},
   "source": [
    "## Train"
   ]
  },
  {
   "cell_type": "code",
   "execution_count": null,
   "id": "b8f8dd1f-a639-4c04-bb2e-6602e9583a36",
   "metadata": {},
   "outputs": [],
   "source": [
    "loss = (x, y)-> Flux.Losses.logitcrossentropy(model(x), y); # set the loss function\n",
    "opt = ADAM(0.1); # pick the classifier and the ''learning rate''"
   ]
  },
  {
   "cell_type": "code",
   "execution_count": null,
   "id": "cd84ee23-7ceb-445f-a552-93e909070e08",
   "metadata": {},
   "outputs": [],
   "source": [
    "numEpochs = 10000;\n",
    "\n",
    "losses=Float32[]\n",
    "ProgressMeter.ijulia_behavior(:clear);\n",
    "pmeter = Progress(length(train_data)*numEpochs)\n",
    "\n",
    "cb() = begin\n",
    "    l=loss(X_train,y_train)\n",
    "    push!(losses, l)\n",
    "    next!(pmeter; showvalues=[(:loss,l)])\n",
    "end \n",
    "\n",
    "Flux.train!(loss, p, ncycle(train_data, numEpochs), opt, cb=cb)"
   ]
  },
  {
   "cell_type": "code",
   "execution_count": null,
   "id": "065ef2e7-db12-44e5-9c84-3e716191ba7e",
   "metadata": {},
   "outputs": [],
   "source": [
    "plot(1:length(losses),losses,legend=false, xscale=:log10)\n",
    "xlabel!(\"Epoch\")\n",
    "ylabel!(\"Training Data Loss\")"
   ]
  },
  {
   "cell_type": "markdown",
   "id": "d9e78817-dd4a-41d7-a99d-695a41af2fad",
   "metadata": {},
   "source": [
    "## Assess Accuracy"
   ]
  },
  {
   "cell_type": "code",
   "execution_count": null,
   "id": "213a1119-5145-4c90-a921-a3f44bd2e980",
   "metadata": {},
   "outputs": [],
   "source": [
    "println(\"Training Error\")\n",
    "mean(Flux.onecold(model(X_train)) .== Flux.onecold(y_train))"
   ]
  },
  {
   "cell_type": "code",
   "execution_count": null,
   "id": "d0330ba0-9a0d-4c00-869b-86a1f7958e63",
   "metadata": {},
   "outputs": [],
   "source": [
    "println(\"Testing Error\")\n",
    "\n",
    "mean(Flux.onecold(model(X_test)) .== Flux.onecold(y_test))"
   ]
  }
 ],
 "metadata": {
  "kernelspec": {
   "display_name": "Julia 1.7.0",
   "language": "julia",
   "name": "julia-1.7"
  },
  "language_info": {
   "file_extension": ".jl",
   "mimetype": "application/julia",
   "name": "julia",
   "version": "1.7.0"
  }
 },
 "nbformat": 4,
 "nbformat_minor": 5
}
