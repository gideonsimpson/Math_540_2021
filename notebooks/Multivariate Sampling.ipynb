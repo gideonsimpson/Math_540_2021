{
 "cells": [
  {
   "cell_type": "code",
   "execution_count": null,
   "id": "69fa2136-bd0c-47ed-a0fc-78a934532c97",
   "metadata": {},
   "outputs": [],
   "source": [
    "using Plots\n",
    "using LaTeXStrings\n",
    "using Printf\n",
    "using Random\n",
    "using Distributions\n",
    "using Statistics"
   ]
  },
  {
   "cell_type": "code",
   "execution_count": null,
   "id": "a5096014-ab2d-4861-a283-9604dadc24da",
   "metadata": {},
   "outputs": [],
   "source": [
    "default(xtickfont=font(14),  ytickfont=font(14), guidefont=font(14), \n",
    "    legendfont=font(12), lw=2,ms=8)"
   ]
  },
  {
   "cell_type": "code",
   "execution_count": null,
   "id": "f678c878-6010-42fc-a5ef-26a65e121e94",
   "metadata": {},
   "outputs": [],
   "source": [
    "μ = [1, 2];\n",
    "Σ = [2 -1; -1 2];\n",
    "\n",
    "\n",
    "gauss_dist = MvNormal(μ,Σ)\n",
    "\n",
    "n_samples = 10^2;\n",
    "Random.seed!(100);\n",
    "samples = rand(gauss_dist, n_samples);\n"
   ]
  },
  {
   "cell_type": "code",
   "execution_count": null,
   "id": "097e2a26-af60-4c4f-87a8-bf39a7e671ae",
   "metadata": {},
   "outputs": [],
   "source": [
    "samples"
   ]
  },
  {
   "cell_type": "code",
   "execution_count": null,
   "id": "7ef62e03-65ef-4c4e-8c87-535803af96b4",
   "metadata": {},
   "outputs": [],
   "source": [
    "mean(samples, dims=2)"
   ]
  },
  {
   "cell_type": "code",
   "execution_count": null,
   "id": "bdaff543-cd4c-473d-993a-c9b9875647c8",
   "metadata": {},
   "outputs": [],
   "source": [
    "cov(samples, dims=2)"
   ]
  },
  {
   "cell_type": "code",
   "execution_count": null,
   "id": "fedf5ccc-0dd3-46df-b3aa-6f702b194b85",
   "metadata": {},
   "outputs": [],
   "source": [
    "histogram2d(samples[1,:], samples[2,:])"
   ]
  }
 ],
 "metadata": {
  "kernelspec": {
   "display_name": "Julia 1.6.3",
   "language": "julia",
   "name": "julia-1.6"
  },
  "language_info": {
   "file_extension": ".jl",
   "mimetype": "application/julia",
   "name": "julia",
   "version": "1.6.3"
  }
 },
 "nbformat": 4,
 "nbformat_minor": 5
}
