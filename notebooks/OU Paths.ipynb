{
 "cells": [
  {
   "cell_type": "markdown",
   "id": "df6fcbf5-1a32-465d-ab05-12c1e2a7db5c",
   "metadata": {},
   "source": [
    "# Explore Sampling from the Ornstein-Uhlenbeck Process (OU)\n",
    "The OU process,  in general, takes the form\n",
    "$$\n",
    "dX_t = -\\alpha(t) (X_t - m(t)) + \\sigma(t) dB_t, \\quad X_0 = x_0\n",
    "$$\n",
    "where $\\alpha(t)>0$ and $\\sigma(t)>0$, and $B_t$ is a standard Brownian motion.  This is a mean reverting process, as the first term encourages it to return to $m(t)$.\n",
    "\n",
    "This can be approximated using the Euler-Maruyama time step scheme, which corresponds to\n",
    "$$\n",
    "X_{n+1} = X_n - \\alpha(t_n) (X_n -m(t_n))\\Delta t + \\sigma(t_n)\\sqrt{\\Delta t} \\xi_{n+1}, \\quad \\xi_{n+1}\\sim N(0,1)\n",
    "$$"
   ]
  },
  {
   "cell_type": "code",
   "execution_count": null,
   "id": "d58d3a46-3a42-46dc-9b5a-5957c0a93af3",
   "metadata": {},
   "outputs": [],
   "source": [
    "using Plots; pyplot()\n",
    "using Random\n",
    "using LaTeXStrings\n",
    "using Statistics\n",
    "using Printf"
   ]
  },
  {
   "cell_type": "code",
   "execution_count": null,
   "id": "cc71b242-a9b4-4c8c-9b8d-fd5e45eb6de6",
   "metadata": {},
   "outputs": [],
   "source": [
    "default(xtickfont=font(14),  ytickfont=font(14), guidefont=font(14), \n",
    "    legendfontsize=12, lw=2,ms=8)"
   ]
  },
  {
   "cell_type": "code",
   "execution_count": null,
   "id": "c4839d23-fd69-40e9-8118-4f21b22411bb",
   "metadata": {},
   "outputs": [],
   "source": [
    "function sample_ou(x0, α, σ, m, Δt, nΔt)\n",
    "    x_vals = zeros(nΔt + 1);\n",
    "    x = x0;\n",
    "    x_vals[1] = x0;\n",
    "    \n",
    "    for j in 0:nΔt-1\n",
    "        t = j * Δt;\n",
    "        ξ = randn();\n",
    "        \n",
    "        x+= -α(t) * (x-m(t)) * Δt + σ(t) * sqrt(Δt) * randn();\n",
    "        x_vals[j+2] = x;\n",
    "    end\n",
    "        \n",
    "    return  x_vals\n",
    "    \n",
    "end"
   ]
  },
  {
   "cell_type": "code",
   "execution_count": null,
   "id": "530d7d42-6cb9-4d45-9cc0-0b4151c749d9",
   "metadata": {},
   "outputs": [],
   "source": [
    "tmax = 10;\n",
    "Δt = 0.01;\n",
    "nΔt = Int(tmax/Δt);\n",
    "\n",
    "Random.seed!(100);\n",
    "t_vals = Δt * (0:nΔt);\n",
    "\n",
    "α= t-> 1;\n",
    "m =t-> 0;\n",
    "σ = t-> 1;\n",
    "\n",
    "x0 = 0.;\n",
    "\n",
    "x_vals = sample_ou(x0, α, σ, m, Δt, nΔt);"
   ]
  },
  {
   "cell_type": "code",
   "execution_count": null,
   "id": "ec2cb91b-15fd-4073-90f5-116e874fea22",
   "metadata": {},
   "outputs": [],
   "source": [
    "plot(t_vals, x_vals, label=\"Sample Path\")\n",
    "xlabel!(L\"$t$\")"
   ]
  },
  {
   "cell_type": "code",
   "execution_count": null,
   "id": "f0aa4be6-b6bb-4df0-b9aa-21e0568a5339",
   "metadata": {},
   "outputs": [],
   "source": [
    "plot(t_vals, x_vals, label=\"\")\n",
    "x_vals = sample_ou(x0, α, σ, m, Δt, nΔt);\n",
    "plot!(t_vals, x_vals, label=\"\")\n",
    "x_vals = sample_ou(x0, α, σ, m, Δt, nΔt);\n",
    "plot!(t_vals, x_vals, label=\"\")\n",
    "xlabel!(L\"$t$\")"
   ]
  },
  {
   "cell_type": "markdown",
   "id": "07943c19-d5fa-46b7-9fd0-f1346ec9a799",
   "metadata": {},
   "source": [
    "## Examine Path Distribution"
   ]
  },
  {
   "cell_type": "code",
   "execution_count": null,
   "id": "b6bc5640-179f-474b-a8db-b911f76d1b55",
   "metadata": {},
   "outputs": [],
   "source": [
    "n_samples = 10^2;\n",
    "tmax = 10;\n",
    "Δt = 0.01;\n",
    "nΔt = Int(tmax/Δt);\n",
    "\n",
    "Random.seed!(100);\n",
    "t_vals = Δt * (0:nΔt);\n",
    "\n",
    "α= t-> 1;\n",
    "m =t-> 0;\n",
    "σ = t-> 1;\n",
    "\n",
    "# α= t-> 1;\n",
    "# m =t-> t;\n",
    "# σ = t-> 0.01 + 5*sin(π*t)^2;\n",
    "\n",
    "\n",
    "x0 = 0.;\n",
    "\n",
    "t_vals = Δt * (0:nΔt);\n",
    "sample_paths = zeros(n_samples,length(t_vals));\n",
    "\n",
    "\n",
    "Random.seed!(100);\n",
    "\n",
    "Threads.@threads for i in 1:n_samples\n",
    "    sample_paths[i,:] .=sample_ou(x0, α, σ, m, Δt, nΔt);\n",
    "end\n"
   ]
  },
  {
   "cell_type": "code",
   "execution_count": null,
   "id": "1112cceb-9a9b-4a8b-a467-313ec2047182",
   "metadata": {},
   "outputs": [],
   "source": [
    "mean_path= mean(sample_paths, dims=1)[:]; # use [:] to ensure these are column vectors\n",
    "var_path = var(sample_paths, dims=1)[:];\n",
    "\n",
    "plot(t_vals, mean_path, ribbon = sqrt.(var_path),label=\"Mean\")\n",
    "xlabel!(L\"$t$\")"
   ]
  },
  {
   "cell_type": "code",
   "execution_count": null,
   "id": "919fc383-e3f0-465f-941a-7419b93d9347",
   "metadata": {},
   "outputs": [],
   "source": []
  }
 ],
 "metadata": {
  "kernelspec": {
   "display_name": "Julia 1.7.0-rc3",
   "language": "julia",
   "name": "julia-1.7"
  },
  "language_info": {
   "file_extension": ".jl",
   "mimetype": "application/julia",
   "name": "julia",
   "version": "1.7.0"
  }
 },
 "nbformat": 4,
 "nbformat_minor": 5
}
