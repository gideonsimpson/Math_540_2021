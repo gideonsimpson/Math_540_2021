{
 "cells": [
  {
   "cell_type": "code",
   "execution_count": null,
   "id": "37b37fe1-9e50-4fad-964f-2b3e02beefb6",
   "metadata": {},
   "outputs": [],
   "source": [
    "using Plots; pyplot()\n",
    "using LaTeXStrings\n",
    "using Distributions\n",
    "using Random\n",
    "using LaTeXStrings\n",
    "using Printf"
   ]
  },
  {
   "cell_type": "code",
   "execution_count": null,
   "id": "aa120392-61b4-46d5-bf36-e40c3bd78b6e",
   "metadata": {},
   "outputs": [],
   "source": [
    "using RandomDataODE"
   ]
  },
  {
   "cell_type": "code",
   "execution_count": null,
   "id": "0c6388c1-e79c-495c-8bbc-e228e9648b9d",
   "metadata": {},
   "outputs": [],
   "source": [
    "n_samples = 10^4;\n",
    "Tmax = 20.;\n",
    "\n",
    "# generate initial condition data\n",
    "ϵ = 0.4;\n",
    "xdist = Uniform(0.5-ϵ, 0.5 + ϵ);\n",
    "ydist = Uniform(2.0-ϵ, 2.0 + ϵ);\n",
    "Random.seed!(100)\n",
    "u0data = [[rand(xdist), rand(ydist)] for _ in 1:n_samples];"
   ]
  },
  {
   "cell_type": "code",
   "execution_count": null,
   "id": "561717bb-7e0e-46fc-ae4c-7eb5be00f3ea",
   "metadata": {},
   "outputs": [],
   "source": [
    "f = sol->sol(Tmax)[1]; # observable function"
   ]
  },
  {
   "cell_type": "markdown",
   "id": "859154ad-ac26-4911-91f3-46c7e9636daf",
   "metadata": {},
   "source": [
    "## Randomize Data and Look at Solution at Tmax"
   ]
  },
  {
   "cell_type": "code",
   "execution_count": null,
   "id": "1b0b0cfa-9602-4830-be71-6cd89b8426eb",
   "metadata": {},
   "outputs": [],
   "source": [
    "samples = run_obs_ensemble(u0data, Tmax, f);"
   ]
  },
  {
   "cell_type": "code",
   "execution_count": null,
   "id": "70158877-be83-4a0f-a382-8e5320751555",
   "metadata": {},
   "outputs": [],
   "source": [
    "@show μ = mean(samples);\n",
    "@show σ2 = var(samples);\n",
    "@printf(\"95%% CI: (%g, %g)\\n\", μ-1.96*sqrt(σ2)/n_samples,μ+1.96*sqrt(σ2)/n_samples)"
   ]
  },
  {
   "cell_type": "code",
   "execution_count": null,
   "id": "712f92a6-1c12-4a9c-b7bd-5bb32e393468",
   "metadata": {},
   "outputs": [],
   "source": [
    "histogram(samples, label=\"Samples\", normalize=:pdf)\n",
    "xlabel!(L\"$u_1(T)$\")\n",
    "ylabel!(\"Probability\")"
   ]
  },
  {
   "cell_type": "markdown",
   "id": "d347eba5-edd6-4a46-b4cc-3f5669d1368a",
   "metadata": {},
   "source": [
    "## Randomize Data and Look at Paths"
   ]
  },
  {
   "cell_type": "code",
   "execution_count": null,
   "id": "34e5af69-fd0c-427d-a44f-2fe289996940",
   "metadata": {},
   "outputs": [],
   "source": [
    "t_vals = LinRange(0,Tmax, 100)\n",
    "u1samples, u2samples = run_path_ensemble(u0data, Tmax, t_vals);"
   ]
  },
  {
   "cell_type": "code",
   "execution_count": null,
   "id": "754a3e3f-442c-443a-ae19-90b7fa36dfac",
   "metadata": {},
   "outputs": [],
   "source": [
    "size(u1samples)"
   ]
  },
  {
   "cell_type": "code",
   "execution_count": null,
   "id": "a9a20186-b792-4f05-a0a0-cbf33cd8aafe",
   "metadata": {},
   "outputs": [],
   "source": [
    "u1_avg = mean(u1samples, dims=1)[:]; # [:] ensures these are column vectors\n",
    "u1_var = var(u1samples, dims=1)[:];\n",
    "u2_avg = mean(u2samples, dims=1)[:];\n",
    "u2_var = var(u2samples, dims=1)[:];"
   ]
  },
  {
   "cell_type": "code",
   "execution_count": null,
   "id": "3b67ac36-7248-4b71-a3e7-d41f36241e33",
   "metadata": {},
   "outputs": [],
   "source": [
    "plot(t_vals, u1_avg, ribbon = sqrt.(u1_var), label=L\"$u_1$\", legend=:topleft)\n",
    "plot!(t_vals, u2_avg, ribbon = sqrt.(u2_var), label=L\"$u_2$\")\n",
    "xlabel!(L\"$t$\")"
   ]
  },
  {
   "cell_type": "code",
   "execution_count": null,
   "id": "944db915-2ff2-4955-a8f7-fc9fe44175db",
   "metadata": {},
   "outputs": [],
   "source": []
  }
 ],
 "metadata": {
  "kernelspec": {
   "display_name": "Julia 1.7.0-rc3",
   "language": "julia",
   "name": "julia-1.7"
  },
  "language_info": {
   "file_extension": ".jl",
   "mimetype": "application/julia",
   "name": "julia",
   "version": "1.7.0"
  }
 },
 "nbformat": 4,
 "nbformat_minor": 5
}
