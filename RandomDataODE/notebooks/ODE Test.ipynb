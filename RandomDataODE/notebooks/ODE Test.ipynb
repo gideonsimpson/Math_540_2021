{
 "cells": [
  {
   "cell_type": "code",
   "execution_count": null,
   "id": "0af15bb6-32cc-494a-8f21-6a17a8d69a96",
   "metadata": {},
   "outputs": [],
   "source": [
    "using Plots; pyplot()\n",
    "using LaTeXStrings"
   ]
  },
  {
   "cell_type": "code",
   "execution_count": null,
   "id": "a229df61-470c-4871-bab2-3646baa21257",
   "metadata": {},
   "outputs": [],
   "source": [
    "using RandomDataODE"
   ]
  },
  {
   "cell_type": "markdown",
   "id": "7842f77e-ea90-47a5-8c08-c30fa79fd277",
   "metadata": {},
   "source": [
    "## Solve our ODE with given data"
   ]
  },
  {
   "cell_type": "code",
   "execution_count": null,
   "id": "c66f30e0-b378-424f-9272-ecee7ef47652",
   "metadata": {},
   "outputs": [],
   "source": [
    "u0 = [0.5, 1.5];\n",
    "Tmax = 10.;\n",
    "soln = solve_ode(u0, Tmax);"
   ]
  },
  {
   "cell_type": "markdown",
   "id": "c367590a-b5f6-46d3-b499-5894bdcdf5b7",
   "metadata": {},
   "source": [
    "## Examine the solution data structure"
   ]
  },
  {
   "cell_type": "code",
   "execution_count": null,
   "id": "25b66660-626e-4730-983d-8148ed69c332",
   "metadata": {},
   "outputs": [],
   "source": [
    "soln"
   ]
  },
  {
   "cell_type": "code",
   "execution_count": null,
   "id": "edd88b92-9f7e-480f-aef0-7264c1f2a3b2",
   "metadata": {},
   "outputs": [],
   "source": [
    "soln.t"
   ]
  },
  {
   "cell_type": "code",
   "execution_count": null,
   "id": "57d60598-f764-4316-bdfe-d03211a48098",
   "metadata": {},
   "outputs": [],
   "source": [
    "soln.u"
   ]
  },
  {
   "cell_type": "markdown",
   "id": "de18a0bd-f1fe-4f09-8b4d-31a0f9f86714",
   "metadata": {},
   "source": [
    "## Use the built in plotting routine for the solution data structure"
   ]
  },
  {
   "cell_type": "code",
   "execution_count": null,
   "id": "3f033ef3-df32-4963-8d54-d65d6af0a057",
   "metadata": {},
   "outputs": [],
   "source": [
    "plot(soln)"
   ]
  },
  {
   "cell_type": "markdown",
   "id": "191a1509-e4f1-496c-94f1-f472567e6e10",
   "metadata": {},
   "source": [
    "## Manually generate the figure for greater control"
   ]
  },
  {
   "cell_type": "code",
   "execution_count": null,
   "id": "d661bea8-f8d9-459b-ad96-824c9178beb9",
   "metadata": {},
   "outputs": [],
   "source": [
    "t_vals = LinRange(0,Tmax,100); # plot at these points\n",
    "u_vals = soln.(t_vals);\n",
    "plot(t_vals, [u[1] for u in u_vals],label =L\"$u_1$\", legend=:topleft)\n",
    "plot!(t_vals, [u[2] for u in u_vals],label =L\"$u_2$\")\n",
    "xlabel!(L\"$t$\")"
   ]
  }
 ],
 "metadata": {
  "kernelspec": {
   "display_name": "Julia 1.7.0-rc3",
   "language": "julia",
   "name": "julia-1.7"
  },
  "language_info": {
   "file_extension": ".jl",
   "mimetype": "application/julia",
   "name": "julia",
   "version": "1.7.0"
  }
 },
 "nbformat": 4,
 "nbformat_minor": 5
}
