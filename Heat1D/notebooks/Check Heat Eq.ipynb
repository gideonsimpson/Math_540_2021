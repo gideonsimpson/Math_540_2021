{
 "cells": [
  {
   "cell_type": "code",
   "execution_count": null,
   "id": "a46315c9-5d78-4475-9d7c-4e6f2da5101d",
   "metadata": {},
   "outputs": [],
   "source": [
    "using Plots; pyplot()\n",
    "using Printf\n",
    "# using Revise\n",
    "using Heat1D\n",
    "using LaTeXStrings"
   ]
  },
  {
   "cell_type": "code",
   "execution_count": null,
   "id": "8c9d56e7-6d35-469d-8d22-1049fd704446",
   "metadata": {},
   "outputs": [],
   "source": [
    "a = 0;\n",
    "b = 1;\n",
    "nx = 49;\n",
    "Δt = 0.001;\n",
    "tmax = 0.1;\n",
    "x = LinRange(0,1,nx+2)[1:end-1];\n",
    "u0 = @. sin(2*π * x)^2;"
   ]
  },
  {
   "cell_type": "code",
   "execution_count": null,
   "id": "056ca8cf-b47c-4ae3-addc-1c0b52cf4e67",
   "metadata": {},
   "outputs": [],
   "source": [
    "problem = FDHeatProblem(a,b, nx, Δt, tmax, u0, PeriodicBC(), PeriodicBC(), BEuler());"
   ]
  },
  {
   "cell_type": "code",
   "execution_count": null,
   "id": "b9c15628-4163-4857-8dce-1582b79d8e75",
   "metadata": {},
   "outputs": [],
   "source": [
    "t_trajectory, u_trajectory = solve_heat(problem);"
   ]
  },
  {
   "cell_type": "code",
   "execution_count": null,
   "id": "06d0717e-75da-4ac2-bc7b-c1416984dc79",
   "metadata": {
    "tags": []
   },
   "outputs": [],
   "source": [
    "anim = @animate for i in 1:length(t_trajectory)\n",
    "    plot(x, u_trajectory[i])\n",
    "    ylims!(0,1.2)\n",
    "    title!(@sprintf(\"t = %g\", t_trajectory[i]))\n",
    "end"
   ]
  },
  {
   "cell_type": "code",
   "execution_count": null,
   "id": "8c42af79-99da-4800-833d-abfd6b829749",
   "metadata": {
    "tags": []
   },
   "outputs": [],
   "source": [
    "gif(anim, fps = 3)"
   ]
  },
  {
   "cell_type": "code",
   "execution_count": null,
   "id": "a9cb1e8c-5232-4387-9d70-1b545e18d8bc",
   "metadata": {},
   "outputs": [],
   "source": [
    "u_surf = zeros(length(x), length(t_trajectory));\n",
    "for j in 1:length(t_trajectory)\n",
    "    @. u_surf[:,j] = u_trajectory[j];\n",
    "end"
   ]
  },
  {
   "cell_type": "code",
   "execution_count": null,
   "id": "9943a356-9d90-43fe-8eb1-c3b63c63bfcc",
   "metadata": {},
   "outputs": [],
   "source": [
    "contourf(x, t_trajectory, u_surf', color=:viridis)\n",
    "xlabel!(L\"$x$\");\n",
    "ylabel!(L\"$t$\")"
   ]
  }
 ],
 "metadata": {
  "kernelspec": {
   "display_name": "Julia 1.6.3",
   "language": "julia",
   "name": "julia-1.6"
  },
  "language_info": {
   "file_extension": ".jl",
   "mimetype": "application/julia",
   "name": "julia",
   "version": "1.6.3"
  }
 },
 "nbformat": 4,
 "nbformat_minor": 5
}
