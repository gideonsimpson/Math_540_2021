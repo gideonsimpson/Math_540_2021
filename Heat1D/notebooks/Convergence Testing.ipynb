{
 "cells": [
  {
   "cell_type": "markdown",
   "id": "f9d7e191-20c0-4d55-b831-2d59247e8f4d",
   "metadata": {},
   "source": [
    "# Convergence Testing of the Heat Equation\n",
    "Check convergence using a high resolution surrogate solution"
   ]
  },
  {
   "cell_type": "code",
   "execution_count": null,
   "id": "aa716336-5379-4aac-b20d-e550d4937332",
   "metadata": {},
   "outputs": [],
   "source": [
    "using Plots; pyplot()\n",
    "using Printf\n",
    "using Heat1D\n",
    "using LaTeXStrings\n",
    "using LinearAlgebra\n",
    "using Dierckx"
   ]
  },
  {
   "cell_type": "code",
   "execution_count": null,
   "id": "a1188879-d237-4b96-bfc5-abe7729e84d0",
   "metadata": {},
   "outputs": [],
   "source": [
    "default(lw=2,markersize = 6,\n",
    "    xtickfont=font(12), ytickfont=font(12), \n",
    "    guidefont=font(14), legendfont=font(12),titlefont=font(12))"
   ]
  },
  {
   "cell_type": "markdown",
   "id": "8ba2f07f-c64e-4955-9f6e-c91d05c87a9f",
   "metadata": {},
   "source": [
    "## Convergence in Time"
   ]
  },
  {
   "cell_type": "code",
   "execution_count": null,
   "id": "cc3e8ed2-8cee-409d-acab-3720d116891c",
   "metadata": {},
   "outputs": [],
   "source": [
    "a = 0;\n",
    "b = 1;\n",
    "nx = 99;\n",
    "Δt_ref = 1.e-5;\n",
    "tmax = 0.1;\n",
    "x = LinRange(0,1,nx+2)[1:end-1];\n",
    "# u0 = @. exp(-sin(2* π * x));\n",
    "u0 = @. sin(2* π * x);"
   ]
  },
  {
   "cell_type": "code",
   "execution_count": null,
   "id": "f2e61695-bced-40bb-ab7c-646389ed626c",
   "metadata": {},
   "outputs": [],
   "source": [
    "problem_ref = FDHeatProblem(a, b, nx, Δt_ref, tmax, u0, PeriodicBC(), PeriodicBC(), BEuler());\n",
    "t_trajectory, u_trajectory = solve_heat(problem_ref);\n",
    "u_ref = u_trajectory[end];"
   ]
  },
  {
   "cell_type": "code",
   "execution_count": null,
   "id": "19376cfe-c4d7-4b68-9dd7-d5daf2291b0f",
   "metadata": {},
   "outputs": [],
   "source": [
    "Δt_vals = 0.05 * 2. .^(-1:-1:-6);\n",
    "@show Δt_vals"
   ]
  },
  {
   "cell_type": "code",
   "execution_count": null,
   "id": "123df938-264c-451e-bf03-9e94a7f91cbd",
   "metadata": {},
   "outputs": [],
   "source": [
    "err_vals = [];\n",
    "for Δt in Δt_vals\n",
    "    problem = FDHeatProblem(a,b, nx, Δt, tmax, u0, PeriodicBC(), PeriodicBC(), BEuler());\n",
    "    t_trajectory, u_trajectory = solve_heat(problem);\n",
    "    u = u_trajectory[end];\n",
    "    err = norm(u .- u_ref,Inf);\n",
    "    push!(err_vals, err);\n",
    "end"
   ]
  },
  {
   "cell_type": "code",
   "execution_count": null,
   "id": "41efbf1c-80a1-4ede-aecb-5952954eabb7",
   "metadata": {},
   "outputs": [],
   "source": [
    "scatter(Δt_vals, err_vals, label=L\"Error in $\\|\\|\\bullet\\|\\|_\\infty$\", xscale=:log10, yscale=:log10, legend=:bottomright)\n",
    "plot!(Δt_vals,1*Δt_vals, label=L\"\\propto \\Delta t\")\n",
    "xlabel!(L\"$\\Delta t$\")"
   ]
  },
  {
   "cell_type": "markdown",
   "id": "83026a13-7902-45a7-b022-51a920b70703",
   "metadata": {},
   "source": [
    "## Convergence in Space"
   ]
  },
  {
   "cell_type": "code",
   "execution_count": null,
   "id": "46ac607c-9043-4d39-abae-0b5b8c537407",
   "metadata": {},
   "outputs": [],
   "source": [
    "a = 0;\n",
    "b = 1;\n",
    "nx_ref = 999;\n",
    "Δt = 0.001;\n",
    "tmax = 0.1;\n",
    "x = LinRange(0,1,nx_ref+2)[1:end-1];\n",
    "# u0 = @. exp(-sin(2* π * x));\n",
    "u0 = @. sin(2* π * x);"
   ]
  },
  {
   "cell_type": "code",
   "execution_count": null,
   "id": "a33b43ed-691f-441c-98c6-84ff9c432179",
   "metadata": {},
   "outputs": [],
   "source": [
    "problem_ref = FDHeatProblem(a, b, nx_ref, Δt, tmax, u0, PeriodicBC(), PeriodicBC(), BEuler());\n",
    "t_trajectory, u_trajectory = solve_heat(problem_ref);\n",
    "u_ref = u_trajectory[end];\n",
    "u_ref_spl = Spline1D([problem_ref.x; b], [u_ref; u_ref[1]], k=1);"
   ]
  },
  {
   "cell_type": "code",
   "execution_count": null,
   "id": "954ce64d-b159-4c6f-8d05-1039f1b21004",
   "metadata": {},
   "outputs": [],
   "source": [
    "nx_vals = 10*2 .^(0:5) .-1;\n",
    "Δx_vals = 1 ./(nx_vals.+1);\n",
    "@show nx_vals"
   ]
  },
  {
   "cell_type": "code",
   "execution_count": null,
   "id": "132f7077-7f69-4953-b725-d738786f1e34",
   "metadata": {},
   "outputs": [],
   "source": [
    "err_vals = [];\n",
    "for nx in nx_vals\n",
    "    x = LinRange(0,1,nx+2)[1:end-1];\n",
    "    u0 = @. sin(2* π * x);    \n",
    "    problem = FDHeatProblem(a, b, nx, Δt, tmax, u0, PeriodicBC(), PeriodicBC(), BEuler());\n",
    "    t_trajectory, u_trajectory = solve_heat(problem);\n",
    "    u = u_trajectory[end];\n",
    "    err = norm(u .- u_ref_spl.(problem.x),Inf);\n",
    "    push!(err_vals, err);\n",
    "end"
   ]
  },
  {
   "cell_type": "code",
   "execution_count": null,
   "id": "277a28d3-070b-4ddd-9712-1901e63f823a",
   "metadata": {},
   "outputs": [],
   "source": [
    "scatter(Δx_vals, err_vals, label=L\"Error in $\\|\\|\\bullet\\|\\|_\\infty$\", xscale=:log10, yscale=:log10, legend=:bottomright)\n",
    "plot!(Δx_vals, Δx_vals.^2, label=L\"\\propto \\Delta x^2\")\n",
    "xlabel!(L\"$\\Delta x$\")"
   ]
  }
 ],
 "metadata": {
  "kernelspec": {
   "display_name": "Julia 1.6.3",
   "language": "julia",
   "name": "julia-1.6"
  },
  "language_info": {
   "file_extension": ".jl",
   "mimetype": "application/julia",
   "name": "julia",
   "version": "1.6.3"
  }
 },
 "nbformat": 4,
 "nbformat_minor": 5
}
