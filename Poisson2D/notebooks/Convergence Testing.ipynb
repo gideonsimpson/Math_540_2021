{
 "cells": [
  {
   "cell_type": "markdown",
   "id": "98f3a920-9bf3-4107-8d30-a3a1bbc2fa16",
   "metadata": {},
   "source": [
    "# Convergence Testing of the 2D Poisson Code"
   ]
  },
  {
   "cell_type": "code",
   "execution_count": null,
   "id": "fa528b26-0490-46d2-905d-29d8c9f456b3",
   "metadata": {},
   "outputs": [],
   "source": [
    "using Plots; pyplot()\n",
    "using LaTeXStrings\n",
    "using Printf\n",
    "using LinearAlgebra\n",
    "using Revise"
   ]
  },
  {
   "cell_type": "code",
   "execution_count": null,
   "id": "b389a150-3353-4a7b-b0e6-1d518ee9b8cf",
   "metadata": {},
   "outputs": [],
   "source": [
    "default(xtickfont=font(14),  ytickfont=font(14), guidefont=font(14), \n",
    "    legendfont=font(12), lw=2,ms=8)"
   ]
  },
  {
   "cell_type": "code",
   "execution_count": null,
   "id": "f1053143-a70b-404a-b810-15b45c0dfab9",
   "metadata": {},
   "outputs": [],
   "source": [
    "using Poisson2D"
   ]
  },
  {
   "cell_type": "markdown",
   "id": "0eb0bd46-8ed6-47ae-a549-2e4b5678a048",
   "metadata": {},
   "source": [
    "## Convergence Problem\n",
    "Use the eigenfunctions of $-\\Delta$ on the box $(0,1)\\times (0,1)$ with Dirichlet Boundary conditions,\n",
    "$$\n",
    "\\varphi_{k_x,k_y}(x,y) = \\sin(k_x \\pi x) \\sin(k_x \\pi x).\n",
    "$$\n",
    "These have data\n",
    "$$\n",
    "f = -\\Delta \\varphi_{k_x,k_y} = \\pi^2(k_x^2 + k_y^2) \\sin(k_x \\pi x) \\sin(k_x \\pi x)\n",
    "$$\n",
    "Any choice of $k_x$ and $k_y$ will do.\n",
    "\n",
    "For convenience $n_x = n_y$ so $\\Delta x = \\Delta y$."
   ]
  },
  {
   "cell_type": "code",
   "execution_count": null,
   "id": "12004fda-8d6c-48eb-8f68-53b646424f88",
   "metadata": {},
   "outputs": [],
   "source": [
    "a = 0;\n",
    "b = 1;\n",
    "c = 0;\n",
    "d = 1;\n",
    "n_vals = @. 10 * 2^(0:4)-1;\n",
    "\n",
    "kx = 1;\n",
    "ky = 1;\n",
    "u_exact = (x,y) ->  sin(kx*π*(x-a)/(b-a)) * sin(ky*π*(y-c)/(d-c));\n",
    "f = (x,y)->((kx*π/(b-a))^2 + (ky * π/(d-c))^2) * sin(kx*π*(x-a)/(b-a)) * sin(ky*π*(y-c)/(d-c))"
   ]
  },
  {
   "cell_type": "code",
   "execution_count": null,
   "id": "03a41cee-84ae-4947-a2e1-d10b0048326a",
   "metadata": {},
   "outputs": [],
   "source": [
    "err_vals = Float64[];\n",
    "for n in n_vals\n",
    "    problem = FDPoisson2DProblem(a,b,c,d,n,f);\n",
    "    assemble_system!(problem);\n",
    "    U = direct_solve_poisson2d(problem);\n",
    "    u = reshape(U,n,n);\n",
    "    err = @. u - [u_exact(x_,y_) for x_ in problem.x, y_ in problem.y];\n",
    "    push!(err_vals, norm(err,Inf))\n",
    "end"
   ]
  },
  {
   "cell_type": "code",
   "execution_count": null,
   "id": "d95f5dce-2579-4d5b-a2c2-1240d725cacc",
   "metadata": {},
   "outputs": [],
   "source": [
    "Δx_vals = @. 1 / (n_vals+1);\n",
    "\n",
    "scatter(Δx_vals, err_vals,xscale=:log10, yscale=:log10, label=\"Error\")\n",
    "plot!(Δx_vals, Δx_vals.^2, label=L\"$\\propto \\Delta x^2$\")\n",
    "xlabel!(L\"$\\Delta x$\")"
   ]
  }
 ],
 "metadata": {
  "kernelspec": {
   "display_name": "Julia 1.6.3",
   "language": "julia",
   "name": "julia-1.6"
  },
  "language_info": {
   "file_extension": ".jl",
   "mimetype": "application/julia",
   "name": "julia",
   "version": "1.6.3"
  }
 },
 "nbformat": 4,
 "nbformat_minor": 5
}
