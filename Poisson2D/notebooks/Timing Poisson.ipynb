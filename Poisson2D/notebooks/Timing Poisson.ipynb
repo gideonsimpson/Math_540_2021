{
 "cells": [
  {
   "cell_type": "markdown",
   "id": "d9a16527-4833-45c3-89af-29646b6a950c",
   "metadata": {},
   "source": [
    "# Time Solving Poisson in 2D with Direct Solve"
   ]
  },
  {
   "cell_type": "code",
   "execution_count": null,
   "id": "67874f84-bbe0-4f28-992d-ebadf7f41625",
   "metadata": {},
   "outputs": [],
   "source": [
    "using Printf\n",
    "using BenchmarkTools"
   ]
  },
  {
   "cell_type": "code",
   "execution_count": null,
   "id": "93ced37b-1ac0-4dc9-b7d5-1f762b5dbbcb",
   "metadata": {},
   "outputs": [],
   "source": [
    "using Poisson2D"
   ]
  },
  {
   "cell_type": "code",
   "execution_count": null,
   "id": "17ffe74d-91d6-4111-bfbb-6f5e65ab1467",
   "metadata": {},
   "outputs": [],
   "source": [
    "a = 0;\n",
    "b = 1;\n",
    "c = 0;\n",
    "d = 1;\n",
    "n_vals = @. 10 * 2^(0:4)-1;\n",
    "\n",
    "kx = 3;\n",
    "ky = 2;\n",
    "u_exact = (x,y) ->  sin(kx*π*(x-a)/(b-a)) * sin(ky*π*(y-c)/(d-c));\n",
    "f = (x,y)->((kx*π/(b-a))^2 + (ky * π/(d-c))^2) * sin(kx*π*(x-a)/(b-a)) * sin(ky*π*(y-c)/(d-c))"
   ]
  },
  {
   "cell_type": "code",
   "execution_count": null,
   "id": "c6b92d65-5e05-414c-9c46-58ea8f3a63ba",
   "metadata": {},
   "outputs": [],
   "source": [
    "for n in n_vals\n",
    "    @show n\n",
    "    problem = FDPoisson2DProblem(a,b,c,d,n,f);\n",
    "    assemble_system!(problem);\n",
    "    @btime direct_solve_poisson2d($problem)\n",
    "end"
   ]
  },
  {
   "cell_type": "code",
   "execution_count": null,
   "id": "0cfb16dc-4387-4310-b3eb-86f0c753c6b6",
   "metadata": {},
   "outputs": [],
   "source": [
    "for n in n_vals\n",
    "    @show n\n",
    "    problem = FDPoisson2DProblem(a,b,c,d,n,f);\n",
    "    assemble_system!(problem);\n",
    "    A = Matrix(problem.A);\n",
    "    rhs = problem.rhs;\n",
    "    @btime $A\\$rhs\n",
    "end"
   ]
  },
  {
   "cell_type": "code",
   "execution_count": null,
   "id": "b82c3161-8593-465b-bb49-775113d460d6",
   "metadata": {},
   "outputs": [],
   "source": []
  }
 ],
 "metadata": {
  "kernelspec": {
   "display_name": "Julia 1.6.3",
   "language": "julia",
   "name": "julia-1.6"
  },
  "language_info": {
   "file_extension": ".jl",
   "mimetype": "application/julia",
   "name": "julia",
   "version": "1.6.3"
  }
 },
 "nbformat": 4,
 "nbformat_minor": 5
}
