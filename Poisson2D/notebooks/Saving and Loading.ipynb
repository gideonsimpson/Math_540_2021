{
 "cells": [
  {
   "cell_type": "code",
   "execution_count": null,
   "id": "cb316b0f-f713-48fc-80ea-86e8bef54f29",
   "metadata": {},
   "outputs": [],
   "source": [
    "using JLD2\n",
    "using Random"
   ]
  },
  {
   "cell_type": "code",
   "execution_count": null,
   "id": "4e06af5c-2047-4255-b8df-94d8f71286fe",
   "metadata": {},
   "outputs": [],
   "source": [
    "Random.seed!(100);\n",
    "x = randn(10);\n",
    "y = @. x^2;\n",
    "z = @. sin(x);"
   ]
  },
  {
   "cell_type": "code",
   "execution_count": null,
   "id": "9d908433-54f8-4010-a2a0-e89f7e35c3c2",
   "metadata": {},
   "outputs": [],
   "source": [
    "display(x);\n",
    "display(y);\n",
    "display(z);"
   ]
  },
  {
   "cell_type": "code",
   "execution_count": null,
   "id": "c437e95b-6344-457a-b0aa-6ce8cb1decaa",
   "metadata": {},
   "outputs": [],
   "source": [
    "jldsave(\"data1.jld2\"; x, y, z)"
   ]
  },
  {
   "cell_type": "code",
   "execution_count": null,
   "id": "f3267147-7d59-4a0c-8252-8e2f8baab94f",
   "metadata": {},
   "outputs": [],
   "source": [
    "data = jldopen(\"data1.jld2\")"
   ]
  },
  {
   "cell_type": "code",
   "execution_count": null,
   "id": "b03b813a-f062-4b39-8a7a-02c714afb08b",
   "metadata": {},
   "outputs": [],
   "source": [
    "data[\"x\"]"
   ]
  },
  {
   "cell_type": "code",
   "execution_count": null,
   "id": "6cc3c39b-6d1b-4dfc-993f-73882b898f7a",
   "metadata": {},
   "outputs": [],
   "source": [
    "data[\"y\"]"
   ]
  },
  {
   "cell_type": "code",
   "execution_count": null,
   "id": "a16755a9-9bd8-4315-bd0a-b988e420e9c9",
   "metadata": {},
   "outputs": [],
   "source": [
    "data[\"z\"]"
   ]
  }
 ],
 "metadata": {
  "kernelspec": {
   "display_name": "Julia 1.6.3",
   "language": "julia",
   "name": "julia-1.6"
  },
  "language_info": {
   "file_extension": ".jl",
   "mimetype": "application/julia",
   "name": "julia",
   "version": "1.6.3"
  }
 },
 "nbformat": 4,
 "nbformat_minor": 5
}
