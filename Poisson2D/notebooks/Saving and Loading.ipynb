{
 "cells": [
  {
   "cell_type": "code",
   "execution_count": 1,
   "id": "cb316b0f-f713-48fc-80ea-86e8bef54f29",
   "metadata": {},
   "outputs": [],
   "source": [
    "using JLD2\n",
    "using Random"
   ]
  },
  {
   "cell_type": "code",
   "execution_count": 3,
   "id": "4e06af5c-2047-4255-b8df-94d8f71286fe",
   "metadata": {},
   "outputs": [],
   "source": [
    "Random.seed!(100);\n",
    "x = randn(10);\n",
    "y = @. x^2;\n",
    "z = @. sin(x);"
   ]
  },
  {
   "cell_type": "code",
   "execution_count": 8,
   "id": "9d908433-54f8-4010-a2a0-e89f7e35c3c2",
   "metadata": {},
   "outputs": [
    {
     "data": {
      "text/plain": [
       "10-element Vector{Float64}:\n",
       " -0.6581360512008891\n",
       "  0.3837531807164861\n",
       " -0.6014209937167327\n",
       " -0.21151666316177614\n",
       "  1.5787392404824647\n",
       "  2.03256391932585\n",
       "  0.39607052331400483\n",
       " -0.8707028508692274\n",
       " -0.7056810019338651\n",
       "  1.6377109411644069"
      ]
     },
     "metadata": {},
     "output_type": "display_data"
    },
    {
     "data": {
      "text/plain": [
       "10-element Vector{Float64}:\n",
       " 0.4331430618902994\n",
       " 0.14726650371002006\n",
       " 0.3617072116832223\n",
       " 0.04473929879509227\n",
       " 2.4924175894391496\n",
       " 4.13131608614526\n",
       " 0.15687185943822965\n",
       " 0.7581234545118001\n",
       " 0.49798567649038367\n",
       " 2.6820971268096074"
      ]
     },
     "metadata": {},
     "output_type": "display_data"
    },
    {
     "data": {
      "text/plain": [
       "10-element Vector{Float64}:\n",
       " -0.6116432826776802\n",
       "  0.37440329497485525\n",
       " -0.5658146996538491\n",
       " -0.20994300298017543\n",
       "  0.9999684552269228\n",
       "  0.8952663787707594\n",
       "  0.3857960574614626\n",
       " -0.7647819650984297\n",
       " -0.648552338167866\n",
       "  0.9977620524252978"
      ]
     },
     "metadata": {},
     "output_type": "display_data"
    }
   ],
   "source": [
    "display(x);\n",
    "display(y);\n",
    "display(z);"
   ]
  },
  {
   "cell_type": "code",
   "execution_count": 9,
   "id": "c437e95b-6344-457a-b0aa-6ce8cb1decaa",
   "metadata": {},
   "outputs": [],
   "source": [
    "jldsave(\"data1.jld2\"; x, y, z)"
   ]
  },
  {
   "cell_type": "code",
   "execution_count": 3,
   "id": "f3267147-7d59-4a0c-8252-8e2f8baab94f",
   "metadata": {},
   "outputs": [
    {
     "data": {
      "text/plain": [
       "JLDFile /Users/grs53/code/Math_540_2021/Poisson2D/notebooks/data1.jld2 (read-only)\n",
       " ├─🔢 x\n",
       " ├─🔢 y\n",
       " └─🔢 z"
      ]
     },
     "execution_count": 3,
     "metadata": {},
     "output_type": "execute_result"
    }
   ],
   "source": [
    "data = jldopen(\"data1.jld2\")"
   ]
  },
  {
   "cell_type": "code",
   "execution_count": 4,
   "id": "b03b813a-f062-4b39-8a7a-02c714afb08b",
   "metadata": {},
   "outputs": [
    {
     "data": {
      "text/plain": [
       "10-element Vector{Float64}:\n",
       " -0.6581360512008891\n",
       "  0.3837531807164861\n",
       " -0.6014209937167327\n",
       " -0.21151666316177614\n",
       "  1.5787392404824647\n",
       "  2.03256391932585\n",
       "  0.39607052331400483\n",
       " -0.8707028508692274\n",
       " -0.7056810019338651\n",
       "  1.6377109411644069"
      ]
     },
     "execution_count": 4,
     "metadata": {},
     "output_type": "execute_result"
    }
   ],
   "source": [
    "data[\"x\"]"
   ]
  },
  {
   "cell_type": "code",
   "execution_count": 5,
   "id": "6cc3c39b-6d1b-4dfc-993f-73882b898f7a",
   "metadata": {},
   "outputs": [
    {
     "data": {
      "text/plain": [
       "10-element Vector{Float64}:\n",
       " 0.4331430618902994\n",
       " 0.14726650371002006\n",
       " 0.3617072116832223\n",
       " 0.04473929879509227\n",
       " 2.4924175894391496\n",
       " 4.13131608614526\n",
       " 0.15687185943822965\n",
       " 0.7581234545118001\n",
       " 0.49798567649038367\n",
       " 2.6820971268096074"
      ]
     },
     "execution_count": 5,
     "metadata": {},
     "output_type": "execute_result"
    }
   ],
   "source": [
    "data[\"y\"]"
   ]
  },
  {
   "cell_type": "code",
   "execution_count": 6,
   "id": "a16755a9-9bd8-4315-bd0a-b988e420e9c9",
   "metadata": {},
   "outputs": [
    {
     "data": {
      "text/plain": [
       "10-element Vector{Float64}:\n",
       " -0.6116432826776802\n",
       "  0.37440329497485525\n",
       " -0.5658146996538491\n",
       " -0.20994300298017543\n",
       "  0.9999684552269228\n",
       "  0.8952663787707594\n",
       "  0.3857960574614626\n",
       " -0.7647819650984297\n",
       " -0.648552338167866\n",
       "  0.9977620524252978"
      ]
     },
     "execution_count": 6,
     "metadata": {},
     "output_type": "execute_result"
    }
   ],
   "source": [
    "data[\"z\"]"
   ]
  }
 ],
 "metadata": {
  "kernelspec": {
   "display_name": "Julia 1.6.3",
   "language": "julia",
   "name": "julia-1.6"
  },
  "language_info": {
   "file_extension": ".jl",
   "mimetype": "application/julia",
   "name": "julia",
   "version": "1.6.3"
  }
 },
 "nbformat": 4,
 "nbformat_minor": 5
}
