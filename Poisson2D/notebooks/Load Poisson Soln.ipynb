{
 "cells": [
  {
   "cell_type": "code",
   "execution_count": null,
   "id": "382707e6-b552-4433-a576-1540c45145c9",
   "metadata": {},
   "outputs": [],
   "source": [
    "using Plots; pyplot()\n",
    "using Printf\n",
    "using LaTeXStrings\n",
    "using LinearAlgebra\n",
    "using JLD2"
   ]
  },
  {
   "cell_type": "code",
   "execution_count": null,
   "id": "65064275-00e7-4cf0-b69b-9becd11cd027",
   "metadata": {},
   "outputs": [],
   "source": [
    "using Poisson2D"
   ]
  },
  {
   "cell_type": "code",
   "execution_count": null,
   "id": "f048f38c-16c9-49e0-a968-366098865dca",
   "metadata": {},
   "outputs": [],
   "source": [
    "data = load(\"../scripts/soln1_n99.jld2\")"
   ]
  },
  {
   "cell_type": "code",
   "execution_count": null,
   "id": "be0571d1-0045-493d-b781-720a3a6a0c83",
   "metadata": {},
   "outputs": [],
   "source": [
    "problem = data[\"problem\"];\n",
    "U = data[\"U\"];"
   ]
  },
  {
   "cell_type": "code",
   "execution_count": null,
   "id": "32e31cca-41e7-40b4-b3fb-b9f51445020e",
   "metadata": {},
   "outputs": [],
   "source": [
    "u = reshape(U, problem.nx, problem.ny);"
   ]
  },
  {
   "cell_type": "code",
   "execution_count": null,
   "id": "7a0058f1-0667-4501-99e1-b604be6bd501",
   "metadata": {},
   "outputs": [],
   "source": [
    "contourf(problem.x, problem.y, u')\n",
    "xlabel!(L\"$x$\")\n",
    "ylabel!(L\"$y$\")\n",
    "title!(\"Finite Difference Solution\")"
   ]
  },
  {
   "cell_type": "code",
   "execution_count": null,
   "id": "f37e4200-6501-49db-844b-f98be437d456",
   "metadata": {},
   "outputs": [],
   "source": []
  }
 ],
 "metadata": {
  "kernelspec": {
   "display_name": "Julia 1.6.3",
   "language": "julia",
   "name": "julia-1.6"
  },
  "language_info": {
   "file_extension": ".jl",
   "mimetype": "application/julia",
   "name": "julia",
   "version": "1.6.3"
  }
 },
 "nbformat": 4,
 "nbformat_minor": 5
}
