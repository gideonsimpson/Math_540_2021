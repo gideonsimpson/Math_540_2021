{
 "cells": [
  {
   "cell_type": "markdown",
   "id": "2878e7de-fb1e-4ccc-844c-72ce237a3563",
   "metadata": {},
   "source": [
    "# 2D Poisson Code"
   ]
  },
  {
   "cell_type": "code",
   "execution_count": null,
   "id": "4355dd3b-118c-4896-8f82-dc3dc82a47da",
   "metadata": {},
   "outputs": [],
   "source": [
    "using Plots; pyplot()\n",
    "using Printf\n",
    "using LaTeXStrings"
   ]
  },
  {
   "cell_type": "code",
   "execution_count": null,
   "id": "c83aedef-4e7f-4366-bafc-e36d199d6756",
   "metadata": {},
   "outputs": [],
   "source": [
    "using Poisson2D"
   ]
  },
  {
   "cell_type": "markdown",
   "id": "492df5f5-a2c1-40c1-a99d-74b59d9499a0",
   "metadata": {},
   "source": [
    "## Test Problem\n",
    "The eigenfunctions of $-\\Delta$ on the box $(0,1)\\times (0,1)$ with Dirichlet Boundary conditions are\n",
    "$$\n",
    "\\varphi_{k_x,k_y}(x,y) = \\sin(k_x \\pi x) \\sin(k_x \\pi x).\n",
    "$$\n",
    "So we can use, as test data,\n",
    "$$\n",
    "f = -\\Delta \\varphi_{k_x,k_y} = \\pi^2(k_x^2 + k_y^2) \\sin(k_x \\pi x) \\sin(k_x \\pi x)\n",
    "$$"
   ]
  },
  {
   "cell_type": "code",
   "execution_count": null,
   "id": "9785101e-cc28-4b3b-9f87-0ae3250752e2",
   "metadata": {},
   "outputs": [],
   "source": [
    "a = 0;\n",
    "b = 1;\n",
    "c = 0;\n",
    "d = 1;\n",
    "n = 19;\n",
    "\n",
    "kx = 3;\n",
    "ky = 2;\n",
    "u_exact = (x,y) ->  sin(kx*π*(x-a)/(b-a)) * sin(ky*π*(y-c)/(d-c));\n",
    "f = (x,y)->((kx*π/(b-a))^2 + (ky * π/(d-c))^2) * sin(kx*π*(x-a)/(b-a)) * sin(ky*π*(y-c)/(d-c))"
   ]
  },
  {
   "cell_type": "code",
   "execution_count": null,
   "id": "05f12a18-c3e4-4edb-960c-2b2266b94f1b",
   "metadata": {},
   "outputs": [],
   "source": [
    "problem = FDPoisson2DProblem(a,b,c,d,n,f);\n",
    "# nx = 19;\n",
    "# ny = 39;\n",
    "# zero_function = (x,y)-> 0;\n",
    "# zero_bc = DirichletBC(zero_function);\n",
    "# problem =FDPoisson2DProblem(a, b, c, d, nx, ny, f, zero_bc, zero_bc, zero_bc, zero_bc);"
   ]
  },
  {
   "cell_type": "code",
   "execution_count": null,
   "id": "1309135a-03b9-4679-9c9b-46fdbf15d00e",
   "metadata": {},
   "outputs": [],
   "source": [
    "assemble_system!(problem);"
   ]
  },
  {
   "cell_type": "code",
   "execution_count": null,
   "id": "f47f35d6-4dff-413f-ac69-4c339ac52f36",
   "metadata": {},
   "outputs": [],
   "source": [
    "U = direct_solve_poisson2d(problem);"
   ]
  },
  {
   "cell_type": "code",
   "execution_count": null,
   "id": "a271c07b-58b2-40df-9c06-40e89fe7f4d8",
   "metadata": {},
   "outputs": [],
   "source": [
    "# u = reshape(U,n,n);\n",
    "u = reshape(U,nx,ny);"
   ]
  },
  {
   "cell_type": "code",
   "execution_count": null,
   "id": "47764961-1f1d-40e1-a7d8-fdaab2eeed8b",
   "metadata": {},
   "outputs": [],
   "source": [
    "contourf(problem.x, problem.y, [u_exact(x_,y_) for y_ in problem.y, x_ in problem.x])\n",
    "xlabel!(L\"$x$\")\n",
    "ylabel!(L\"$y$\")\n",
    "title!(\"Exact Solution\")"
   ]
  },
  {
   "cell_type": "code",
   "execution_count": null,
   "id": "703bf462-47d0-481d-8e26-0cc9f396ee0d",
   "metadata": {},
   "outputs": [],
   "source": [
    "contourf(problem.x, problem.y, u')\n",
    "xlabel!(L\"$x$\")\n",
    "ylabel!(L\"$y$\")\n",
    "title!(\"Finite Difference Solution\")"
   ]
  },
  {
   "cell_type": "code",
   "execution_count": null,
   "id": "a121e71a-990b-4acf-a71d-6c5ce9f3cddf",
   "metadata": {},
   "outputs": [],
   "source": []
  }
 ],
 "metadata": {
  "kernelspec": {
   "display_name": "Julia 1.6.3",
   "language": "julia",
   "name": "julia-1.6"
  },
  "language_info": {
   "file_extension": ".jl",
   "mimetype": "application/julia",
   "name": "julia",
   "version": "1.6.3"
  }
 },
 "nbformat": 4,
 "nbformat_minor": 5
}
