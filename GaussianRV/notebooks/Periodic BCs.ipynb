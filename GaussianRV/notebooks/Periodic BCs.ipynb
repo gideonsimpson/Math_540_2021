{
 "cells": [
  {
   "cell_type": "markdown",
   "id": "6df41c0d-23fc-4b74-a7f3-b4979dc885a1",
   "metadata": {
    "tags": []
   },
   "source": [
    "# Sampling with Neumann BCs\n",
    "\n",
    "This shows how we can sample a Gaussian random variable by FFT methods.  In this excample, the mean is zero, and the covariance is\n",
    "$$\n",
    "C = (-d^2/dx^2)^{-1} + \\text{Periodic Boundary Conditions}\n",
    "$$\n",
    "The eigenvalue/eigenfunction pairs are\n",
    "$$\n",
    "\\lambda_k = \\frac{1}{(2\\pi k)^2}, \\quad \\varphi_k(x) = \\sqrt{2}\\cos(2\\pi k x), \\quad \\psi_k(x) = \\sqrt{2}\\sin(2\\pi k x)\n",
    "$$\n",
    "Note that the geometric multiplicity of each eigenvalue is two.\n"
   ]
  },
  {
   "cell_type": "code",
   "execution_count": null,
   "id": "070b454f-5764-4351-bc74-8d479dc40271",
   "metadata": {},
   "outputs": [],
   "source": [
    "using Plots; pyplot()\n",
    "using Random\n",
    "using FFTW\n",
    "using LaTeXStrings\n",
    "using Statistics"
   ]
  },
  {
   "cell_type": "code",
   "execution_count": null,
   "id": "dae0dad3-f2d4-4809-8a52-5934385bbe24",
   "metadata": {},
   "outputs": [],
   "source": [
    "default(xtickfont=font(14),  ytickfont=font(14), guidefont=font(14), \n",
    "    legendfontsize=12, lw=2,ms=8)"
   ]
  },
  {
   "cell_type": "code",
   "execution_count": null,
   "id": "6656d8ac-8f6b-4b08-991b-ff54fbec7be9",
   "metadata": {},
   "outputs": [],
   "source": [
    "function sample_field(N)\n",
    "    uhat = zeros(ComplexF64,N); # preallocate space\n",
    "    ξ = zeros(ComplexF64,N);\n",
    "\n",
    "    # set the eigenvalues\n",
    "    k = [0:N÷2; -N÷2+1:1:-1]; \n",
    "    λ= zeros(N);\n",
    "    @. λ[2:end] = (1/(2*π * k[2:end]))^2;\n",
    "    λ[N÷2+1]=0; # zero out the assymetric term for k = N÷2\n",
    "    \n",
    "    # generate the random variables \n",
    "    @. ξ[2:N÷2] = randn(ComplexF64);\n",
    "    # ensure complex conjugacy\n",
    "    ξ[N÷2+2:end] .=  conj(ξ[N÷2:-1:2]);\n",
    "\n",
    "    @. uhat = N * sqrt(λ) * sqrt(2) * ξ;\n",
    "    # invert and take real part to remove any floating point\n",
    "    u = ifft(uhat);\n",
    "    return real.(u);    \n",
    "    # return u\n",
    "end"
   ]
  },
  {
   "cell_type": "code",
   "execution_count": null,
   "id": "1eb09d7a-c75a-43bf-baf3-1a467e6c056b",
   "metadata": {},
   "outputs": [],
   "source": [
    "N = 128; # set number of spatial points/KLSE modes\n",
    "x = LinRange(0,1,N+1)[1:end-1];"
   ]
  },
  {
   "cell_type": "code",
   "execution_count": null,
   "id": "98c2fee2-0eb9-4827-9a69-dc80d9b55140",
   "metadata": {},
   "outputs": [],
   "source": [
    "Random.seed!(200);\n",
    "X1 = sample_field(N);\n",
    "X2 = sample_field(N);\n",
    "X3 = sample_field(N);\n",
    "\n"
   ]
  },
  {
   "cell_type": "code",
   "execution_count": null,
   "id": "7c41ac06-3206-430c-bc0e-fb98a26182ae",
   "metadata": {},
   "outputs": [],
   "source": [
    "# @. max(abs(imag(X1)))"
   ]
  },
  {
   "cell_type": "code",
   "execution_count": null,
   "id": "447896d0-6dfe-4e2c-bba7-860f40f988d9",
   "metadata": {},
   "outputs": [],
   "source": [
    "Random.seed!(200);\n",
    "\n",
    "plot(x, X1,label=\"\")\n",
    "plot!(x, X2,label=\"\")\n",
    "plot!(x, X3,label=\"\")\n",
    "xlabel!(L\"$x$\")\n",
    "title!(\"Sample Realizations\")"
   ]
  }
 ],
 "metadata": {
  "kernelspec": {
   "display_name": "Julia 1.7.0-rc2",
   "language": "julia",
   "name": "julia-1.7"
  },
  "language_info": {
   "file_extension": ".jl",
   "mimetype": "application/julia",
   "name": "julia",
   "version": "1.7.0"
  }
 },
 "nbformat": 4,
 "nbformat_minor": 5
}
