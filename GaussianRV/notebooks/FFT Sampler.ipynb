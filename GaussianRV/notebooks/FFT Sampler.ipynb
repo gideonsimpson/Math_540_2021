{
 "cells": [
  {
   "cell_type": "markdown",
   "id": "ccabaf39-df09-436b-9f9f-8bab9f266f20",
   "metadata": {},
   "source": [
    "# Sample a Gaussian Random Field\n",
    "This shows how we can sample a Gaussian random variable by FFT methods.  In this excample, the mean is zero, and the covariance is\n",
    "$$\n",
    "C = (-d^2/dx^2)^{-1} + \\text{Dirichlet Boundary Conditions}\n",
    "$$\n",
    "The eigenvalue/eigenfunction pairs are\n",
    "$$\n",
    "\\lambda_k = \\frac{1}{(\\pi k)^2}, \\quad \\varphi_k(x) = \\sqrt{2}\\sin(\\pi k x)\n",
    "$$"
   ]
  },
  {
   "cell_type": "code",
   "execution_count": null,
   "id": "a1ff3209-9f74-4f9a-a956-1ddf267f37da",
   "metadata": {},
   "outputs": [],
   "source": [
    "using Plots; pyplot()\n",
    "using Random\n",
    "using LaTeXStrings"
   ]
  },
  {
   "cell_type": "code",
   "execution_count": null,
   "id": "a17f863f-ed30-4233-994e-a3bbe5d49c4c",
   "metadata": {},
   "outputs": [],
   "source": [
    "using GaussianRV"
   ]
  },
  {
   "cell_type": "code",
   "execution_count": null,
   "id": "0f1a2801-0f3e-4c5b-9822-d795e772ecad",
   "metadata": {},
   "outputs": [],
   "source": [
    "default(xtickfont=font(14),  ytickfont=font(14), guidefont=font(14), \n",
    "    legendfontsize=12, lw=2,ms=8)"
   ]
  },
  {
   "cell_type": "code",
   "execution_count": null,
   "id": "6d77c7f9-ce2f-4c2f-8251-4e2e1348784a",
   "metadata": {},
   "outputs": [],
   "source": [
    "N = 256;\n",
    "x = LinRange(0,1,N+1)[2:end-1];\n",
    "\n",
    "Random.seed!(100);\n",
    "X1 = sample_field(N);\n",
    "X2 = sample_field(N);\n",
    "X3 = sample_field(N);"
   ]
  },
  {
   "cell_type": "code",
   "execution_count": null,
   "id": "28f3be40-c81d-407e-aee4-ce1df5400016",
   "metadata": {},
   "outputs": [],
   "source": [
    "plot(x, X1,label=\"\")\n",
    "plot!(x, X2,label=\"\")\n",
    "plot!(x, X3,label=\"\")\n",
    "xlabel!(L\"$x$\")\n",
    "ylabel!(L\"$X$\")\n",
    "title!(\"Sample Realizations\")\n",
    "# savefig(\"fft_samples.pdf\")"
   ]
  },
  {
   "cell_type": "code",
   "execution_count": null,
   "id": "6f583312-90c1-40c2-a893-de4e5f27fde1",
   "metadata": {},
   "outputs": [],
   "source": []
  }
 ],
 "metadata": {
  "kernelspec": {
   "display_name": "Julia 1.7.0-rc2",
   "language": "julia",
   "name": "julia-1.7"
  },
  "language_info": {
   "file_extension": ".jl",
   "mimetype": "application/julia",
   "name": "julia",
   "version": "1.7.0"
  }
 },
 "nbformat": 4,
 "nbformat_minor": 5
}
