{
 "cells": [
  {
   "cell_type": "markdown",
   "id": "b2be2f0e-8b92-4530-b314-9b0876e9faa6",
   "metadata": {},
   "source": [
    "# Checking Moments of Gaussian Random Field\n",
    "This shows how we can sample a Gaussian random variable by FFT methods.  In this excample, the mean is zero, and the covariance is\n",
    "$$\n",
    "C = (-d^2/dx^2)^{-1} + \\text{Dirichlet Boundary Conditions}\n",
    "$$\n",
    "The eigenvalue/eigenfunction pairs are\n",
    "$$\n",
    "\\lambda_k = \\frac{1}{(\\pi k)^2}, \\quad \\varphi_k(x) = \\sqrt{2}\\sin(\\pi k x)\n",
    "$$\n",
    "\n",
    "By deriving a Green's function for $C$, it can be derived that $\\mathbb{E}[X(x)] = 0$ and\n",
    "$$\n",
    "\\mathbb{E}[X(x)^2] = x(1-x).\n",
    "$$\n",
    "Here, we will verify that we are properly sampling these moments."
   ]
  },
  {
   "cell_type": "code",
   "execution_count": null,
   "id": "b6c4e357-2ba3-4545-956b-4dc3108f7ee7",
   "metadata": {},
   "outputs": [],
   "source": [
    "using Plots; pyplot()\n",
    "using Random\n",
    "using LaTeXStrings\n",
    "using Statistics"
   ]
  },
  {
   "cell_type": "code",
   "execution_count": null,
   "id": "716d1128-805d-4e34-b131-9114b85f5e5e",
   "metadata": {},
   "outputs": [],
   "source": [
    "using GaussianRV"
   ]
  },
  {
   "cell_type": "code",
   "execution_count": null,
   "id": "b88a2bf6-2478-46dd-82ab-bf5fd599c58f",
   "metadata": {},
   "outputs": [],
   "source": [
    "default(xtickfont=font(14),  ytickfont=font(14), guidefont=font(14), \n",
    "    legendfontsize=12, lw=2,ms=8)"
   ]
  },
  {
   "cell_type": "code",
   "execution_count": null,
   "id": "b9909811-752c-480c-92a0-d0d894b3254d",
   "metadata": {},
   "outputs": [],
   "source": [
    "N = 256; # set number of spatial points/KLSE modes\n",
    "n_samples = 10^4; # number of independent samples\n",
    "x = LinRange(0,1,N+1)[2:end-1];\n",
    "\n",
    "u_samples = zeros(N-1, n_samples);"
   ]
  },
  {
   "cell_type": "code",
   "execution_count": null,
   "id": "c1092080-bce9-43ad-8acf-7b133f8e8b7d",
   "metadata": {},
   "outputs": [],
   "source": [
    "Random.seed!(100)\n",
    "Threads.@threads for j in 1:n_samples\n",
    "    u_samples[:,j] .= sample_field(N);\n",
    "end"
   ]
  },
  {
   "cell_type": "markdown",
   "id": "bea306ee-18f7-4e54-9d96-85c0dbe300be",
   "metadata": {},
   "source": [
    "## Compare the Moments"
   ]
  },
  {
   "cell_type": "code",
   "execution_count": null,
   "id": "693c0b38-76bb-4de6-8f2f-e5d054b10102",
   "metadata": {},
   "outputs": [],
   "source": [
    "Eu = mean(u_samples, dims=2);\n",
    "Eu2 = mean(u_samples.^2, dims=2);\n",
    "\n",
    "plot(x, Eu,label=L\"Estimated $E[X]$\",legend=:left)\n",
    "plot!(x, Eu2,label=L\"Estimated $E[X^2]$\")\n",
    "plot!(x, 0*x,label=L\"$E[X]$\")\n",
    "plot!(x, (@. x*(1-x)),label=L\"$E[X^2]$\")\n",
    "xlabel!(L\"$x$\")"
   ]
  },
  {
   "cell_type": "markdown",
   "id": "38ac6414-0139-4f9b-af7c-1e575b7af951",
   "metadata": {},
   "source": [
    "## Plot with Error Bars\n",
    "This checks the estimate of the first moment, as a function of $x$, and a 95\\% Gaussian confidence interval."
   ]
  },
  {
   "cell_type": "code",
   "execution_count": null,
   "id": "3be20f92-c839-45be-a64b-5629c2b8c9c8",
   "metadata": {},
   "outputs": [],
   "source": [
    "plot(x, Eu, ribbon=1.96* std(u_samples,dims=2)/sqrt(n_samples), \n",
    "    label=L\"Estimated $E[X]$\",legend=:topleft)\n",
    "plot!(x, 0*x,label=L\"$E[X]$\")\n",
    "xlabel!(L\"$x$\")"
   ]
  }
 ],
 "metadata": {
  "kernelspec": {
   "display_name": "Julia 1.7.0-rc2",
   "language": "julia",
   "name": "julia-1.7"
  },
  "language_info": {
   "file_extension": ".jl",
   "mimetype": "application/julia",
   "name": "julia",
   "version": "1.7.0"
  }
 },
 "nbformat": 4,
 "nbformat_minor": 5
}
