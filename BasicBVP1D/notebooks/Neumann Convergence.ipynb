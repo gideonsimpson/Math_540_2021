{
 "cells": [
  {
   "cell_type": "code",
   "execution_count": null,
   "id": "ec98cd18-55d6-4ddc-9164-54b1e3345e7a",
   "metadata": {},
   "outputs": [],
   "source": [
    "using Plots; pyplot()\n",
    "using LaTeXStrings\n",
    "using BasicBVP1D\n",
    "using LinearAlgebra"
   ]
  },
  {
   "cell_type": "code",
   "execution_count": null,
   "id": "8bc176c8-4da1-4a62-a852-6a26a97bb5f4",
   "metadata": {},
   "outputs": [],
   "source": [
    "default(xtickfont=font(14),  ytickfont=font(14), guidefont=font(14), \n",
    "    legendfont=font(12), lw=2,ms=8)"
   ]
  },
  {
   "cell_type": "markdown",
   "id": "95d1dcb1-22df-4b68-84de-ae016963fea5",
   "metadata": {},
   "source": [
    "# Test Problem for Convergence\n",
    "$$\n",
    "-u'' = \\pi^2 \\cos(\\pi x), \\quad 0<x<1, \\quad u'(0) = u'(1) =0\n",
    "$$\n",
    "which has the exact solution, $u = \\cos(\\pi x)$."
   ]
  },
  {
   "cell_type": "code",
   "execution_count": null,
   "id": "d35ca274-b955-4518-924b-3ce9c3acbce1",
   "metadata": {},
   "outputs": [],
   "source": [
    "f = x-> π^2 * cos(π * x);\n",
    "u_exact = x-> cos(π * x);\n",
    "a = 0;\n",
    "b = 1;\n",
    "n_vals = [10, 20, 40, 80, 160, 320, 640] .-1;\n",
    "Δx_vals = @. (b-a) / ( n_vals +1);"
   ]
  },
  {
   "cell_type": "code",
   "execution_count": null,
   "id": "c6caa121-1508-49e6-a4ee-d6ed32a98cd6",
   "metadata": {},
   "outputs": [],
   "source": [
    "err_vals = [];\n",
    "for n in n_vals\n",
    "    problem = FiniteDifferenceBVPProblem(a, b, n, f, NeumannBC(0), NeumannBC(0));\n",
    "    assemble_system!(problem);\n",
    "    u = solve_bvp(problem);\n",
    "    err = norm((@. u - u[1] - (u_exact.(problem.x) - u_exact(problem.x[1]))), Inf);\n",
    "    push!(err_vals, err);\n",
    "end"
   ]
  },
  {
   "cell_type": "code",
   "execution_count": null,
   "id": "e66c1b3c-35b3-4055-aee9-da7957c02333",
   "metadata": {},
   "outputs": [],
   "source": [
    "scatter(Δx_vals, err_vals, xscale=:log10, yscale=:log10, \n",
    "    label=\"Computed Error\",legend=:bottomright)\n",
    "plot!(Δx_vals, Δx_vals, label=L\"$\\propto \\Delta x$\")\n",
    "xlabel!(L\"$\\Delta x$\")\n",
    "# savefig(\"finite_diff_err.pdf\")"
   ]
  },
  {
   "cell_type": "code",
   "execution_count": null,
   "id": "1cc72ed6-ad56-42c6-89da-9c6e8c28f6b8",
   "metadata": {},
   "outputs": [],
   "source": [
    "err_vals = [];\n",
    "for n in n_vals\n",
    "    problem = SparseFiniteDifferenceBVPProblem(a, b, n, f, NeumannBC(0), NeumannBC(0));\n",
    "    assemble_system!(problem);\n",
    "    u = solve_bvp(problem);\n",
    "    err = norm((@. u - u[1] - (u_exact.(problem.x) - u_exact(problem.x[1]))), Inf);\n",
    "    push!(err_vals, err);\n",
    "end"
   ]
  },
  {
   "cell_type": "code",
   "execution_count": null,
   "id": "550b33a0-f5e2-4e5d-86df-48923c7f4232",
   "metadata": {},
   "outputs": [],
   "source": [
    "scatter(Δx_vals, err_vals, xscale=:log10, yscale=:log10, \n",
    "    label=\"Computed Error\",legend=:bottomright)\n",
    "plot!(Δx_vals, Δx_vals, label=L\"$\\propto \\Delta x$\")\n",
    "xlabel!(L\"$\\Delta x$\")\n",
    "# savefig(\"neumann_finite_diff_err.pdf\")"
   ]
  }
 ],
 "metadata": {
  "kernelspec": {
   "display_name": "Julia 1.6.3",
   "language": "julia",
   "name": "julia-1.6"
  },
  "language_info": {
   "file_extension": ".jl",
   "mimetype": "application/julia",
   "name": "julia",
   "version": "1.6.3"
  }
 },
 "nbformat": 4,
 "nbformat_minor": 5
}
