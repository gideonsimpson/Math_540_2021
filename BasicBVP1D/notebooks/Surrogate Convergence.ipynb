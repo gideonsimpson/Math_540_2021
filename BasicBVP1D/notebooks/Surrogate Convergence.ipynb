{
 "cells": [
  {
   "cell_type": "code",
   "execution_count": null,
   "id": "33944da4-3f0a-4a7f-bbb5-0d15582745c8",
   "metadata": {},
   "outputs": [],
   "source": [
    "using Plots; pyplot()\n",
    "using LaTeXStrings\n",
    "using BasicBVP1D\n",
    "using LinearAlgebra\n",
    "using Dierckx"
   ]
  },
  {
   "cell_type": "code",
   "execution_count": null,
   "id": "9ae29568-8cf1-4f14-a9d7-ba1f1e8df802",
   "metadata": {},
   "outputs": [],
   "source": [
    "default(xtickfont=font(14),  ytickfont=font(14), guidefont=font(14), \n",
    "    legendfont=font(12), lw=2,ms=8)"
   ]
  },
  {
   "cell_type": "markdown",
   "id": "0efc9d9a-beb6-4cc5-b65f-c0d634835110",
   "metadata": {},
   "source": [
    "# Test Problem for Convergence\n",
    "$$\n",
    "-u'' = \\pi^2 \\sin(\\pi x), \\quad 0<x<1, \\quad u(0) = u(1) =0\n",
    "$$\n",
    "which has the exact solution, $u = \\sin(\\pi x)$.\n",
    "\n",
    "Let us pretend we do not know the exact solution, but believe our code is correct, and want to check convergence.  We do the following:\n",
    "1. First, we compute a solution on a very high resolution mesh, $n_{h}$\n",
    "2. Then we compute the solution on a sequence of lower resolutions meshes, $n\\ll n_{h}$, comparing the error between the low resolution solution with the high resolution one.\n",
    "3. The trick is how to compare at common mesh points.  There are two options here:\n",
    "   * One can simply use an interpolant on the high resolution method, and treat the interpolated solution as the exact solution.  \n",
    "   * If the two meshes are conformal, such that the high resolution mesh includes the low resolution mesh's points, then you can make a directly comparison without interpolation, matching the values up.  This requires very careful checking of the indexes, to ensure that you have the right values.\n",
    "\n",
    "We are, effectively, using this high resolution solution as a surrogate for the exact solution, which we would otherwise not know."
   ]
  },
  {
   "cell_type": "markdown",
   "id": "8b613875-d38d-4e1d-86ea-acf1ab813314",
   "metadata": {},
   "source": [
    "## Comparison with Interpolation"
   ]
  },
  {
   "cell_type": "code",
   "execution_count": null,
   "id": "2cd98e3d-6371-4d55-be1a-7af3d86086bb",
   "metadata": {},
   "outputs": [],
   "source": [
    "f = x-> π^2 * sin(π * x);\n",
    "a = 0;\n",
    "b = 1;\n",
    "n_vals = [5, 10, 20, 40, 80, 160, 320, 640] .-1;\n",
    "Δx_vals = @. (b-a) / ( n_vals +1);\n",
    "\n",
    "n_h = 5 * (2^10) - 1;\n",
    "@show n_h;\n",
    "Δx_h = (b-a)/(n_h + 1);\n",
    "@show Δx_h;"
   ]
  },
  {
   "cell_type": "code",
   "execution_count": null,
   "id": "5dba8149-6648-4057-b4ed-29f73215fbb0",
   "metadata": {},
   "outputs": [],
   "source": [
    "# construct the high res solution and its interpolant\n",
    "problem_h = FiniteDifferenceBVPProblem(a, b, n_h, f);\n",
    "assemble_system!(problem_h);\n",
    "u_h = solve_bvp(problem_h);\n",
    "u_itp = Spline1D([a; problem_h.x;b], [0; u_h; 0], k=1);"
   ]
  },
  {
   "cell_type": "code",
   "execution_count": null,
   "id": "7609312b-b7cf-40f1-bc5c-217307ece8e2",
   "metadata": {},
   "outputs": [],
   "source": [
    "err_vals = [];\n",
    "for n in n_vals\n",
    "    problem = FiniteDifferenceBVPProblem(a, b, n, f);\n",
    "    assemble_system!(problem);\n",
    "    u = solve_bvp(problem);\n",
    "    err = norm(u .- u_itp.(problem.x), Inf);\n",
    "    push!(err_vals, err);\n",
    "end"
   ]
  },
  {
   "cell_type": "code",
   "execution_count": null,
   "id": "d64a7b9d-bdb4-49d0-a34d-113c34ca4e61",
   "metadata": {},
   "outputs": [],
   "source": [
    "scatter(Δx_vals, err_vals, xscale=:log10, yscale=:log10, \n",
    "    label=\"Computed Error\",legend=:bottomright)\n",
    "plot!(Δx_vals, Δx_vals.^2, label=L\"$\\propto \\Delta x^2$\")\n",
    "xlabel!(L\"$\\Delta x$\")\n",
    "title!(\"Error with Interpolated Surrogate Solution\")"
   ]
  },
  {
   "cell_type": "markdown",
   "id": "3f918609-26cc-441a-85f6-1f8546175f7a",
   "metadata": {},
   "source": [
    "## Comparison with Mathced Meshes\n",
    "Observe that with the values of `n` above, the meshes are conformal:"
   ]
  },
  {
   "cell_type": "code",
   "execution_count": null,
   "id": "164c9bc1-e3c1-404c-96db-9d568dd21d07",
   "metadata": {},
   "outputs": [],
   "source": [
    "n = n_vals[1];\n",
    "problem = FiniteDifferenceBVPProblem(a, b, n, f);\n",
    "@show problem.x;\n",
    "@show problem_h.x;\n",
    "@show problem.Δx/problem_h.Δx"
   ]
  },
  {
   "cell_type": "markdown",
   "id": "2692ec94-3c33-4ac8-baf0-2b7af48b4f9a",
   "metadata": {},
   "source": [
    "Consequently, there are exactly `1024` fine mesh spacings between the coarse mesh points:"
   ]
  },
  {
   "cell_type": "code",
   "execution_count": null,
   "id": "fac69dae-55aa-43ca-87b4-811086a293b8",
   "metadata": {},
   "outputs": [],
   "source": [
    "@show problem.x|>collect;\n",
    "@show problem_h.x[1024:1024:end]|>collect;"
   ]
  },
  {
   "cell_type": "markdown",
   "id": "a4979ea9-6985-46af-8fc4-5afd697488e4",
   "metadata": {},
   "source": [
    "Conseqeuntly, we see that to compare the results at the same `x` values, we should space them out by a factor of `1024`.\n",
    "\n",
    "Note that we use `|>collect` to see the concrete set of values instead of a `LinRange` type."
   ]
  },
  {
   "cell_type": "code",
   "execution_count": null,
   "id": "b4b751bf-be22-4e64-9236-02a600fd8d47",
   "metadata": {},
   "outputs": [],
   "source": [
    "err_vals = [];\n",
    "for n in n_vals\n",
    "    problem = FiniteDifferenceBVPProblem(a, b, n, f);\n",
    "    assemble_system!(problem);\n",
    "    u = solve_bvp(problem);\n",
    "    n_coarse = Int(problem.Δx /problem_h.Δx); # cast to an integer\n",
    "    err = norm(u .- u_h[n_coarse:n_coarse:end], Inf);\n",
    "    push!(err_vals, err);\n",
    "end"
   ]
  },
  {
   "cell_type": "code",
   "execution_count": null,
   "id": "47475f04-09de-453f-9d60-b4ae6d9527a2",
   "metadata": {},
   "outputs": [],
   "source": [
    "scatter(Δx_vals, err_vals, xscale=:log10, yscale=:log10, \n",
    "    label=\"Computed Error\",legend=:bottomright)\n",
    "plot!(Δx_vals, Δx_vals.^2, label=L\"$\\propto \\Delta x^2$\")\n",
    "xlabel!(L\"$\\Delta x$\")\n",
    "title!(\"Error with Matched Surrogate Solution\")"
   ]
  },
  {
   "cell_type": "markdown",
   "id": "6ea9c7c1-c5a5-4d31-a229-6ea1de9f097c",
   "metadata": {},
   "source": [
    "## Comparison with Periodic Boundary Conditions\n",
    "The same strategy can be used with other boundary conditions and other problems.  Consider the problem:\n",
    "$$\n",
    "-u'' = (2\\pi)^2 \\sin(2\\pi x)\n",
    "$$\n",
    "with periodic boundary conditions.  \n",
    "\n",
    "The one subtlety here is that you will want to use the `periodic=true` option in the interpolated approach, and you will also want to make sure to pass in the periodicity.  In the matched appraoch, you will also want to include the value at the left endpoint for comparison."
   ]
  },
  {
   "cell_type": "markdown",
   "id": "8af6ec33-6e66-4f94-8a9a-02953b2c027b",
   "metadata": {},
   "source": [
    "### Comparison with Interpolation"
   ]
  },
  {
   "cell_type": "code",
   "execution_count": null,
   "id": "fc702c19-73df-4247-bb88-06ef8a248b9d",
   "metadata": {},
   "outputs": [],
   "source": [
    "f = x-> (2*π)^2 * sin(2*π * x);\n",
    "a = 0;\n",
    "b = 1;\n",
    "n_vals = [5, 10, 20, 40, 80, 160, 320, 640] .-1;\n",
    "Δx_vals = @. (b-a) / ( n_vals +1);\n",
    "\n",
    "n_h = 5 * (2^10) - 1;\n",
    "@show n_h;\n",
    "Δx_h = (b-a)/(n_h + 1);\n",
    "@show Δx_h;"
   ]
  },
  {
   "cell_type": "code",
   "execution_count": null,
   "id": "2a68f7f3-6906-4a60-817b-5b4b150e8d95",
   "metadata": {},
   "outputs": [],
   "source": [
    "# construct the high res solution and its interpolant\n",
    "problem_h = FiniteDifferenceBVPProblem(a, b, n_h, f, PeriodicBC(), PeriodicBC());\n",
    "assemble_system!(problem_h);\n",
    "u_h = solve_bvp(problem_h);\n",
    "u_itp = Spline1D([problem_h.x;b], [u_h; u_h[1]], k=1, periodic=true);"
   ]
  },
  {
   "cell_type": "code",
   "execution_count": null,
   "id": "9f3f9875-4b78-4152-a3e1-a0ba2450abc5",
   "metadata": {},
   "outputs": [],
   "source": [
    "err_vals = [];\n",
    "for n in n_vals\n",
    "    problem = FiniteDifferenceBVPProblem(a, b, n, f, PeriodicBC(), PeriodicBC());\n",
    "    assemble_system!(problem);\n",
    "    u = solve_bvp(problem);\n",
    "    err = norm((u .-u[1]) .- (u_itp.(problem.x) .- u_itp(a)), Inf);\n",
    "    push!(err_vals, err);\n",
    "end"
   ]
  },
  {
   "cell_type": "markdown",
   "id": "f820d39f-8203-44a6-95f1-db26aeab2fe9",
   "metadata": {},
   "source": [
    "Note that we have to shift both solutions (i.e. `u .- u[1]`) to correct for the fact that there is a kernel and both solutions are only known up to an additive constant."
   ]
  },
  {
   "cell_type": "code",
   "execution_count": null,
   "id": "d8495408-ad73-4089-b38b-a0555c0b624c",
   "metadata": {},
   "outputs": [],
   "source": [
    "scatter(Δx_vals, err_vals, xscale=:log10, yscale=:log10, \n",
    "    label=\"Computed Error\",legend=:bottomright)\n",
    "plot!(Δx_vals, Δx_vals.^2, label=L\"$\\propto \\Delta x^2$\")\n",
    "xlabel!(L\"$\\Delta x$\")\n",
    "title!(\"Error with Interpolated Surrogate Solution\")"
   ]
  },
  {
   "cell_type": "markdown",
   "id": "8106658e-0d6e-411e-b32d-6bc72e894d0c",
   "metadata": {},
   "source": [
    "### Comparison with Matched Solution"
   ]
  },
  {
   "cell_type": "code",
   "execution_count": null,
   "id": "a29a9191-94cd-4dde-9094-ce557b763c46",
   "metadata": {},
   "outputs": [],
   "source": [
    "n = n_vals[1];\n",
    "problem = FiniteDifferenceBVPProblem(a, b, n, f,PeriodicBC(), PeriodicBC());\n",
    "@show problem.x;\n",
    "@show problem_h.x;\n",
    "@show problem.Δx/problem_h.Δx\n",
    "@show problem.x|>collect;\n",
    "@show problem_h.x[1:1024:end]|>collect;"
   ]
  },
  {
   "cell_type": "code",
   "execution_count": null,
   "id": "acc4d2b4-c419-4700-b225-55f150165a7d",
   "metadata": {},
   "outputs": [],
   "source": [
    "err_vals = [];\n",
    "for n in n_vals\n",
    "    problem = FiniteDifferenceBVPProblem(a, b, n, f,PeriodicBC(), PeriodicBC());\n",
    "    assemble_system!(problem);\n",
    "    u = solve_bvp(problem);\n",
    "    n_coarse = Int(problem.Δx /problem_h.Δx); # cast to an integer\n",
    "    err = norm( (u.-u[1]) .- (u_h[1:n_coarse:end] .-u_h[1]), Inf);\n",
    "    push!(err_vals, err);\n",
    "end"
   ]
  },
  {
   "cell_type": "code",
   "execution_count": null,
   "id": "eb61e3ed-7507-4318-8e51-2487c75db718",
   "metadata": {},
   "outputs": [],
   "source": [
    "scatter(Δx_vals, err_vals, xscale=:log10, yscale=:log10, \n",
    "    label=\"Computed Error\",legend=:bottomright)\n",
    "plot!(Δx_vals, Δx_vals.^2, label=L\"$\\propto \\Delta x^2$\")\n",
    "xlabel!(L\"$\\Delta x$\")\n",
    "title!(\"Error with Matched Surrogate Solution\")"
   ]
  }
 ],
 "metadata": {
  "kernelspec": {
   "display_name": "Julia 1.6.3",
   "language": "julia",
   "name": "julia-1.6"
  },
  "language_info": {
   "file_extension": ".jl",
   "mimetype": "application/julia",
   "name": "julia",
   "version": "1.6.3"
  }
 },
 "nbformat": 4,
 "nbformat_minor": 5
}
