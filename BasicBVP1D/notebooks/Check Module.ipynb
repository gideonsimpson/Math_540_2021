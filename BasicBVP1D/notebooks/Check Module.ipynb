{
 "cells": [
  {
   "cell_type": "code",
   "execution_count": null,
   "id": "2a06b7c2-2d11-48f3-979c-91a64d8095ee",
   "metadata": {},
   "outputs": [],
   "source": [
    "using Plots; pyplot()\n",
    "using LaTeXStrings\n",
    "using BasicBVP1D"
   ]
  },
  {
   "cell_type": "code",
   "execution_count": null,
   "id": "c5dff28c-ef9f-4844-a9b0-e0ee5c803a78",
   "metadata": {},
   "outputs": [],
   "source": [
    "default(xtickfont=font(14),  ytickfont=font(14), guidefont=font(14), \n",
    "    legendfont=font(12), lw=2,ms=8)"
   ]
  },
  {
   "cell_type": "code",
   "execution_count": null,
   "id": "df976cb0-4f4e-49d2-8eee-f881eccdb47f",
   "metadata": {},
   "outputs": [],
   "source": [
    "x = LinRange(0,1,11);\n",
    "f = x;\n",
    "problem = FiniteDifferenceBVPProblem(0, 1, 9, f[2:end-1]);"
   ]
  },
  {
   "cell_type": "code",
   "execution_count": null,
   "id": "d6fba8bb-0004-4fcf-9bda-234e444124cf",
   "metadata": {},
   "outputs": [],
   "source": [
    "assemble_system!(problem);"
   ]
  },
  {
   "cell_type": "code",
   "execution_count": null,
   "id": "f08e4edc-d87f-4abb-8e13-57976c010374",
   "metadata": {},
   "outputs": [],
   "source": [
    "u = solve_bvp(problem);"
   ]
  },
  {
   "cell_type": "code",
   "execution_count": null,
   "id": "7b687f3e-677d-4754-a505-5bfb23075409",
   "metadata": {},
   "outputs": [],
   "source": [
    "plot(problem.x, u)"
   ]
  },
  {
   "cell_type": "code",
   "execution_count": null,
   "id": "f11bfd66-c07a-4192-b375-e0f884508d58",
   "metadata": {},
   "outputs": [],
   "source": [
    "n = 19;\n",
    "f = 2*ones(n)\n",
    "problem = FiniteDifferenceBVPProblem(0, 1, n, f);\n",
    "assemble_system!(problem);\n",
    "u = solve_bvp(problem);"
   ]
  },
  {
   "cell_type": "code",
   "execution_count": null,
   "id": "cb3a845d-43df-4b1f-8588-4dff2e213def",
   "metadata": {},
   "outputs": [],
   "source": [
    "plt = plot(problem.x , problem.x .* (1 .-problem.x), \n",
    "    label=\"Exact Solution\", legend=:bottom);\n",
    "scatter!(problem.x, u,label=\"Finite Difference Solution\")\n",
    "xlabel!(L\"$x$\")\n",
    "ylabel!(L\"$u$\")\n",
    "savefig(\"parabola1.pdf\")"
   ]
  },
  {
   "cell_type": "code",
   "execution_count": null,
   "id": "a5745b4a-c81a-43cb-9261-6cb305c2497f",
   "metadata": {},
   "outputs": [],
   "source": [
    "using LinearAlgebra # add for norm function"
   ]
  },
  {
   "cell_type": "code",
   "execution_count": null,
   "id": "3165112c-d704-4457-87c1-51821116d4ba",
   "metadata": {},
   "outputs": [],
   "source": [
    "err = @. problem.x * (1-problem.x) - u;\n",
    "@show norm(err, Inf);"
   ]
  },
  {
   "cell_type": "code",
   "execution_count": null,
   "id": "bc14743a-ac87-47dd-8c22-792d350b3d7a",
   "metadata": {},
   "outputs": [],
   "source": []
  }
 ],
 "metadata": {
  "kernelspec": {
   "display_name": "Julia 1.6.3",
   "language": "julia",
   "name": "julia-1.6"
  },
  "language_info": {
   "file_extension": ".jl",
   "mimetype": "application/julia",
   "name": "julia",
   "version": "1.6.3"
  }
 },
 "nbformat": 4,
 "nbformat_minor": 5
}
