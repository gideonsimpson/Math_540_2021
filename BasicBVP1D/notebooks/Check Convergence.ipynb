{
 "cells": [
  {
   "cell_type": "code",
   "execution_count": null,
   "id": "ec98cd18-55d6-4ddc-9164-54b1e3345e7a",
   "metadata": {},
   "outputs": [],
   "source": [
    "using Plots; pyplot()\n",
    "using LaTeXStrings\n",
    "using BasicBVP1D\n",
    "using LinearAlgebra"
   ]
  },
  {
   "cell_type": "code",
   "execution_count": null,
   "id": "8bc176c8-4da1-4a62-a852-6a26a97bb5f4",
   "metadata": {},
   "outputs": [],
   "source": [
    "default(xtickfont=font(14),  ytickfont=font(14), guidefont=font(14), \n",
    "    legendfont=font(12), lw=2,ms=8)"
   ]
  },
  {
   "cell_type": "markdown",
   "id": "95d1dcb1-22df-4b68-84de-ae016963fea5",
   "metadata": {},
   "source": [
    "# Test Problem for Convergence\n",
    "$$\n",
    "-u'' = \\pi^2 \\sin(\\pi x), \\quad 0<x<1, \\quad u(0) = u(1) =0\n",
    "$$\n",
    "which has the exact solution, $u = \\sin(\\pi x)$."
   ]
  },
  {
   "cell_type": "code",
   "execution_count": null,
   "id": "d35ca274-b955-4518-924b-3ce9c3acbce1",
   "metadata": {},
   "outputs": [],
   "source": [
    "f = x-> π^2 * sin(π * x);\n",
    "u_exact = x-> sin(π * x);\n",
    "a = 0;\n",
    "b = 1;\n",
    "n_vals = [5, 10, 20, 40, 80, 160, 320, 640] .-1;\n",
    "Δx_vals = @. (b-a) / ( n_vals +1);"
   ]
  },
  {
   "cell_type": "code",
   "execution_count": null,
   "id": "c6caa121-1508-49e6-a4ee-d6ed32a98cd6",
   "metadata": {},
   "outputs": [],
   "source": [
    "err_vals = [];\n",
    "for n in n_vals\n",
    "    problem = FiniteDifferenceBVPProblem(0, 1, n, f);\n",
    "    assemble_system!(problem);\n",
    "    u = solve_bvp(problem);\n",
    "    err = norm(u .- u_exact.(problem.x), Inf);\n",
    "    push!(err_vals, err);\n",
    "end"
   ]
  },
  {
   "cell_type": "code",
   "execution_count": null,
   "id": "e66c1b3c-35b3-4055-aee9-da7957c02333",
   "metadata": {},
   "outputs": [],
   "source": [
    "scatter(Δx_vals, err_vals, xscale=:log10, yscale=:log10, \n",
    "    label=\"Computed Error\",legend=:bottomright)\n",
    "plot!(Δx_vals, Δx_vals.^2, label=L\"$\\propto \\Delta x^2$\")\n",
    "xlabel!(L\"$\\Delta x$\")\n",
    "# savefig(\"finite_diff_err.pdf\")"
   ]
  },
  {
   "cell_type": "markdown",
   "id": "ccb43cb9-7bd4-4771-8c70-cedfc2da7945",
   "metadata": {},
   "source": [
    "## Checking Stability of the Problme\n",
    "Need to show that\n",
    "$$\n",
    "\\|A^{-1}\\|_{\\infty} \\leq C\n",
    "$$\n",
    "for a constant $C$ independent of $\\Delta x$."
   ]
  },
  {
   "cell_type": "code",
   "execution_count": null,
   "id": "b1231905-6dd2-4b8f-b499-7b0c148f8ddd",
   "metadata": {},
   "outputs": [],
   "source": [
    "for n in n_vals\n",
    "    problem = FiniteDifferenceBVPProblem(0, 1, n, f);\n",
    "    assemble_system!(problem);\n",
    "    @show opnorm(inv(problem.A), Inf)\n",
    "end"
   ]
  },
  {
   "cell_type": "code",
   "execution_count": null,
   "id": "10969f39-1c5c-42f3-93b8-3f02bdfbdd3b",
   "metadata": {},
   "outputs": [],
   "source": []
  }
 ],
 "metadata": {
  "kernelspec": {
   "display_name": "Julia 1.6.3",
   "language": "julia",
   "name": "julia-1.6"
  },
  "language_info": {
   "file_extension": ".jl",
   "mimetype": "application/julia",
   "name": "julia",
   "version": "1.6.3"
  }
 },
 "nbformat": 4,
 "nbformat_minor": 5
}
