{
 "cells": [
  {
   "cell_type": "code",
   "execution_count": null,
   "id": "1f3fbd9f-732e-4247-9277-bf91a68eff4a",
   "metadata": {},
   "outputs": [],
   "source": [
    "using Plots; pyplot()\n",
    "using LaTeXStrings\n",
    "using LinearAlgebra\n",
    "using BasicBVP1D"
   ]
  },
  {
   "cell_type": "code",
   "execution_count": null,
   "id": "8708cceb-37d5-4b3f-9858-eb9623d91da0",
   "metadata": {},
   "outputs": [],
   "source": [
    "default(xtickfont=font(14),  ytickfont=font(14), guidefont=font(14), \n",
    "    legendfont=font(12), lw=2,ms=8)"
   ]
  },
  {
   "cell_type": "code",
   "execution_count": null,
   "id": "a56cccf7-f223-4a66-8638-f42703d6908b",
   "metadata": {},
   "outputs": [],
   "source": [
    "f = x-> 0;\n",
    "u_exact = x-> x;\n",
    "\n",
    "a = 0;\n",
    "b = 1;\n",
    "n = 9;\n",
    "\n",
    "problem = FiniteDifferenceBVPProblem(0, 1, n, f, NeumannBC(1), NeumannBC(1));\n",
    "assemble_system!(problem);\n",
    "u = solve_bvp(problem);\n",
    "err =  @. u - u[1] -  u_exact.(problem.x);\n",
    "@show norm(err,Inf)\n",
    "\n",
    "plot(problem.x, u_exact.(problem.x), label=\"Exact\")\n",
    "scatter!(problem.x, u ,label=\"FD Soln\", legend=:bottomright)"
   ]
  },
  {
   "cell_type": "code",
   "execution_count": null,
   "id": "f3c45910-4d37-444e-9dc5-1bd29b67bd64",
   "metadata": {},
   "outputs": [],
   "source": [
    "f = x-> 0;\n",
    "u_exact = x-> x;\n",
    "\n",
    "a = 0;\n",
    "b = 1;\n",
    "n = 9;\n",
    "\n",
    "problem = SparseFiniteDifferenceBVPProblem(0, 1, n, f, NeumannBC(1), NeumannBC(1));\n",
    "assemble_system!(problem);\n",
    "u = solve_bvp(problem);\n",
    "err =  @. u - u[1] -  u_exact.(problem.x);\n",
    "@show norm(err,Inf)\n",
    "\n",
    "plot(problem.x, u_exact.(problem.x), label=\"Exact\")\n",
    "scatter!(problem.x, u ,label=\"FD Soln\", legend=:bottomright)"
   ]
  },
  {
   "cell_type": "code",
   "execution_count": null,
   "id": "aed160fe-97dd-46ef-92f3-faf0a73cd624",
   "metadata": {},
   "outputs": [],
   "source": [
    "f = x-> π^2 * cos(π * x);\n",
    "u_exact = x-> cos(π * x);\n",
    "\n",
    "a = 0;\n",
    "b = 1;\n",
    "n = 9;\n",
    "\n",
    "problem = FiniteDifferenceBVPProblem(a, b, n, f, NeumannBC(0), NeumannBC(0));\n",
    "assemble_system!(problem);\n",
    "u = solve_bvp(problem);\n",
    "err = @. (u - u[1]) -  (u_exact.(problem.x)-u_exact(problem.x[1]))\n",
    "@show norm(err,Inf)\n",
    "plot(problem.x, (@. u_exact.(problem.x)-u_exact(problem.x[1])), label=\"Exact\")\n",
    "scatter!(problem.x, (@. u-u[1]),label=\"FD Soln\")"
   ]
  }
 ],
 "metadata": {
  "kernelspec": {
   "display_name": "Julia 1.6.3",
   "language": "julia",
   "name": "julia-1.6"
  },
  "language_info": {
   "file_extension": ".jl",
   "mimetype": "application/julia",
   "name": "julia",
   "version": "1.6.3"
  }
 },
 "nbformat": 4,
 "nbformat_minor": 5
}
