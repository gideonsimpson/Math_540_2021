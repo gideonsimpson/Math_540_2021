{
 "cells": [
  {
   "cell_type": "code",
   "execution_count": null,
   "id": "ec98cd18-55d6-4ddc-9164-54b1e3345e7a",
   "metadata": {},
   "outputs": [],
   "source": [
    "using Revise\n",
    "using BasicBVP1D\n",
    "using BenchmarkTools"
   ]
  },
  {
   "cell_type": "markdown",
   "id": "95d1dcb1-22df-4b68-84de-ae016963fea5",
   "metadata": {},
   "source": [
    "# Test Problem Performance\n",
    "$$\n",
    "-u'' = \\pi^2 \\sin(\\pi x), \\quad 0<x<1, \\quad u(0) = u(1) =0\n",
    "$$\n",
    "which has the exact solution, $u = \\sin(\\pi x)$."
   ]
  },
  {
   "cell_type": "code",
   "execution_count": null,
   "id": "d35ca274-b955-4518-924b-3ce9c3acbce1",
   "metadata": {},
   "outputs": [],
   "source": [
    "f = x-> π^2 * sin(π * x);\n",
    "u_exact = x-> sin(π * x);\n",
    "a = 0;\n",
    "b = 1;\n",
    "n_vals = [5, 10, 20, 40, 80, 160, 320, 640] .-1;\n",
    "Δx_vals = @. (b-a) / ( n_vals +1);"
   ]
  },
  {
   "cell_type": "code",
   "execution_count": null,
   "id": "c6caa121-1508-49e6-a4ee-d6ed32a98cd6",
   "metadata": {},
   "outputs": [],
   "source": [
    "for n in n_vals\n",
    "    problem = FiniteDifferenceBVPProblem(0, 1, n, f);\n",
    "    assemble_system!(problem);\n",
    "    @btime u = solve_bvp($problem);\n",
    "end"
   ]
  },
  {
   "cell_type": "code",
   "execution_count": null,
   "id": "9b12426b-d9b3-457a-b9ff-95cc52a2872a",
   "metadata": {},
   "outputs": [],
   "source": [
    "for n in n_vals\n",
    "    problem = SparseFiniteDifferenceBVPProblem(0, 1, n, f);\n",
    "    assemble_system!(problem);\n",
    "    @btime u = solve_bvp($problem);\n",
    "end"
   ]
  },
  {
   "cell_type": "code",
   "execution_count": null,
   "id": "a3404797-bf56-4249-a94b-f3f83995b05b",
   "metadata": {},
   "outputs": [],
   "source": [
    "for n in n_vals\n",
    "    problem = FiniteDifferenceBVPProblem(0, 1, n, f);\n",
    "    @btime assemble_system!($problem);\n",
    "end"
   ]
  },
  {
   "cell_type": "code",
   "execution_count": null,
   "id": "7d1d3f3b-5bb3-4a4f-9add-aa0abc241137",
   "metadata": {},
   "outputs": [],
   "source": [
    "for n in n_vals\n",
    "    problem = SparseFiniteDifferenceBVPProblem(0, 1, n, f);\n",
    "    @btime assemble_system!($problem);\n",
    "end"
   ]
  },
  {
   "cell_type": "code",
   "execution_count": null,
   "id": "20eeb330-decc-41ab-9f66-f1ee039960e0",
   "metadata": {},
   "outputs": [],
   "source": [
    "for n in n_vals\n",
    "    @btime problem = FiniteDifferenceBVPProblem(0, 1, $n, $f);\n",
    "end"
   ]
  },
  {
   "cell_type": "code",
   "execution_count": null,
   "id": "76cd903b-4572-45ea-b890-e2ca5c85f3d5",
   "metadata": {},
   "outputs": [],
   "source": [
    "for n in n_vals\n",
    "    @btime problem = SparseFiniteDifferenceBVPProblem(0, 1, $n, $f);\n",
    "end"
   ]
  },
  {
   "cell_type": "code",
   "execution_count": null,
   "id": "dda7c814-3ae0-44a7-9aac-7923b0388ae5",
   "metadata": {},
   "outputs": [],
   "source": []
  }
 ],
 "metadata": {
  "kernelspec": {
   "display_name": "Julia 1.6.3",
   "language": "julia",
   "name": "julia-1.6"
  },
  "language_info": {
   "file_extension": ".jl",
   "mimetype": "application/julia",
   "name": "julia",
   "version": "1.6.3"
  }
 },
 "nbformat": 4,
 "nbformat_minor": 5
}
