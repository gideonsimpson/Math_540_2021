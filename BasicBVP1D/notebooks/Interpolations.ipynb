{
 "cells": [
  {
   "cell_type": "code",
   "execution_count": null,
   "source": [
    "using Plots; pyplot()\n",
    "using LaTeXStrings\n",
    "using BasicBVP1D\n",
    "using Interpolations\n",
    "using Dierckx"
   ],
   "outputs": [],
   "metadata": {}
  },
  {
   "cell_type": "code",
   "execution_count": null,
   "source": [
    "default(xtickfont=font(14),  ytickfont=font(14), guidefont=font(14), \n",
    "    legendfont=font(12), lw=2,ms=8)"
   ],
   "outputs": [],
   "metadata": {}
  },
  {
   "cell_type": "code",
   "execution_count": null,
   "source": [
    "f = x-> π^2 * sin(π * x);\n",
    "u_exact = x-> sin(π * x);\n",
    "\n",
    "a = 0;\n",
    "b = 1;\n",
    "n = 5;\n",
    "\n",
    "problem = FiniteDifferenceBVPProblem(0, 1, n, f);\n",
    "assemble_system!(problem);\n",
    "u = solve_bvp(problem);\n",
    "plot(problem.x, u,label=\"FD Soln\")"
   ],
   "outputs": [],
   "metadata": {}
  },
  {
   "cell_type": "code",
   "execution_count": null,
   "source": [
    "u_l1 = Spline1D([a; problem.x; b], [0;u;0],k=1); #Dierckx\n",
    "u_l2 = LinearInterpolation([a; problem.x; b], [0;u;0]); #Interpolations"
   ],
   "outputs": [],
   "metadata": {}
  },
  {
   "cell_type": "code",
   "execution_count": null,
   "source": [
    "xx = LinRange(a,b,100);\n",
    "plot(problem.x, u,label=\"FD Soln\")\n",
    "plot!(xx, u_l1(xx), label=\"Interpolation 1\")\n",
    "plot!(xx, u_l2(xx), label=\"Interpolation 2\")\n",
    "plot!(xx, u_exact,label=\"Exact\")"
   ],
   "outputs": [],
   "metadata": {}
  },
  {
   "cell_type": "code",
   "execution_count": null,
   "source": [
    "u_c1 = Spline1D([a; problem.x; b], [0;u;0],k=3);"
   ],
   "outputs": [],
   "metadata": {}
  },
  {
   "cell_type": "code",
   "execution_count": null,
   "source": [
    "xx = LinRange(a,b,100);\n",
    "plot(problem.x, u,label=\"FD Soln\")\n",
    "plot!(xx, u_c1(xx), label=\"Cubic Spline\")\n",
    "plot!(xx, u_exact,label=\"Exact\")"
   ],
   "outputs": [],
   "metadata": {}
  }
 ],
 "metadata": {
  "kernelspec": {
   "display_name": "Julia 1.6.3",
   "language": "julia",
   "name": "julia-1.6"
  },
  "language_info": {
   "file_extension": ".jl",
   "mimetype": "application/julia",
   "name": "julia",
   "version": "1.6.3"
  }
 },
 "nbformat": 4,
 "nbformat_minor": 5
}