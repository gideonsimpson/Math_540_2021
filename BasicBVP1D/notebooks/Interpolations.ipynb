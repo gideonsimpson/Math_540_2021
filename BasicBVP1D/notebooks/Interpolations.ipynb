{
 "cells": [
  {
   "cell_type": "code",
   "execution_count": null,
   "id": "edb2370b-a622-4375-b86f-815a3c337e30",
   "metadata": {},
   "outputs": [],
   "source": [
    "using Plots; pyplot()\n",
    "using LaTeXStrings\n",
    "using BasicBVP1D\n",
    "using Interpolations\n",
    "using Dierckx"
   ]
  },
  {
   "cell_type": "code",
   "execution_count": null,
   "id": "f501ce0e-8cdc-4190-919c-0f3fa11107bb",
   "metadata": {},
   "outputs": [],
   "source": [
    "default(xtickfont=font(14),  ytickfont=font(14), guidefont=font(14), \n",
    "    legendfont=font(12), lw=2,ms=8)"
   ]
  },
  {
   "cell_type": "code",
   "execution_count": null,
   "id": "91f65568-a203-4bdc-ba8e-3a46cbe2307e",
   "metadata": {},
   "outputs": [],
   "source": [
    "f = x-> π^2 * sin(π * x);\n",
    "u_exact = x-> sin(π * x);\n",
    "\n",
    "a = 0;\n",
    "b = 1;\n",
    "n = 5;\n",
    "\n",
    "problem = FiniteDifferenceBVPProblem(0, 1, n, f);\n",
    "assemble_system!(problem);\n",
    "u = solve_bvp(problem);\n",
    "plot(problem.x, u,label=\"FD Soln\")"
   ]
  },
  {
   "cell_type": "code",
   "execution_count": null,
   "id": "df0d8e29-4cec-4efa-8e64-0e04aba3839b",
   "metadata": {},
   "outputs": [],
   "source": [
    "u_l1 = Spline1D([a; problem.x; b], [0;u;0],k=1); #Dierckx\n",
    "u_l2 = LinearInterpolation([a; problem.x; b], [0;u;0]); #Interpolations"
   ]
  },
  {
   "cell_type": "code",
   "execution_count": null,
   "id": "737a216d-5766-452e-87b6-4d5fb8956e45",
   "metadata": {},
   "outputs": [],
   "source": [
    "xx = LinRange(a,b,100);\n",
    "plot(problem.x, u,label=\"FD Soln\")\n",
    "plot!(xx, u_l1(xx), label=\"Interpolation 1\")\n",
    "plot!(xx, u_l2(xx), label=\"Interpolation 2\")\n",
    "plot!(xx, u_exact,label=\"Exact\")"
   ]
  },
  {
   "cell_type": "code",
   "execution_count": null,
   "id": "f73e2ef6-00e6-4f33-a2c5-0d20ae68980f",
   "metadata": {},
   "outputs": [],
   "source": [
    "u_c1 = Spline1D([a; problem.x; b], [0;u;0],k=3);"
   ]
  },
  {
   "cell_type": "code",
   "execution_count": null,
   "id": "bbd7bd67-cbe4-4f06-bdf4-6f7d50be4e22",
   "metadata": {},
   "outputs": [],
   "source": [
    "xx = LinRange(a,b,100);\n",
    "plot(problem.x, u,label=\"FD Soln\")\n",
    "plot!(xx, u_c1(xx), label=\"Cubic Spline\")\n",
    "plot!(xx, u_exact,label=\"Exact\")"
   ]
  }
 ],
 "metadata": {
  "kernelspec": {
   "display_name": "Julia 1.6.3",
   "language": "julia",
   "name": "julia-1.6"
  },
  "language_info": {
   "file_extension": ".jl",
   "mimetype": "application/julia",
   "name": "julia",
   "version": "1.6.3"
  }
 },
 "nbformat": 4,
 "nbformat_minor": 5
}
