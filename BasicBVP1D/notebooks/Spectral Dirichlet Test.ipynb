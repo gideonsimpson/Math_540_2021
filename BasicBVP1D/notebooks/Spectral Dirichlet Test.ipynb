{
 "cells": [
  {
   "cell_type": "code",
   "execution_count": null,
   "id": "b70142d1-af38-491a-914c-e2deb45a5add",
   "metadata": {},
   "outputs": [],
   "source": [
    "using Plots; pyplot()\n",
    "using LaTeXStrings\n",
    "using BasicBVP1D\n",
    "using LinearAlgebra"
   ]
  },
  {
   "cell_type": "code",
   "execution_count": null,
   "id": "3cd6d8cb-a1a7-4d46-92a0-dbce62d158cc",
   "metadata": {},
   "outputs": [],
   "source": [
    "default(xtickfont=font(14),  ytickfont=font(14), guidefont=font(14), \n",
    "    legendfont=font(12), lw=2,ms=8)"
   ]
  },
  {
   "cell_type": "code",
   "execution_count": null,
   "id": "67a39080-a192-4008-96bb-4f26e4c983f0",
   "metadata": {},
   "outputs": [],
   "source": [
    "f = x-> (π)^2 * sin(π * x);\n",
    "u_exact = x-> sin(π * x);\n",
    "\n",
    "a = 0.;\n",
    "b = 1.;\n",
    "n = 7;\n",
    "\n",
    "problem = SpectralBVPProblem(a, b, n, f, DirichletBC(0), DirichletBC(0));\n",
    "assemble_system!(problem);\n",
    "u = solve_bvp(problem);\n",
    "plot(problem.x, u_exact.(problem.x), label=\"Exact\")\n",
    "scatter!(problem.x, real.(u),label=\"FD Soln\")"
   ]
  },
  {
   "cell_type": "code",
   "execution_count": null,
   "id": "6e03b5eb-f53d-4fe9-8167-d35835d53a7f",
   "metadata": {},
   "outputs": [],
   "source": [
    "err = @. u - u_exact(problem.x);\n",
    "@show norm(err, Inf)"
   ]
  }
 ],
 "metadata": {
  "kernelspec": {
   "display_name": "Julia 1.6.3",
   "language": "julia",
   "name": "julia-1.6"
  },
  "language_info": {
   "file_extension": ".jl",
   "mimetype": "application/julia",
   "name": "julia",
   "version": "1.6.3"
  }
 },
 "nbformat": 4,
 "nbformat_minor": 5
}
